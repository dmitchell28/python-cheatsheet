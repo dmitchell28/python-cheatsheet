{
 "cells": [
  {
   "cell_type": "markdown",
   "metadata": {},
   "source": [
    "# About [![Binder](https://mybinder.org/badge.svg)](https://mybinder.org/v2/gh/wilfredinni/python-cheatsheet/master)\n",
    "\n",
    "Basic cheatsheet for Python mostly based on the book written by Al Sweigart, [Automate the Boring Stuff with Python](https://automatetheboringstuff.com/) under the [Creative Commons license](https://creativecommons.org/licenses/by-nc-sa/3.0/) and many other sources.\n",
    "\n",
    "## Contribute\n",
    "\n",
    "All contributions are welcome:\n",
    "\n",
    "- Read the issues, Fork the project and do a Pull Request.\n",
    "- Request a new topic creating a `New issue` with the  `enhancement` tag.\n",
    "- Find any kind of errors in the cheat sheet and create a `New issue` with the details or fork the project and do a Pull Request.\n",
    "- Suggest a better or more pythonic way for existing examples.\n",
    "\n",
    "## Read It\n",
    "\n",
    "- [Online](https://wilfredinni.github.io/python-cheatsheet/)\n",
    "- [Github](https://github.com/wilfredinni/python-cheatsheet)\n",
    "- [PDF](https://github.com/wilfredinni/Python-cheatsheet/raw/master/python_cheat_sheet.pdf)\n",
    "- [Jupyter Notebook](https://mybinder.org/v2/gh/wilfredinni/python-cheatsheet/master?filepath=python_cheat_sheet.ipynb)\n",
    "\n",
    "## Python Cheatsheet\n",
    "\n",
    "- [Python Basics](#python-basics)\n",
    "    - [Math Operators](#math-operators)\n",
    "    - [Data Types](#data-types)\n",
    "    - [String Concatenation and Replication](#string-concatenation-and-replication)\n",
    "    - [Variables](#variables)\n",
    "    - [Comments](#comments)\n",
    "    - [The print() Function](#the-print-function)\n",
    "    - [The input() Function](#the-input-function)\n",
    "    - [The len() Function](#the-len-function)\n",
    "    - [The str(), int(), and float() Functions](#the-str-int-and-float-functions)\n",
    "- [Flow Control](#flow-control)\n",
    "    - [Comparison Operators](#comparison-operators)\n",
    "    - [Boolean evaluation](#boolean-evaluation)\n",
    "    - [Boolean Operators](#boolean-operators)\n",
    "    - [Mixing Boolean and Comparison Operators](#mixing-boolean-and-comparison-operators)\n",
    "    - [if Statements](#if-statements)\n",
    "    - [else Statements](#else-statements)\n",
    "    - [elif Statements](#elif-statements)\n",
    "    - [while Loop Statements](#while-loop-statements)\n",
    "    - [break Statements](#break-statements)\n",
    "    - [continue Statements](#continue-statements)\n",
    "    - [for Loops and the range() Function](#for-loops-and-the-range-function)\n",
    "    - [For else statement](#for-else-statement)\n",
    "    - [Importing Modules](#importing-modules)\n",
    "    - [Ending a Program Early with sys.exit()](#ending-a-program-early-with-sysexit)\n",
    "- [Functions](#functions)\n",
    "    - [Return Values and return Statements](#return-values-and-return-statements)\n",
    "    - [The None Value](#the-none-value)\n",
    "    - [Keyword Arguments and print()](#keyword-arguments-and-print)\n",
    "    - [Local and Global Scope](#local-and-global-scope)\n",
    "    - [The global Statement](#the-global-statement)\n",
    "- [Exception Handling](#exception-handling)\n",
    "    - [Basic exception handling](#basic-exception-handling)\n",
    "    - [Final code in exception handling](#final-code-in-exception-handling)\n",
    "- [Lists](#lists)\n",
    "    - [Getting Individual Values in a List with Indexes](#getting-individual-values-in-a-list-with-indexes)\n",
    "    - [Negative Indexes](#negative-indexes)\n",
    "    - [Getting Sublists with Slices](#getting-sublists-with-slices)\n",
    "    - [Getting a List’s Length with len()](#getting-a-list%E2%80%99s-length-with-len)\n",
    "    - [Changing Values in a List with Indexes](#changing-values-in-a-list-with-indexes)\n",
    "    - [List Concatenation and List Replication](#list-concatenation-and-list-replication)\n",
    "    - [Removing Values from Lists with del Statements](#removing-values-from-lists-with-del-statements)\n",
    "    - [Using for Loops with Lists](#using-for-loops-with-lists)\n",
    "    - [Looping Through Multiple Lists with zip()](#looping-through-multiple-lists-with-zip)\n",
    "    - [The in and not in Operators](#the-in-and-not-in-operators)\n",
    "    - [The Multiple Assignment Trick](#the-multiple-assignment-trick)\n",
    "    - [Augmented Assignment Operators](#augmented-assignment-operators)\n",
    "    - [Finding a Value in a List with the index() Method](#finding-a-value-in-a-list-with-the-index-method)\n",
    "    - [Adding Values to Lists with the append() and insert() Methods](#adding-values-to-lists-with-the-append-and-insert-methods)\n",
    "    - [Removing Values from Lists with remove()](#removing-values-from-lists-with-remove)\n",
    "    - [Sorting the Values in a List with the sort() Method](#sorting-the-values-in-a-list-with-the-sort-method)\n",
    "    - [Tuple Data Type](#tuple-data-type)\n",
    "    - [Converting Types with the list() and tuple() Functions](#converting-types-with-the-list-and-tuple-functions)\n",
    "- [Dictionaries and Structuring Data](#dictionaries-and-structuring-data)\n",
    "    - [The keys(), values(), and items() Methods](#the-keys-values-and-items-methods)\n",
    "    - [Checking Whether a Key or Value Exists in a Dictionary](#checking-whether-a-key-or-value-exists-in-a-dictionary)\n",
    "    - [The get() Method](#the-get-method)\n",
    "    - [The setdefault() Method](#the-setdefault-method)\n",
    "    - [Pretty Printing](#pretty-printing)\n",
    "- [itertools Module](#itertools-module)\n",
    "    - [accumulate()](#accumulate)\n",
    "    - [combinations()](#combinations)\n",
    "    - [combinations_with_replacement()](#combinationswithreplacement)\n",
    "    - [count()](#count)\n",
    "    - [cycle()](#cycle)\n",
    "    - [chain()](#chain)\n",
    "    - [compress()](#compress)\n",
    "    - [dropwhile()](#dropwhile)\n",
    "    - [filterfalse()](#filterfalse)\n",
    "    - [groupby()](#groupby)\n",
    "    - [islice()](#islice)\n",
    "    - [permutations()](#permutations)\n",
    "    - [product()](#product)\n",
    "    - [repeat()](#repeat)\n",
    "    - [starmap()](#starmap)\n",
    "    - [takewhile()](#takewhile)\n",
    "    - [tee()](#tee)\n",
    "    - [zip_longest()](#ziplongest)\n",
    "- [Comprehensions](#comprehensions)\n",
    "    - [List comprehension](#list-comprehension)\n",
    "    - [Set comprehension](#set-comprehension)\n",
    "    - [Dict comprehension](#dict-comprehension)\n",
    "- [Manipulating Strings](#manipulating-strings)\n",
    "    - [Escape Characters](#escape-characters)\n",
    "    - [Raw Strings](#raw-strings)\n",
    "    - [Multiline Strings with Triple Quotes](#multiline-strings-with-triple-quotes)\n",
    "    - [Indexing and Slicing Strings](#indexing-and-slicing-strings)\n",
    "    - [The in and not in Operators with Strings](#the-in-and-not-in-operators-with-strings)\n",
    "    - [The in and not in Operators with list](#the-in-and-not-in-operators-with-list)\n",
    "    - [The upper(), lower(), isupper(), and islower() String Methods](#the-upper-lower-isupper-and-islower-string-methods)\n",
    "    - [The isX String Methods](#the-isx-string-methods)\n",
    "    - [The startswith() and endswith() String Methods](#the-startswith-and-endswith-string-methods)\n",
    "    - [The join() and split() String Methods](#the-join-and-split-string-methods)\n",
    "    - [Justifying Text with rjust(), ljust(), and center()](#justifying-text-with-rjust-ljust-and-center)\n",
    "    - [Removing Whitespace with strip(), rstrip(), and lstrip()](#removing-whitespace-with-strip-rstrip-and-lstrip)\n",
    "    - [Copying and Pasting Strings with the pyperclip Module (need pip install)](#copying-and-pasting-strings-with-the-pyperclip-module-need-pip-install)\n",
    "- [String Formatting](#string-formatting)\n",
    "    - [% operator](#operator)\n",
    "    - [String Formatting (str.format)](#string-formatting-strformat)\n",
    "    - [Lazy string formatting](#lazy-string-formatting)\n",
    "    - [Formatted String Literals (Python 3.6+)](#formatted-string-literals-python-36)\n",
    "    - [Template Strings](#template-strings)\n",
    "- [Regular Expressions](#regular-expressions)\n",
    "    - [Matching Regex Objects](#matching-regex-objects)\n",
    "    - [Grouping with Parentheses](#grouping-with-parentheses)\n",
    "    - [Matching Multiple Groups with the Pipe](#matching-multiple-groups-with-the-pipe)\n",
    "    - [Optional Matching with the Question Mark](#optional-matching-with-the-question-mark)\n",
    "    - [Matching Zero or More with the Star](#matching-zero-or-more-with-the-star)\n",
    "    - [Matching One or More with the Plus](#matching-one-or-more-with-the-plus)\n",
    "    - [Matching Specific Repetitions with Curly Brackets](#matching-specific-repetitions-with-curly-brackets)\n",
    "    - [Greedy and Nongreedy Matching](#greedy-and-nongreedy-matching)\n",
    "    - [The findall() Method](#the-findall-method)\n",
    "    - [Making Your Own Character Classes](#making-your-own-character-classes)\n",
    "    - [The Caret and Dollar Sign Characters](#the-caret-and-dollar-sign-characters)\n",
    "    - [The Wildcard Character](#the-wildcard-character)\n",
    "    - [Matching Everything with Dot-Star](#matching-everything-with-dot-star)\n",
    "    - [Matching Newlines with the Dot Character](#matching-newlines-with-the-dot-character)\n",
    "    - [Review of Regex Symbols](#review-of-regex-symbols)\n",
    "    - [Case-Insensitive Matching](#case-insensitive-matching)\n",
    "    - [Substituting Strings with the sub() Method](#substituting-strings-with-the-sub-method)\n",
    "    - [Managing Complex Regexes](#managing-complex-regexes)\n",
    "- [Handling File and Directory Paths](#handling-file-and-directory-paths)\n",
    "    - [Backslash on Windows and Forward Slash on OS X and Linux](#backslash-on-windows-and-forward-slash-on-os-x-and-linux)\n",
    "    - [The Current Working Directory](#the-current-working-directory)\n",
    "    - [Creating New Folders](#creating-new-folders)\n",
    "    - [Absolute vs. Relative Paths](#absolute-vs-relative-paths)\n",
    "    - [Handling Absolute and Relative Paths](#handling-absolute-and-relative-paths)\n",
    "    - [Checking Path Validity](#checking-path-validity)\n",
    "    - [Finding File Sizes and Folder Contents](#finding-file-sizes-and-folder-contents)\n",
    "    - [Copying Files and Folders](#copying-files-and-folders)\n",
    "    - [Moving and Renaming Files and Folders](#moving-and-renaming-files-and-folders)\n",
    "    - [Permanently Deleting Files and Folders](#permanently-deleting-files-and-folders)\n",
    "    - [Safe Deletes with the send2trash Module](#safe-deletes-with-the-send2trash-module)\n",
    "    - [Walking a Directory Tree](#walking-a-directory-tree)\n",
    "- [Reading and Writing Files](#reading-and-writing-files)\n",
    "    - [The File Reading/Writing Process](#the-file-readingwriting-process)\n",
    "    - [Opening and reading files with the open() function](#opening-and-reading-files-with-the-open-function)\n",
    "    - [Writing to Files](#writing-to-files)\n",
    "    - [Saving Variables with the shelve Module](#saving-variables-with-the-shelve-module)\n",
    "    - [Saving Variables with the pprint.pformat() Function](#saving-variables-with-the-pprintpformat-function)\n",
    "    - [Reading ZIP Files](#reading-zip-files)\n",
    "    - [Extracting from ZIP Files](#extracting-from-zip-files)\n",
    "    - [Creating and Adding to ZIP Files](#creating-and-adding-to-zip-files)\n",
    "- [JSON, YAML and configuration files](#json-yaml-and-configuration-files)\n",
    "    - [JSON](#json)\n",
    "    - [YAML](#yaml)\n",
    "    - [Anyconfig](#anyconfig)\n",
    "- [Debugging](#debugging)\n",
    "    - [Raising Exceptions](#raising-exceptions)\n",
    "    - [Getting the Traceback as a String](#getting-the-traceback-as-a-string)\n",
    "    - [Assertions](#assertions)\n",
    "    - [Logging](#logging)\n",
    "    - [Logging Levels](#logging-levels)\n",
    "    - [Disabling Logging](#disabling-logging)\n",
    "    - [Logging to a File](#logging-to-a-file)\n",
    "- [Lambda Functions](#lambda-functions)\n",
    "- [Ternary Conditional Operator](#ternary-conditional-operator)\n",
    "- [Virtual Environment](#virtual-environment)\n",
    "    - [virtualenv](#virtualenv)\n",
    "    - [pipenv](#pipenv)\n",
    "\n",
    "## Python Basics\n",
    "\n",
    "### Math Operators\n",
    "\n",
    "From **Highest** to **Lowest** precedence:\n",
    "\n",
    "| Operators | Operation        | Example         |\n",
    "| --------- | ---------------- | --------------- |\n",
    "| **        | Exponent         | `2 ** 3 = 8`    |\n",
    "| %         | Modulus/Remaider | `22 % 8 = 6`    |\n",
    "| //        | Integer division | `22 // 8 = 2`   |\n",
    "| /         | Division         | `22 / 8 = 2.75` |\n",
    "| *         | Multiplication   | `3 * 3 = 9`     |\n",
    "| -         | Subtraction      | `5 - 2 = 3`     |\n",
    "| +         | Addition         | `2 + 2 = 4`     |\n",
    "\n",
    "Examples of expressions in the interactive shell:"
   ]
  },
  {
   "cell_type": "code",
   "execution_count": 128,
   "metadata": {},
   "outputs": [
    {
     "data": {
      "text/plain": [
       "20"
      ]
     },
     "execution_count": 128,
     "metadata": {},
     "output_type": "execute_result"
    }
   ],
   "source": [
    "2 + 3 * 6\n",
    "20"
   ]
  },
  {
   "cell_type": "code",
   "execution_count": 129,
   "metadata": {},
   "outputs": [
    {
     "data": {
      "text/plain": [
       "30"
      ]
     },
     "execution_count": 129,
     "metadata": {},
     "output_type": "execute_result"
    }
   ],
   "source": [
    "(2 + 3) * 6\n"
   ]
  },
  {
   "cell_type": "code",
   "execution_count": 130,
   "metadata": {},
   "outputs": [
    {
     "data": {
      "text/plain": [
       "256"
      ]
     },
     "execution_count": 130,
     "metadata": {},
     "output_type": "execute_result"
    }
   ],
   "source": [
    "2 ** 8\n"
   ]
  },
  {
   "cell_type": "code",
   "execution_count": 131,
   "metadata": {},
   "outputs": [
    {
     "data": {
      "text/plain": [
       "3"
      ]
     },
     "execution_count": 131,
     "metadata": {},
     "output_type": "execute_result"
    }
   ],
   "source": [
    "23 // 7\n"
   ]
  },
  {
   "cell_type": "code",
   "execution_count": 132,
   "metadata": {},
   "outputs": [
    {
     "data": {
      "text/plain": [
       "2"
      ]
     },
     "execution_count": 132,
     "metadata": {},
     "output_type": "execute_result"
    }
   ],
   "source": [
    "23 % 7\n"
   ]
  },
  {
   "cell_type": "code",
   "execution_count": 133,
   "metadata": {},
   "outputs": [
    {
     "data": {
      "text/plain": [
       "16.0"
      ]
     },
     "execution_count": 133,
     "metadata": {},
     "output_type": "execute_result"
    }
   ],
   "source": [
    "(5 - 1) * ((7 + 1) / (3 - 1))\n"
   ]
  },
  {
   "cell_type": "markdown",
   "metadata": {},
   "source": [
    "[*Return to the Top*](#python-cheatsheet)\n",
    "\n",
    "### Data Types\n",
    "\n",
    "| Data Type              | Examples                                  |\n",
    "| ---------------------- | ----------------------------------------- |\n",
    "| Integers               | `-2, -1, 0, 1, 2, 3, 4, 5`                |\n",
    "| Floating-point numbers | `-1.25, -1.0, --0.5, 0.0, 0.5, 1.0, 1.25` |\n",
    "| Strings                | `'a', 'aa', 'aaa', 'Hello!', '11 cats'`   |\n",
    "\n",
    "[*Return to the Top*](#python-cheatsheet)\n",
    "\n",
    "### String Concatenation and Replication\n",
    "\n",
    "String concatenation:"
   ]
  },
  {
   "cell_type": "code",
   "execution_count": 134,
   "metadata": {
    "scrolled": true
   },
   "outputs": [
    {
     "data": {
      "text/plain": [
       "'AliceBob'"
      ]
     },
     "execution_count": 134,
     "metadata": {},
     "output_type": "execute_result"
    }
   ],
   "source": [
    ">>> 'Alice' 'Bob'\n",
    "'AliceBob'"
   ]
  },
  {
   "cell_type": "markdown",
   "metadata": {},
   "source": [
    "Note: Avoid `+` operator for string concatenation. Prefer string formatting.\n",
    "\n",
    "String Replication:"
   ]
  },
  {
   "cell_type": "code",
   "execution_count": 135,
   "metadata": {},
   "outputs": [
    {
     "data": {
      "text/plain": [
       "'AliceAliceAliceAliceAlice'"
      ]
     },
     "execution_count": 135,
     "metadata": {},
     "output_type": "execute_result"
    }
   ],
   "source": [
    "'Alice' * 5\n"
   ]
  },
  {
   "cell_type": "markdown",
   "metadata": {},
   "source": [
    "[*Return to the Top*](#python-cheatsheet)\n",
    "\n",
    "### Variables\n",
    "\n",
    "You can name a variable anything as long as it obeys the following three rules:\n",
    "\n",
    "1. It can be only one word.\n",
    "1. It can use only letters, numbers, and the underscore (`_`) character.\n",
    "1. It can’t begin with a number.\n",
    "1. Variable name starting with an underscore (`_`) are considered as \"unuseful`.\n",
    "\n",
    "Example:"
   ]
  },
  {
   "cell_type": "code",
   "execution_count": 136,
   "metadata": {},
   "outputs": [
    {
     "data": {
      "text/plain": [
       "'Hello'"
      ]
     },
     "execution_count": 136,
     "metadata": {},
     "output_type": "execute_result"
    }
   ],
   "source": [
    "spam = 'Hello'\n",
    "spam\n"
   ]
  },
  {
   "cell_type": "code",
   "execution_count": 137,
   "metadata": {
    "collapsed": true
   },
   "outputs": [],
   "source": [
    "_spam = 'Hello'"
   ]
  },
  {
   "cell_type": "markdown",
   "metadata": {},
   "source": [
    "`_spam` should not be used again in the code.\n",
    "\n",
    "[*Return to the Top*](#python-cheatsheet)\n",
    "\n",
    "### Comments\n",
    "\n",
    "Inline comment:"
   ]
  },
  {
   "cell_type": "code",
   "execution_count": 138,
   "metadata": {
    "collapsed": true
   },
   "outputs": [],
   "source": [
    "# This is a comment"
   ]
  },
  {
   "cell_type": "markdown",
   "metadata": {},
   "source": [
    "Multiline comment:"
   ]
  },
  {
   "cell_type": "code",
   "execution_count": 139,
   "metadata": {
    "attributes": {
     "classes": [
      "Python"
     ],
     "id": ""
    },
    "collapsed": true
   },
   "outputs": [],
   "source": [
    "# This is a\n",
    "# multiline comment"
   ]
  },
  {
   "cell_type": "markdown",
   "metadata": {},
   "source": [
    "Code with a comment:"
   ]
  },
  {
   "cell_type": "code",
   "execution_count": 140,
   "metadata": {
    "collapsed": true
   },
   "outputs": [],
   "source": [
    "a = 1  # initialization"
   ]
  },
  {
   "cell_type": "markdown",
   "metadata": {},
   "source": [
    "Please note the two spaces in front of the comment.\n",
    "\n",
    "Function docstring:"
   ]
  },
  {
   "cell_type": "code",
   "execution_count": 141,
   "metadata": {
    "collapsed": true
   },
   "outputs": [],
   "source": [
    "def foo():\n",
    "    \"\"\"\n",
    "    This is a function docstring\n",
    "    You can also use:\n",
    "    ''' Function Docstring '''\n",
    "    \"\"\""
   ]
  },
  {
   "cell_type": "markdown",
   "metadata": {},
   "source": [
    "[*Return to the Top*](#python-cheatsheet)\n",
    "\n",
    "### The print() Function"
   ]
  },
  {
   "cell_type": "code",
   "execution_count": 142,
   "metadata": {},
   "outputs": [
    {
     "name": "stdout",
     "output_type": "stream",
     "text": [
      "Hello world\n"
     ]
    }
   ],
   "source": [
    "print('Hello world')"
   ]
  },
  {
   "cell_type": "code",
   "execution_count": 143,
   "metadata": {},
   "outputs": [
    {
     "name": "stdout",
     "output_type": "stream",
     "text": [
      "Hello world! 1\n"
     ]
    }
   ],
   "source": [
    "a = 1\n",
    "print('Hello world!', a)\n"
   ]
  },
  {
   "cell_type": "markdown",
   "metadata": {},
   "source": [
    "[*Return to the Top*](#python-cheatsheet)\n",
    "\n",
    "### The input() Function\n",
    "\n",
    "Example Code:"
   ]
  },
  {
   "cell_type": "code",
   "execution_count": 144,
   "metadata": {},
   "outputs": [
    {
     "name": "stdout",
     "output_type": "stream",
     "text": [
      "What is your name?\n",
      "Bill\n",
      "It is good to meet you, Bill\n"
     ]
    }
   ],
   "source": [
    "print('What is your name?')   # ask for their name\n",
    "myName = input()\n",
    "print('It is good to meet you, {}'.format(myName))\n"
   ]
  },
  {
   "cell_type": "markdown",
   "metadata": {},
   "source": [
    "[*Return to the Top*](#python-cheatsheet)\n",
    "\n",
    "### The len() Function\n",
    "\n",
    "Evaluates to the integer value of the number of characters in a string:"
   ]
  },
  {
   "cell_type": "code",
   "execution_count": 145,
   "metadata": {},
   "outputs": [
    {
     "data": {
      "text/plain": [
       "5"
      ]
     },
     "execution_count": 145,
     "metadata": {},
     "output_type": "execute_result"
    }
   ],
   "source": [
    "len('hello')"
   ]
  },
  {
   "cell_type": "markdown",
   "metadata": {},
   "source": [
    "Note: test of emptiness of strings, lists, dictionary, etc, should **not** use len, but prefer direct\n",
    "boolean evaluation."
   ]
  },
  {
   "cell_type": "code",
   "execution_count": 146,
   "metadata": {},
   "outputs": [
    {
     "name": "stdout",
     "output_type": "stream",
     "text": [
      "the list is not empty!\n"
     ]
    }
   ],
   "source": [
    "a = [1, 2, 3]\n",
    "if a:\n",
    "    print(\"the list is not empty!\")"
   ]
  },
  {
   "cell_type": "markdown",
   "metadata": {},
   "source": [
    "[*Return to the Top*](#python-cheatsheet)\n",
    "\n",
    "### The str(), int(), and float() Functions\n",
    "\n",
    "Integer to String or Float:"
   ]
  },
  {
   "cell_type": "code",
   "execution_count": 147,
   "metadata": {},
   "outputs": [
    {
     "data": {
      "text/plain": [
       "'29'"
      ]
     },
     "execution_count": 147,
     "metadata": {},
     "output_type": "execute_result"
    }
   ],
   "source": [
    "str(29)\n"
   ]
  },
  {
   "cell_type": "code",
   "execution_count": 148,
   "metadata": {},
   "outputs": [
    {
     "name": "stdout",
     "output_type": "stream",
     "text": [
      "I am 29 years old.\n"
     ]
    }
   ],
   "source": [
    "print('I am {} years old.'.format(str(29)))\n"
   ]
  },
  {
   "cell_type": "code",
   "execution_count": 149,
   "metadata": {},
   "outputs": [
    {
     "data": {
      "text/plain": [
       "'-3.14'"
      ]
     },
     "execution_count": 149,
     "metadata": {},
     "output_type": "execute_result"
    }
   ],
   "source": [
    "str(-3.14)\n"
   ]
  },
  {
   "cell_type": "markdown",
   "metadata": {},
   "source": [
    "Float to Integer:"
   ]
  },
  {
   "cell_type": "code",
   "execution_count": 150,
   "metadata": {},
   "outputs": [
    {
     "data": {
      "text/plain": [
       "7"
      ]
     },
     "execution_count": 150,
     "metadata": {},
     "output_type": "execute_result"
    }
   ],
   "source": [
    "int(7.7)"
   ]
  },
  {
   "cell_type": "code",
   "execution_count": 151,
   "metadata": {},
   "outputs": [
    {
     "data": {
      "text/plain": [
       "8"
      ]
     },
     "execution_count": 151,
     "metadata": {},
     "output_type": "execute_result"
    }
   ],
   "source": [
    "int(7.7) + 1\n"
   ]
  },
  {
   "cell_type": "markdown",
   "metadata": {},
   "source": [
    "[*Return to the Top*](#python-cheatsheet)\n",
    "\n",
    "## Flow Control\n",
    "\n",
    "### Comparison Operators\n",
    "\n",
    "| Operator | Meaning                  |\n",
    "| -------- | ------------------------ |\n",
    "| `==`     | Equal to                 |\n",
    "| `!=`     | Not equal to             |\n",
    "| `<`      | Less than                |\n",
    "| `>`      | Greater Than             |\n",
    "| `<=`     | Less than or Equal to    |\n",
    "| `>=`     | Greater than or Equal to |\n",
    "\n",
    "These operators evaluate to True or False depending on the values you give them.\n",
    "\n",
    "Examples:"
   ]
  },
  {
   "cell_type": "code",
   "execution_count": 152,
   "metadata": {},
   "outputs": [
    {
     "data": {
      "text/plain": [
       "True"
      ]
     },
     "execution_count": 152,
     "metadata": {},
     "output_type": "execute_result"
    }
   ],
   "source": [
    "42 == 42\n"
   ]
  },
  {
   "cell_type": "code",
   "execution_count": 153,
   "metadata": {},
   "outputs": [
    {
     "data": {
      "text/plain": [
       "False"
      ]
     },
     "execution_count": 153,
     "metadata": {},
     "output_type": "execute_result"
    }
   ],
   "source": [
    "40 == 42\n"
   ]
  },
  {
   "cell_type": "code",
   "execution_count": 154,
   "metadata": {},
   "outputs": [
    {
     "data": {
      "text/plain": [
       "True"
      ]
     },
     "execution_count": 154,
     "metadata": {},
     "output_type": "execute_result"
    }
   ],
   "source": [
    " 'hello' == 'hello'\n"
   ]
  },
  {
   "cell_type": "code",
   "execution_count": 155,
   "metadata": {},
   "outputs": [
    {
     "data": {
      "text/plain": [
       "False"
      ]
     },
     "execution_count": 155,
     "metadata": {},
     "output_type": "execute_result"
    }
   ],
   "source": [
    "'hello' == 'Hello'\n"
   ]
  },
  {
   "cell_type": "code",
   "execution_count": 156,
   "metadata": {},
   "outputs": [
    {
     "data": {
      "text/plain": [
       "True"
      ]
     },
     "execution_count": 156,
     "metadata": {},
     "output_type": "execute_result"
    }
   ],
   "source": [
    "'dog' != 'cat'\n"
   ]
  },
  {
   "cell_type": "code",
   "execution_count": 157,
   "metadata": {},
   "outputs": [
    {
     "data": {
      "text/plain": [
       "True"
      ]
     },
     "execution_count": 157,
     "metadata": {},
     "output_type": "execute_result"
    }
   ],
   "source": [
    "42 == 42.0\n"
   ]
  },
  {
   "cell_type": "code",
   "execution_count": 158,
   "metadata": {},
   "outputs": [
    {
     "data": {
      "text/plain": [
       "False"
      ]
     },
     "execution_count": 158,
     "metadata": {},
     "output_type": "execute_result"
    }
   ],
   "source": [
    "42 == '42'\n"
   ]
  },
  {
   "cell_type": "markdown",
   "metadata": {},
   "source": [
    "### Boolean evaluation\n",
    "\n",
    "Never use `==` or `!=` operator to evaluate boolean operation. Use the `is` or `is not` operators,\n",
    "or use implicit boolean evaluation.\n",
    "\n",
    "NO (even if they are valid Python):"
   ]
  },
  {
   "cell_type": "code",
   "execution_count": 159,
   "metadata": {},
   "outputs": [
    {
     "data": {
      "text/plain": [
       "True"
      ]
     },
     "execution_count": 159,
     "metadata": {},
     "output_type": "execute_result"
    }
   ],
   "source": [
    "True == True"
   ]
  },
  {
   "cell_type": "code",
   "execution_count": 160,
   "metadata": {},
   "outputs": [
    {
     "data": {
      "text/plain": [
       "True"
      ]
     },
     "execution_count": 160,
     "metadata": {},
     "output_type": "execute_result"
    }
   ],
   "source": [
    "True != False"
   ]
  },
  {
   "cell_type": "markdown",
   "metadata": {},
   "source": [
    "YES (even if they are valid Python):"
   ]
  },
  {
   "cell_type": "code",
   "execution_count": 161,
   "metadata": {},
   "outputs": [
    {
     "data": {
      "text/plain": [
       "True"
      ]
     },
     "execution_count": 161,
     "metadata": {},
     "output_type": "execute_result"
    }
   ],
   "source": [
    "True is True\n"
   ]
  },
  {
   "cell_type": "code",
   "execution_count": 162,
   "metadata": {},
   "outputs": [
    {
     "data": {
      "text/plain": [
       "True"
      ]
     },
     "execution_count": 162,
     "metadata": {},
     "output_type": "execute_result"
    }
   ],
   "source": [
    "True is not False\n"
   ]
  },
  {
   "cell_type": "markdown",
   "metadata": {},
   "source": [
    "These statements are equivalent:"
   ]
  },
  {
   "cell_type": "code",
   "execution_count": 163,
   "metadata": {
    "attributes": {
     "classes": [
      "Python"
     ],
     "id": ""
    },
    "collapsed": true
   },
   "outputs": [],
   "source": [
    "if a is True:\n",
    "    pass\n",
    "if a is not False:\n",
    "    pass\n",
    "if a:\n",
    "    pass"
   ]
  },
  {
   "cell_type": "markdown",
   "metadata": {},
   "source": [
    "And these as well:"
   ]
  },
  {
   "cell_type": "code",
   "execution_count": 164,
   "metadata": {
    "attributes": {
     "classes": [
      "Python"
     ],
     "id": ""
    },
    "collapsed": true
   },
   "outputs": [],
   "source": [
    "if a is False:\n",
    "    pass\n",
    "if a is not True:\n",
    "    pass\n",
    "if not a:\n",
    "    pass"
   ]
  },
  {
   "cell_type": "markdown",
   "metadata": {},
   "source": [
    "[*Return to the Top*](#python-cheatsheet)\n",
    "\n",
    "### Boolean Operators\n",
    "\n",
    "There are three Boolean operators: and, or, and not.\n",
    "\n",
    "The *and* Operator’s *Truth* Table:\n",
    "\n",
    "| Expression        | Evaluates to |\n",
    "| ----------------- | ------------ |\n",
    "| `True and True`   | `True`      |\n",
    "| `True and False`  | `False`     |\n",
    "| `False and True`  | `False`     |\n",
    "| `False and False` | `False`     |\n",
    "\n",
    "The *or* Operator’s *Truth* Table:\n",
    "\n",
    "| Expression       | Evaluates to   |\n",
    "| ---------------- | -------------- |\n",
    "| `True or True`   | `True`         |\n",
    "| `True or False`  | `True`         |\n",
    "| `False or True`  | `True`         |\n",
    "| `False or False` | `False`        |\n",
    "\n",
    "The *not* Operator’s *Truth* Table:\n",
    "\n",
    "| Expression   | Evaluates to  |\n",
    "| ------------ | ------------- |\n",
    "| `not True`   | `False`       |\n",
    "| `not False`  | `True`        |\n",
    "\n",
    "[*Return to the Top*](#python-cheatsheet)\n",
    "\n",
    "### Mixing Boolean and Comparison Operators"
   ]
  },
  {
   "cell_type": "code",
   "execution_count": 165,
   "metadata": {},
   "outputs": [
    {
     "data": {
      "text/plain": [
       "True"
      ]
     },
     "execution_count": 165,
     "metadata": {},
     "output_type": "execute_result"
    }
   ],
   "source": [
    "(4 < 5) and (5 < 6)\n"
   ]
  },
  {
   "cell_type": "code",
   "execution_count": 166,
   "metadata": {},
   "outputs": [
    {
     "data": {
      "text/plain": [
       "False"
      ]
     },
     "execution_count": 166,
     "metadata": {},
     "output_type": "execute_result"
    }
   ],
   "source": [
    "(4 < 5) and (9 < 6)\n"
   ]
  },
  {
   "cell_type": "code",
   "execution_count": 167,
   "metadata": {},
   "outputs": [
    {
     "data": {
      "text/plain": [
       "True"
      ]
     },
     "execution_count": 167,
     "metadata": {},
     "output_type": "execute_result"
    }
   ],
   "source": [
    "(1 == 2) or (2 == 2)\n"
   ]
  },
  {
   "cell_type": "markdown",
   "metadata": {},
   "source": [
    "You can also use multiple Boolean operators in an expression, along with the comparison operators:"
   ]
  },
  {
   "cell_type": "code",
   "execution_count": 168,
   "metadata": {},
   "outputs": [
    {
     "data": {
      "text/plain": [
       "True"
      ]
     },
     "execution_count": 168,
     "metadata": {},
     "output_type": "execute_result"
    }
   ],
   "source": [
    "2 + 2 == 4 and not 2 + 2 == 5 and 2 * 2 == 2 + 2\n"
   ]
  },
  {
   "cell_type": "markdown",
   "metadata": {},
   "source": [
    "[*Return to the Top*](#python-cheatsheet)\n",
    "\n",
    "### if Statements"
   ]
  },
  {
   "cell_type": "code",
   "execution_count": 169,
   "metadata": {
    "collapsed": true
   },
   "outputs": [],
   "source": [
    "if name == 'Alice':\n",
    "    print('Hi, Alice.')"
   ]
  },
  {
   "cell_type": "markdown",
   "metadata": {},
   "source": [
    "[*Return to the Top*](#python-cheatsheet)\n",
    "\n",
    "### else Statements"
   ]
  },
  {
   "cell_type": "code",
   "execution_count": 170,
   "metadata": {},
   "outputs": [
    {
     "name": "stdout",
     "output_type": "stream",
     "text": [
      "Hello, stranger.\n"
     ]
    }
   ],
   "source": [
    "name = 'Bob'\n",
    "if name == 'Alice':\n",
    "    print('Hi, Alice.')\n",
    "else:\n",
    "    print('Hello, stranger.')"
   ]
  },
  {
   "cell_type": "markdown",
   "metadata": {},
   "source": [
    "[*Return to the Top*](#python-cheatsheet)\n",
    "\n",
    "### elif Statements"
   ]
  },
  {
   "cell_type": "code",
   "execution_count": 171,
   "metadata": {},
   "outputs": [
    {
     "name": "stdout",
     "output_type": "stream",
     "text": [
      "You are not Alice, kiddo.\n"
     ]
    }
   ],
   "source": [
    "name = 'Bob'\n",
    "age = 5\n",
    "if name == 'Alice':\n",
    "    print('Hi, Alice.')\n",
    "elif age < 12:\n",
    "    print('You are not Alice, kiddo.')"
   ]
  },
  {
   "cell_type": "code",
   "execution_count": 172,
   "metadata": {},
   "outputs": [
    {
     "name": "stdout",
     "output_type": "stream",
     "text": [
      "You are neither Alice nor a little kid.\n"
     ]
    }
   ],
   "source": [
    "name = 'Bob'\n",
    "age = 30\n",
    "if name == 'Alice':\n",
    "    print('Hi, Alice.')\n",
    "elif age < 12:\n",
    "    print('You are not Alice, kiddo.')\n",
    "else:\n",
    "    print('You are neither Alice nor a little kid.')"
   ]
  },
  {
   "cell_type": "markdown",
   "metadata": {},
   "source": [
    "[*Return to the Top*](#python-cheatsheet)\n",
    "\n",
    "### while Loop Statements"
   ]
  },
  {
   "cell_type": "code",
   "execution_count": 173,
   "metadata": {},
   "outputs": [
    {
     "name": "stdout",
     "output_type": "stream",
     "text": [
      "Hello, world.\n",
      "Hello, world.\n",
      "Hello, world.\n",
      "Hello, world.\n",
      "Hello, world.\n"
     ]
    }
   ],
   "source": [
    "spam = 0\n",
    "while spam < 5:\n",
    "    print('Hello, world.')\n",
    "    spam = spam + 1"
   ]
  },
  {
   "cell_type": "markdown",
   "metadata": {},
   "source": [
    "[*Return to the Top*](#python-cheatsheet)\n",
    "\n",
    "### break Statements\n",
    "\n",
    " If the execution reaches a break statement, it immediately exits the while loop’s clause:"
   ]
  },
  {
   "cell_type": "code",
   "execution_count": 174,
   "metadata": {},
   "outputs": [
    {
     "name": "stdout",
     "output_type": "stream",
     "text": [
      "Please type your name.\n",
      "your name\n",
      "Thank you!\n"
     ]
    }
   ],
   "source": [
    "while True:\n",
    "    print('Please type your name.')\n",
    "    name = input()\n",
    "    if name == 'your name':\n",
    "        break\n",
    "print('Thank you!')"
   ]
  },
  {
   "cell_type": "markdown",
   "metadata": {},
   "source": [
    "[*Return to the Top*](#python-cheatsheet)\n",
    "\n",
    "### continue Statements\n",
    "\n",
    "When the program execution reaches a continue statement, the program execution immediately jumps back to the start of the loop."
   ]
  },
  {
   "cell_type": "code",
   "execution_count": 175,
   "metadata": {},
   "outputs": [
    {
     "name": "stdout",
     "output_type": "stream",
     "text": [
      "Who are you?\n",
      "Joe\n",
      "Hello, Joe. What is the password? (It is a fish.)\n",
      "swordfish\n",
      "Access granted.\n"
     ]
    }
   ],
   "source": [
    "while True:\n",
    "    print('Who are you?')\n",
    "    name = input()\n",
    "    if name != 'Joe':\n",
    "        continue\n",
    "    print('Hello, Joe. What is the password? (It is a fish.)')\n",
    "    password = input()\n",
    "    if password == 'swordfish':\n",
    "        break\n",
    "print('Access granted.')"
   ]
  },
  {
   "cell_type": "markdown",
   "metadata": {},
   "source": [
    "[*Return to the Top*](#python-cheatsheet)\n",
    "\n",
    "### for Loops and the range() Function"
   ]
  },
  {
   "cell_type": "code",
   "execution_count": 176,
   "metadata": {},
   "outputs": [
    {
     "name": "stdout",
     "output_type": "stream",
     "text": [
      "My name is\n",
      "Jimmy Five Times (0)\n",
      "Jimmy Five Times (1)\n",
      "Jimmy Five Times (2)\n",
      "Jimmy Five Times (3)\n",
      "Jimmy Five Times (4)\n"
     ]
    }
   ],
   "source": [
    "print('My name is')\n",
    "for i in range(5):\n",
    "    print('Jimmy Five Times ({})'.format(str(i)))\n"
   ]
  },
  {
   "cell_type": "markdown",
   "metadata": {},
   "source": [
    "The *range()* function can also be called with three arguments. The first two arguments will be the start and stop values, and the third will be the step argument. The step is the amount that the variable is increased by after each iteration."
   ]
  },
  {
   "cell_type": "code",
   "execution_count": 177,
   "metadata": {},
   "outputs": [
    {
     "name": "stdout",
     "output_type": "stream",
     "text": [
      "0\n",
      "2\n",
      "4\n",
      "6\n",
      "8\n"
     ]
    }
   ],
   "source": [
    "for i in range(0, 10, 2):\n",
    "    print(i)\n"
   ]
  },
  {
   "cell_type": "markdown",
   "metadata": {},
   "source": [
    "You can even use a negative number for the step argument to make the for loop count down instead of up."
   ]
  },
  {
   "cell_type": "code",
   "execution_count": 178,
   "metadata": {},
   "outputs": [
    {
     "name": "stdout",
     "output_type": "stream",
     "text": [
      "5\n",
      "4\n",
      "3\n",
      "2\n",
      "1\n",
      "0\n"
     ]
    }
   ],
   "source": [
    "for i in range(5, -1, -1):\n",
    "    print(i)\n"
   ]
  },
  {
   "cell_type": "markdown",
   "metadata": {},
   "source": [
    "### For else statement\n",
    "\n",
    "This allows to specify a statement to execute in case of the full loop has been executed. Only\n",
    "useful when a `break` condition can occur in the loop:"
   ]
  },
  {
   "cell_type": "code",
   "execution_count": 179,
   "metadata": {
    "collapsed": true
   },
   "outputs": [],
   "source": [
    "for i in [1, 2, 3, 4, 5]:\n",
    "    if i == 3:\n",
    "         break\n",
    "else:\n",
    "    print(\"only executed when no item of the list is equal to 3\")"
   ]
  },
  {
   "cell_type": "markdown",
   "metadata": {},
   "source": [
    "[*Return to the Top*](#python-cheatsheet)\n",
    "\n",
    "### Importing Modules"
   ]
  },
  {
   "cell_type": "code",
   "execution_count": 180,
   "metadata": {},
   "outputs": [
    {
     "name": "stdout",
     "output_type": "stream",
     "text": [
      "3\n",
      "10\n",
      "6\n",
      "1\n",
      "7\n"
     ]
    }
   ],
   "source": [
    "import random\n",
    "for i in range(5):\n",
    "    print(random.randint(1, 10))"
   ]
  },
  {
   "cell_type": "code",
   "execution_count": 181,
   "metadata": {
    "collapsed": true
   },
   "outputs": [],
   "source": [
    "import random, sys, os, math"
   ]
  },
  {
   "cell_type": "code",
   "execution_count": 182,
   "metadata": {
    "collapsed": true
   },
   "outputs": [],
   "source": [
    "from random import *"
   ]
  },
  {
   "cell_type": "markdown",
   "metadata": {},
   "source": [
    "[*Return to the Top*](#python-cheatsheet)\n",
    "\n",
    "### Ending a Program Early with sys.exit()"
   ]
  },
  {
   "cell_type": "code",
   "execution_count": 184,
   "metadata": {},
   "outputs": [
    {
     "name": "stdout",
     "output_type": "stream",
     "text": [
      "Type exit to exit.\n",
      "exit\n"
     ]
    },
    {
     "ename": "SystemExit",
     "evalue": "",
     "output_type": "error",
     "traceback": [
      "An exception has occurred, use %tb to see the full traceback.\n",
      "\u001b[1;31mSystemExit\u001b[0m\n"
     ]
    },
    {
     "name": "stderr",
     "output_type": "stream",
     "text": [
      "C:\\Users\\traveler\\Anaconda3\\envs\\py35\\lib\\site-packages\\IPython\\core\\interactiveshell.py:2889: UserWarning: To exit: use 'exit', 'quit', or Ctrl-D.\n",
      "  warn(\"To exit: use 'exit', 'quit', or Ctrl-D.\", stacklevel=1)\n"
     ]
    }
   ],
   "source": [
    "import sys\n",
    "\n",
    "while True:\n",
    "    print('Type exit to exit.')\n",
    "    response = input()\n",
    "    if response == 'exit':\n",
    "        sys.exit()\n",
    "    print('You typed {}.'.format(response))"
   ]
  },
  {
   "cell_type": "markdown",
   "metadata": {},
   "source": [
    "[*Return to the Top*](#python-cheatsheet)\n",
    "\n",
    "## Functions"
   ]
  },
  {
   "cell_type": "code",
   "execution_count": 185,
   "metadata": {},
   "outputs": [
    {
     "name": "stdout",
     "output_type": "stream",
     "text": [
      "Hello Alice\n",
      "Hello Bob\n"
     ]
    }
   ],
   "source": [
    "def hello(name):\n",
    "    print('Hello {}'.format(name))\n",
    "\n",
    "hello('Alice')\n",
    "hello('Bob')\n"
   ]
  },
  {
   "cell_type": "markdown",
   "metadata": {},
   "source": [
    "[*Return to the Top*](#python-cheatsheet)\n",
    "\n",
    "### Return Values and return Statements\n",
    "\n",
    "When creating a function using the def statement, you can specify what the return value should be with a return statement. A return statement consists of the following:\n",
    "\n",
    "- The return keyword.\n",
    "\n",
    "- The value or expression that the function should return."
   ]
  },
  {
   "cell_type": "code",
   "execution_count": 186,
   "metadata": {},
   "outputs": [
    {
     "name": "stdout",
     "output_type": "stream",
     "text": [
      "Yes\n"
     ]
    }
   ],
   "source": [
    "import random\n",
    "def getAnswer(answerNumber):\n",
    "    if answerNumber == 1:\n",
    "        return 'It is certain'\n",
    "    elif answerNumber == 2:\n",
    "        return 'It is decidedly so'\n",
    "    elif answerNumber == 3:\n",
    "        return 'Yes'\n",
    "    elif answerNumber == 4:\n",
    "        return 'Reply hazy try again'\n",
    "    elif answerNumber == 5:\n",
    "        return 'Ask again later'\n",
    "    elif answerNumber == 6:\n",
    "        return 'Concentrate and ask again'\n",
    "    elif answerNumber == 7:\n",
    "        return 'My reply is no'\n",
    "    elif answerNumber == 8:\n",
    "        return 'Outlook not so good'\n",
    "    elif answerNumber == 9:\n",
    "        return 'Very doubtful'\n",
    "\n",
    "r = random.randint(1, 9)\n",
    "fortune = getAnswer(r)\n",
    "print(fortune)"
   ]
  },
  {
   "cell_type": "markdown",
   "metadata": {},
   "source": [
    "[*Return to the Top*](#python-cheatsheet)\n",
    "\n",
    "### The None Value"
   ]
  },
  {
   "cell_type": "code",
   "execution_count": 187,
   "metadata": {},
   "outputs": [
    {
     "name": "stdout",
     "output_type": "stream",
     "text": [
      "Hello!\n"
     ]
    }
   ],
   "source": [
    "spam = print('Hello!')"
   ]
  },
  {
   "cell_type": "code",
   "execution_count": 188,
   "metadata": {},
   "outputs": [
    {
     "data": {
      "text/plain": [
       "True"
      ]
     },
     "execution_count": 188,
     "metadata": {},
     "output_type": "execute_result"
    }
   ],
   "source": [
    "spam is None\n",
    "True"
   ]
  },
  {
   "cell_type": "markdown",
   "metadata": {},
   "source": [
    "Note: never compare to `None` with the `==` operator. Always use `is`.\n",
    "\n",
    "[*Return to the Top*](#python-cheatsheet)\n",
    "\n",
    "### Keyword Arguments and print()"
   ]
  },
  {
   "cell_type": "code",
   "execution_count": 189,
   "metadata": {},
   "outputs": [
    {
     "name": "stdout",
     "output_type": "stream",
     "text": [
      "HelloWorld\n"
     ]
    }
   ],
   "source": [
    "print('Hello', end='')\n",
    "print('World')\n"
   ]
  },
  {
   "cell_type": "code",
   "execution_count": 190,
   "metadata": {},
   "outputs": [
    {
     "name": "stdout",
     "output_type": "stream",
     "text": [
      "cats dogs mice\n"
     ]
    }
   ],
   "source": [
    "print('cats', 'dogs', 'mice')\n"
   ]
  },
  {
   "cell_type": "code",
   "execution_count": 191,
   "metadata": {},
   "outputs": [
    {
     "name": "stdout",
     "output_type": "stream",
     "text": [
      "cats,dogs,mice\n"
     ]
    }
   ],
   "source": [
    "print('cats', 'dogs', 'mice', sep=',')\n"
   ]
  },
  {
   "cell_type": "markdown",
   "metadata": {},
   "source": [
    "[*Return to the Top*](#python-cheatsheet)\n",
    "\n",
    "### Local and Global Scope\n",
    "\n",
    "- Code in the global scope cannot use any local variables.\n",
    "\n",
    "- However, a local scope can access global variables.\n",
    "\n",
    "- Code in a function’s local scope cannot use variables in any other local scope.\n",
    "\n",
    "- You can use the same name for different variables if they are in different scopes. That is, there can be a local variable named spam and a global variable also named spam.\n",
    "\n",
    "[*Return to the Top*](#python-cheatsheet)\n",
    "\n",
    "### The global Statement\n",
    "\n",
    "If you need to modify a global variable from within a function, use the global statement:"
   ]
  },
  {
   "cell_type": "code",
   "execution_count": 192,
   "metadata": {},
   "outputs": [
    {
     "name": "stdout",
     "output_type": "stream",
     "text": [
      "spam\n"
     ]
    }
   ],
   "source": [
    "def spam():\n",
    "    global eggs\n",
    "    eggs = 'spam'\n",
    "\n",
    "eggs = 'global'\n",
    "spam()\n",
    "print(eggs)"
   ]
  },
  {
   "cell_type": "markdown",
   "metadata": {},
   "source": [
    "There are four rules to tell whether a variable is in a local scope or global scope:\n",
    "\n",
    "1. If a variable is being used in the global scope (that is, outside of all functions), then it is always a global variable.\n",
    "\n",
    "1. If there is a global statement for that variable in a function, it is a global variable.\n",
    "\n",
    "1. Otherwise, if the variable is used in an assignment statement in the function, it is a local variable.\n",
    "\n",
    "1. But if the variable is not used in an assignment statement, it is a global variable.\n",
    "\n",
    "[*Return to the Top*](#python-cheatsheet)\n",
    "\n",
    "## Exception Handling\n",
    "\n",
    "### Basic exception handling"
   ]
  },
  {
   "cell_type": "code",
   "execution_count": 193,
   "metadata": {},
   "outputs": [
    {
     "name": "stdout",
     "output_type": "stream",
     "text": [
      "21.0\n",
      "3.5\n",
      "Error: Invalid argument: division by zero\n",
      "None\n",
      "42.0\n"
     ]
    }
   ],
   "source": [
    "def spam(divideBy):\n",
    "    try:\n",
    "        return 42 / divideBy\n",
    "    except ZeroDivisionError as e:\n",
    "        print('Error: Invalid argument: {}'.format(e))\n",
    "\n",
    "print(spam(2))\n",
    "print(spam(12))\n",
    "print(spam(0))\n",
    "print(spam(1))"
   ]
  },
  {
   "cell_type": "markdown",
   "metadata": {},
   "source": [
    "[*Return to the Top*](#python-cheatsheet)\n",
    "\n",
    "### Final code in exception handling\n",
    "\n",
    "Code inside the `finally` section is always executed, no matter if an exception has been raised or\n",
    "not, and even if an exception is not caught."
   ]
  },
  {
   "cell_type": "code",
   "execution_count": 194,
   "metadata": {},
   "outputs": [
    {
     "name": "stdout",
     "output_type": "stream",
     "text": [
      "-- division finished --\n",
      "3.5\n",
      "Error: Invalid argument: division by zero\n",
      "-- division finished --\n",
      "None\n"
     ]
    }
   ],
   "source": [
    "def spam(divideBy):\n",
    "    try:\n",
    "        return 42 / divideBy\n",
    "    except ZeroDivisionError as e:\n",
    "        print('Error: Invalid argument: {}'.format(e))\n",
    "    finally:\n",
    "        print(\"-- division finished --\")\n",
    "print(spam(12))\n",
    "print(spam(0))\n"
   ]
  },
  {
   "cell_type": "markdown",
   "metadata": {},
   "source": [
    "[*Return to the Top*](#python-cheatsheet)\n",
    "\n",
    "## Lists"
   ]
  },
  {
   "cell_type": "code",
   "execution_count": 195,
   "metadata": {},
   "outputs": [
    {
     "data": {
      "text/plain": [
       "['cat', 'bat', 'rat', 'elephant']"
      ]
     },
     "execution_count": 195,
     "metadata": {},
     "output_type": "execute_result"
    }
   ],
   "source": [
    "spam = ['cat', 'bat', 'rat', 'elephant']\n",
    "\n",
    "spam\n"
   ]
  },
  {
   "cell_type": "markdown",
   "metadata": {},
   "source": [
    "[*Return to the Top*](#python-cheatsheet)\n",
    "\n",
    "### Getting Individual Values in a List with Indexes"
   ]
  },
  {
   "cell_type": "code",
   "execution_count": 196,
   "metadata": {},
   "outputs": [
    {
     "data": {
      "text/plain": [
       "'cat'"
      ]
     },
     "execution_count": 196,
     "metadata": {},
     "output_type": "execute_result"
    }
   ],
   "source": [
    "spam = ['cat', 'bat', 'rat', 'elephant']\n",
    "spam[0]\n"
   ]
  },
  {
   "cell_type": "code",
   "execution_count": 197,
   "metadata": {},
   "outputs": [
    {
     "data": {
      "text/plain": [
       "'bat'"
      ]
     },
     "execution_count": 197,
     "metadata": {},
     "output_type": "execute_result"
    }
   ],
   "source": [
    "spam[1]\n"
   ]
  },
  {
   "cell_type": "code",
   "execution_count": 198,
   "metadata": {},
   "outputs": [
    {
     "data": {
      "text/plain": [
       "'rat'"
      ]
     },
     "execution_count": 198,
     "metadata": {},
     "output_type": "execute_result"
    }
   ],
   "source": [
    "spam[2]\n"
   ]
  },
  {
   "cell_type": "code",
   "execution_count": 199,
   "metadata": {},
   "outputs": [
    {
     "data": {
      "text/plain": [
       "'elephant'"
      ]
     },
     "execution_count": 199,
     "metadata": {},
     "output_type": "execute_result"
    }
   ],
   "source": [
    "spam[3]\n"
   ]
  },
  {
   "cell_type": "markdown",
   "metadata": {},
   "source": [
    "[*Return to the Top*](#python-cheatsheet)\n",
    "\n",
    "### Negative Indexes"
   ]
  },
  {
   "cell_type": "code",
   "execution_count": 200,
   "metadata": {},
   "outputs": [
    {
     "data": {
      "text/plain": [
       "'elephant'"
      ]
     },
     "execution_count": 200,
     "metadata": {},
     "output_type": "execute_result"
    }
   ],
   "source": [
    "spam = ['cat', 'bat', 'rat', 'elephant']\n",
    "spam[-1]\n"
   ]
  },
  {
   "cell_type": "code",
   "execution_count": 201,
   "metadata": {},
   "outputs": [
    {
     "data": {
      "text/plain": [
       "'bat'"
      ]
     },
     "execution_count": 201,
     "metadata": {},
     "output_type": "execute_result"
    }
   ],
   "source": [
    "spam[-3]\n"
   ]
  },
  {
   "cell_type": "code",
   "execution_count": 202,
   "metadata": {},
   "outputs": [
    {
     "data": {
      "text/plain": [
       "'The elephant is afraid of the bat.'"
      ]
     },
     "execution_count": 202,
     "metadata": {},
     "output_type": "execute_result"
    }
   ],
   "source": [
    "'The {} is afraid of the {}.'.format(spam[-1], spam[-3])\n"
   ]
  },
  {
   "cell_type": "markdown",
   "metadata": {},
   "source": [
    "[*Return to the Top*](#python-cheatsheet)\n",
    "\n",
    "### Getting Sublists with Slices"
   ]
  },
  {
   "cell_type": "code",
   "execution_count": 203,
   "metadata": {},
   "outputs": [
    {
     "data": {
      "text/plain": [
       "['cat', 'bat', 'rat', 'elephant']"
      ]
     },
     "execution_count": 203,
     "metadata": {},
     "output_type": "execute_result"
    }
   ],
   "source": [
    "spam = ['cat', 'bat', 'rat', 'elephant']\n",
    "spam[0:4]\n"
   ]
  },
  {
   "cell_type": "code",
   "execution_count": 204,
   "metadata": {},
   "outputs": [
    {
     "data": {
      "text/plain": [
       "['bat', 'rat']"
      ]
     },
     "execution_count": 204,
     "metadata": {},
     "output_type": "execute_result"
    }
   ],
   "source": [
    "spam[1:3]\n"
   ]
  },
  {
   "cell_type": "code",
   "execution_count": 205,
   "metadata": {},
   "outputs": [
    {
     "data": {
      "text/plain": [
       "['cat', 'bat', 'rat']"
      ]
     },
     "execution_count": 205,
     "metadata": {},
     "output_type": "execute_result"
    }
   ],
   "source": [
    "spam[0:-1]\n"
   ]
  },
  {
   "cell_type": "code",
   "execution_count": 206,
   "metadata": {},
   "outputs": [
    {
     "data": {
      "text/plain": [
       "['cat', 'bat']"
      ]
     },
     "execution_count": 206,
     "metadata": {},
     "output_type": "execute_result"
    }
   ],
   "source": [
    "spam = ['cat', 'bat', 'rat', 'elephant']\n",
    "spam[:2]\n"
   ]
  },
  {
   "cell_type": "code",
   "execution_count": 207,
   "metadata": {},
   "outputs": [
    {
     "data": {
      "text/plain": [
       "['bat', 'rat', 'elephant']"
      ]
     },
     "execution_count": 207,
     "metadata": {},
     "output_type": "execute_result"
    }
   ],
   "source": [
    "spam[1:]\n"
   ]
  },
  {
   "cell_type": "code",
   "execution_count": 208,
   "metadata": {},
   "outputs": [
    {
     "data": {
      "text/plain": [
       "['cat', 'bat', 'rat', 'elephant']"
      ]
     },
     "execution_count": 208,
     "metadata": {},
     "output_type": "execute_result"
    }
   ],
   "source": [
    "spam[:]\n"
   ]
  },
  {
   "cell_type": "markdown",
   "metadata": {},
   "source": [
    "[*Return to the Top*](#python-cheatsheet)\n",
    "\n",
    "### Getting a List’s Length with len()"
   ]
  },
  {
   "cell_type": "code",
   "execution_count": 209,
   "metadata": {},
   "outputs": [
    {
     "data": {
      "text/plain": [
       "3"
      ]
     },
     "execution_count": 209,
     "metadata": {},
     "output_type": "execute_result"
    }
   ],
   "source": [
    "spam = ['cat', 'dog', 'moose']\n",
    "len(spam)\n"
   ]
  },
  {
   "cell_type": "markdown",
   "metadata": {},
   "source": [
    "[*Return to the Top*](#python-cheatsheet)\n",
    "\n",
    "### Changing Values in a List with Indexes"
   ]
  },
  {
   "cell_type": "code",
   "execution_count": 210,
   "metadata": {},
   "outputs": [
    {
     "data": {
      "text/plain": [
       "['cat', 'aardvark', 'rat', 'elephant']"
      ]
     },
     "execution_count": 210,
     "metadata": {},
     "output_type": "execute_result"
    }
   ],
   "source": [
    "spam = ['cat', 'bat', 'rat', 'elephant']\n",
    "spam[1] = 'aardvark'\n",
    "\n",
    "spam"
   ]
  },
  {
   "cell_type": "code",
   "execution_count": 211,
   "metadata": {},
   "outputs": [
    {
     "data": {
      "text/plain": [
       "['cat', 'aardvark', 'aardvark', 'elephant']"
      ]
     },
     "execution_count": 211,
     "metadata": {},
     "output_type": "execute_result"
    }
   ],
   "source": [
    "spam[2] = spam[1]\n",
    "\n",
    "spam"
   ]
  },
  {
   "cell_type": "code",
   "execution_count": 212,
   "metadata": {},
   "outputs": [
    {
     "data": {
      "text/plain": [
       "['cat', 'aardvark', 'aardvark', 12345]"
      ]
     },
     "execution_count": 212,
     "metadata": {},
     "output_type": "execute_result"
    }
   ],
   "source": [
    "spam[-1] = 12345\n",
    "\n",
    "spam"
   ]
  },
  {
   "cell_type": "markdown",
   "metadata": {},
   "source": [
    "[*Return to the Top*](#python-cheatsheet)\n",
    "\n",
    "### List Concatenation and List Replication"
   ]
  },
  {
   "cell_type": "code",
   "execution_count": 213,
   "metadata": {},
   "outputs": [
    {
     "data": {
      "text/plain": [
       "[1, 2, 3, 'A', 'B', 'C']"
      ]
     },
     "execution_count": 213,
     "metadata": {},
     "output_type": "execute_result"
    }
   ],
   "source": [
    "[1, 2, 3] + ['A', 'B', 'C']"
   ]
  },
  {
   "cell_type": "code",
   "execution_count": 214,
   "metadata": {},
   "outputs": [
    {
     "data": {
      "text/plain": [
       "['X', 'Y', 'Z', 'X', 'Y', 'Z', 'X', 'Y', 'Z']"
      ]
     },
     "execution_count": 214,
     "metadata": {},
     "output_type": "execute_result"
    }
   ],
   "source": [
    "['X', 'Y', 'Z'] * 3"
   ]
  },
  {
   "cell_type": "code",
   "execution_count": 215,
   "metadata": {
    "collapsed": true
   },
   "outputs": [],
   "source": [
    "spam = [1, 2, 3]\n",
    "\n",
    "spam = spam + ['A', 'B', 'C']"
   ]
  },
  {
   "cell_type": "code",
   "execution_count": 216,
   "metadata": {},
   "outputs": [
    {
     "data": {
      "text/plain": [
       "[1, 2, 3, 'A', 'B', 'C']"
      ]
     },
     "execution_count": 216,
     "metadata": {},
     "output_type": "execute_result"
    }
   ],
   "source": [
    "spam\n"
   ]
  },
  {
   "cell_type": "markdown",
   "metadata": {},
   "source": [
    "[*Return to the Top*](#python-cheatsheet)\n",
    "\n",
    "### Removing Values from Lists with del Statements"
   ]
  },
  {
   "cell_type": "code",
   "execution_count": 217,
   "metadata": {},
   "outputs": [
    {
     "data": {
      "text/plain": [
       "['cat', 'bat', 'elephant']"
      ]
     },
     "execution_count": 217,
     "metadata": {},
     "output_type": "execute_result"
    }
   ],
   "source": [
    "spam = ['cat', 'bat', 'rat', 'elephant']\n",
    "del spam[2]\n",
    "spam\n"
   ]
  },
  {
   "cell_type": "code",
   "execution_count": 218,
   "metadata": {},
   "outputs": [
    {
     "data": {
      "text/plain": [
       "['cat', 'bat']"
      ]
     },
     "execution_count": 218,
     "metadata": {},
     "output_type": "execute_result"
    }
   ],
   "source": [
    "del spam[2]\n",
    "spam\n"
   ]
  },
  {
   "cell_type": "markdown",
   "metadata": {},
   "source": [
    "[*Return to the Top*](#python-cheatsheet)\n",
    "\n",
    "### Using for Loops with Lists"
   ]
  },
  {
   "cell_type": "code",
   "execution_count": 219,
   "metadata": {},
   "outputs": [
    {
     "name": "stdout",
     "output_type": "stream",
     "text": [
      "Index 0 in supplies is: pens\n",
      "Index 1 in supplies is: staplers\n",
      "Index 2 in supplies is: flame-throwers\n",
      "Index 3 in supplies is: binders\n"
     ]
    }
   ],
   "source": [
    "supplies = ['pens', 'staplers', 'flame-throwers', 'binders']\n",
    "for i, supply in enumerate(supplies):\n",
    "    print('Index {} in supplies is: {}'.format(str(i), supply))\n"
   ]
  },
  {
   "cell_type": "markdown",
   "metadata": {},
   "source": [
    "[*Return to the Top*](#python-cheatsheet)\n",
    "\n",
    "### Looping Through Multiple Lists with zip()"
   ]
  },
  {
   "cell_type": "code",
   "execution_count": 220,
   "metadata": {},
   "outputs": [
    {
     "name": "stdout",
     "output_type": "stream",
     "text": [
      "Pete is 6 years old\n",
      "John is 23 years old\n",
      "Elizabeth is 44 years old\n"
     ]
    }
   ],
   "source": [
    "name = ['Pete', 'John', 'Elizabeth']\n",
    "age = [6, 23, 44]\n",
    "for n, a in zip(name, age):\n",
    "    print('{} is {} years old'.format(n, a))\n"
   ]
  },
  {
   "cell_type": "markdown",
   "metadata": {},
   "source": [
    "### The in and not in Operators"
   ]
  },
  {
   "cell_type": "code",
   "execution_count": 221,
   "metadata": {},
   "outputs": [
    {
     "data": {
      "text/plain": [
       "True"
      ]
     },
     "execution_count": 221,
     "metadata": {},
     "output_type": "execute_result"
    }
   ],
   "source": [
    "'howdy' in ['hello', 'hi', 'howdy', 'heyas']\n"
   ]
  },
  {
   "cell_type": "code",
   "execution_count": 222,
   "metadata": {},
   "outputs": [
    {
     "data": {
      "text/plain": [
       "False"
      ]
     },
     "execution_count": 222,
     "metadata": {},
     "output_type": "execute_result"
    }
   ],
   "source": [
    "spam = ['hello', 'hi', 'howdy', 'heyas']\n",
    "'cat' in spam\n"
   ]
  },
  {
   "cell_type": "code",
   "execution_count": 223,
   "metadata": {},
   "outputs": [
    {
     "data": {
      "text/plain": [
       "False"
      ]
     },
     "execution_count": 223,
     "metadata": {},
     "output_type": "execute_result"
    }
   ],
   "source": [
    "'howdy' not in spam\n"
   ]
  },
  {
   "cell_type": "code",
   "execution_count": 224,
   "metadata": {},
   "outputs": [
    {
     "data": {
      "text/plain": [
       "True"
      ]
     },
     "execution_count": 224,
     "metadata": {},
     "output_type": "execute_result"
    }
   ],
   "source": [
    "'cat' not in spam\n"
   ]
  },
  {
   "cell_type": "markdown",
   "metadata": {},
   "source": [
    "[*Return to the Top*](#python-cheatsheet)\n",
    "\n",
    "### The Multiple Assignment Trick\n",
    "\n",
    "The multiple assignment trick is a shortcut that lets you assign multiple variables with the values in a list in one line of code. So instead of doing this:"
   ]
  },
  {
   "cell_type": "code",
   "execution_count": 225,
   "metadata": {
    "collapsed": true
   },
   "outputs": [],
   "source": [
    "cat = ['fat', 'orange', 'loud']\n",
    "\n",
    "size = cat[0]\n",
    "\n",
    "color = cat[1]\n",
    "\n",
    "disposition = cat[2]"
   ]
  },
  {
   "cell_type": "markdown",
   "metadata": {},
   "source": [
    "You could type this line of code:"
   ]
  },
  {
   "cell_type": "code",
   "execution_count": 226,
   "metadata": {
    "collapsed": true
   },
   "outputs": [],
   "source": [
    "cat = ['fat', 'orange', 'loud']\n",
    "\n",
    "size, color, disposition = cat"
   ]
  },
  {
   "cell_type": "markdown",
   "metadata": {},
   "source": [
    "The multiple assignment trick can also be used to swap the values in two variables:"
   ]
  },
  {
   "cell_type": "code",
   "execution_count": 227,
   "metadata": {},
   "outputs": [
    {
     "name": "stdout",
     "output_type": "stream",
     "text": [
      "Bob\n"
     ]
    }
   ],
   "source": [
    "a, b = 'Alice', 'Bob'\n",
    "a, b = b, a\n",
    "print(a)\n"
   ]
  },
  {
   "cell_type": "code",
   "execution_count": 228,
   "metadata": {},
   "outputs": [
    {
     "name": "stdout",
     "output_type": "stream",
     "text": [
      "Alice\n"
     ]
    }
   ],
   "source": [
    "print(b)\n"
   ]
  },
  {
   "cell_type": "markdown",
   "metadata": {},
   "source": [
    "[*Return to the Top*](#python-cheatsheet)\n",
    "\n",
    "### Augmented Assignment Operators\n",
    "\n",
    "| Operator    | Equivalent        |\n",
    "| ----------- | ----------------- |\n",
    "| `spam += 1` | `spam = spam + 1` |\n",
    "| `spam -= 1` | `spam = spam - 1` |\n",
    "| `spam *= 1` | `spam = spam * 1` |\n",
    "| `spam /= 1` | `spam = spam / 1` |\n",
    "| `spam %= 1` | `spam = spam % 1` |\n",
    "\n",
    "Examples:"
   ]
  },
  {
   "cell_type": "code",
   "execution_count": 229,
   "metadata": {},
   "outputs": [
    {
     "data": {
      "text/plain": [
       "'Hello world!'"
      ]
     },
     "execution_count": 229,
     "metadata": {},
     "output_type": "execute_result"
    }
   ],
   "source": [
    "spam = 'Hello'\n",
    "spam += ' world!'\n",
    "spam"
   ]
  },
  {
   "cell_type": "code",
   "execution_count": 230,
   "metadata": {},
   "outputs": [
    {
     "data": {
      "text/plain": [
       "['Zophie', 'Zophie', 'Zophie']"
      ]
     },
     "execution_count": 230,
     "metadata": {},
     "output_type": "execute_result"
    }
   ],
   "source": [
    "bacon = ['Zophie']\n",
    "bacon *= 3\n",
    "bacon\n"
   ]
  },
  {
   "cell_type": "markdown",
   "metadata": {},
   "source": [
    "[*Return to the Top*](#python-cheatsheet)\n",
    "\n",
    "### Finding a Value in a List with the index() Method"
   ]
  },
  {
   "cell_type": "code",
   "execution_count": 231,
   "metadata": {},
   "outputs": [
    {
     "data": {
      "text/plain": [
       "1"
      ]
     },
     "execution_count": 231,
     "metadata": {},
     "output_type": "execute_result"
    }
   ],
   "source": [
    "spam = ['Zophie', 'Pooka', 'Fat-tail', 'Pooka']\n",
    "\n",
    "spam.index('Pooka')\n"
   ]
  },
  {
   "cell_type": "markdown",
   "metadata": {},
   "source": [
    "[*Return to the Top*](#python-cheatsheet)\n",
    "\n",
    "### Adding Values to Lists with the append() and insert() Methods\n",
    "\n",
    "**append()**:"
   ]
  },
  {
   "cell_type": "code",
   "execution_count": 232,
   "metadata": {},
   "outputs": [
    {
     "data": {
      "text/plain": [
       "['cat', 'dog', 'bat', 'moose']"
      ]
     },
     "execution_count": 232,
     "metadata": {},
     "output_type": "execute_result"
    }
   ],
   "source": [
    "spam = ['cat', 'dog', 'bat']\n",
    "\n",
    "spam.append('moose')\n",
    "\n",
    "spam\n",
    "['cat', 'dog', 'bat', 'moose']"
   ]
  },
  {
   "cell_type": "markdown",
   "metadata": {},
   "source": [
    "**insert()**:"
   ]
  },
  {
   "cell_type": "code",
   "execution_count": 233,
   "metadata": {},
   "outputs": [
    {
     "data": {
      "text/plain": [
       "['cat', 'chicken', 'dog', 'bat']"
      ]
     },
     "execution_count": 233,
     "metadata": {},
     "output_type": "execute_result"
    }
   ],
   "source": [
    "spam = ['cat', 'dog', 'bat']\n",
    "\n",
    "spam.insert(1, 'chicken')\n",
    "\n",
    "spam\n"
   ]
  },
  {
   "cell_type": "markdown",
   "metadata": {},
   "source": [
    "[*Return to the Top*](#python-cheatsheet)\n",
    "\n",
    "### Removing Values from Lists with remove()"
   ]
  },
  {
   "cell_type": "code",
   "execution_count": 234,
   "metadata": {},
   "outputs": [
    {
     "data": {
      "text/plain": [
       "['cat', 'rat', 'elephant']"
      ]
     },
     "execution_count": 234,
     "metadata": {},
     "output_type": "execute_result"
    }
   ],
   "source": [
    "spam = ['cat', 'bat', 'rat', 'elephant']\n",
    "\n",
    "spam.remove('bat')\n",
    "\n",
    "spam\n"
   ]
  },
  {
   "cell_type": "markdown",
   "metadata": {},
   "source": [
    "If the value appears multiple times in the list, only the first instance of the value will be removed.\n",
    "\n",
    "[*Return to the Top*](#python-cheatsheet)\n",
    "\n",
    "### Sorting the Values in a List with the sort() Method"
   ]
  },
  {
   "cell_type": "code",
   "execution_count": 235,
   "metadata": {},
   "outputs": [
    {
     "data": {
      "text/plain": [
       "[-7, 1, 2, 3.14, 5]"
      ]
     },
     "execution_count": 235,
     "metadata": {},
     "output_type": "execute_result"
    }
   ],
   "source": [
    "spam = [2, 5, 3.14, 1, -7]\n",
    "spam.sort()\n",
    "spam\n"
   ]
  },
  {
   "cell_type": "code",
   "execution_count": 236,
   "metadata": {},
   "outputs": [
    {
     "data": {
      "text/plain": [
       "['ants', 'badgers', 'cats', 'dogs', 'elephants']"
      ]
     },
     "execution_count": 236,
     "metadata": {},
     "output_type": "execute_result"
    }
   ],
   "source": [
    "spam = ['ants', 'cats', 'dogs', 'badgers', 'elephants']\n",
    "spam.sort()\n",
    "spam\n"
   ]
  },
  {
   "cell_type": "markdown",
   "metadata": {},
   "source": [
    "You can also pass True for the reverse keyword argument to have sort() sort the values in reverse order:"
   ]
  },
  {
   "cell_type": "code",
   "execution_count": 237,
   "metadata": {},
   "outputs": [
    {
     "data": {
      "text/plain": [
       "['elephants', 'dogs', 'cats', 'badgers', 'ants']"
      ]
     },
     "execution_count": 237,
     "metadata": {},
     "output_type": "execute_result"
    }
   ],
   "source": [
    "spam.sort(reverse=True)\n",
    "spam\n"
   ]
  },
  {
   "cell_type": "markdown",
   "metadata": {},
   "source": [
    "If you need to sort the values in regular alphabetical order, pass str. lower for the key keyword argument in the sort() method call:"
   ]
  },
  {
   "cell_type": "code",
   "execution_count": 238,
   "metadata": {},
   "outputs": [
    {
     "data": {
      "text/plain": [
       "['a', 'A', 'z', 'Z']"
      ]
     },
     "execution_count": 238,
     "metadata": {},
     "output_type": "execute_result"
    }
   ],
   "source": [
    "spam = ['a', 'z', 'A', 'Z']\n",
    "spam.sort(key=str.lower)\n",
    "spam\n"
   ]
  },
  {
   "cell_type": "markdown",
   "metadata": {},
   "source": [
    "You can use the built-in function `sorted` to return a new list:"
   ]
  },
  {
   "cell_type": "code",
   "execution_count": 239,
   "metadata": {},
   "outputs": [
    {
     "data": {
      "text/plain": [
       "['ants', 'badgers', 'cats', 'dogs', 'elephants']"
      ]
     },
     "execution_count": 239,
     "metadata": {},
     "output_type": "execute_result"
    }
   ],
   "source": [
    "spam = ['ants', 'cats', 'dogs', 'badgers', 'elephants']\n",
    "sorted(spam)\n"
   ]
  },
  {
   "cell_type": "markdown",
   "metadata": {},
   "source": [
    "[*Return to the Top*](#python-cheatsheet)\n",
    "\n",
    "### Tuple Data Type"
   ]
  },
  {
   "cell_type": "code",
   "execution_count": 240,
   "metadata": {},
   "outputs": [
    {
     "data": {
      "text/plain": [
       "'hello'"
      ]
     },
     "execution_count": 240,
     "metadata": {},
     "output_type": "execute_result"
    }
   ],
   "source": [
    "eggs = ('hello', 42, 0.5)\n",
    "eggs[0]\n"
   ]
  },
  {
   "cell_type": "code",
   "execution_count": 241,
   "metadata": {},
   "outputs": [
    {
     "data": {
      "text/plain": [
       "(42, 0.5)"
      ]
     },
     "execution_count": 241,
     "metadata": {},
     "output_type": "execute_result"
    }
   ],
   "source": [
    "eggs[1:3]\n"
   ]
  },
  {
   "cell_type": "code",
   "execution_count": 242,
   "metadata": {},
   "outputs": [
    {
     "data": {
      "text/plain": [
       "3"
      ]
     },
     "execution_count": 242,
     "metadata": {},
     "output_type": "execute_result"
    }
   ],
   "source": [
    "len(eggs)\n"
   ]
  },
  {
   "cell_type": "markdown",
   "metadata": {},
   "source": [
    "The main way that tuples are different from lists is that tuples, like strings, are immutable.\n",
    "\n",
    "[*Return to the Top*](#python-cheatsheet)\n",
    "\n",
    "### Converting Types with the list() and tuple() Functions"
   ]
  },
  {
   "cell_type": "code",
   "execution_count": 243,
   "metadata": {},
   "outputs": [
    {
     "data": {
      "text/plain": [
       "('cat', 'dog', 5)"
      ]
     },
     "execution_count": 243,
     "metadata": {},
     "output_type": "execute_result"
    }
   ],
   "source": [
    "tuple(['cat', 'dog', 5])\n"
   ]
  },
  {
   "cell_type": "code",
   "execution_count": 244,
   "metadata": {},
   "outputs": [
    {
     "data": {
      "text/plain": [
       "['cat', 'dog', 5]"
      ]
     },
     "execution_count": 244,
     "metadata": {},
     "output_type": "execute_result"
    }
   ],
   "source": [
    "list(('cat', 'dog', 5))\n"
   ]
  },
  {
   "cell_type": "code",
   "execution_count": 245,
   "metadata": {},
   "outputs": [
    {
     "data": {
      "text/plain": [
       "['h', 'e', 'l', 'l', 'o']"
      ]
     },
     "execution_count": 245,
     "metadata": {},
     "output_type": "execute_result"
    }
   ],
   "source": [
    "list('hello')\n"
   ]
  },
  {
   "cell_type": "markdown",
   "metadata": {},
   "source": [
    "[*Return to the Top*](#python-cheatsheet)\n",
    "\n",
    "## Dictionaries and Structuring Data\n",
    "\n",
    "Example Dictionary:"
   ]
  },
  {
   "cell_type": "code",
   "execution_count": 246,
   "metadata": {
    "collapsed": true
   },
   "outputs": [],
   "source": [
    "myCat = {'size': 'fat', 'color': 'gray', 'disposition': 'loud'}"
   ]
  },
  {
   "cell_type": "markdown",
   "metadata": {},
   "source": [
    "[*Return to the Top*](#python-cheatsheet)\n",
    "\n",
    "### The keys(), values(), and items() Methods\n",
    "\n",
    "values():"
   ]
  },
  {
   "cell_type": "code",
   "execution_count": 247,
   "metadata": {},
   "outputs": [
    {
     "name": "stdout",
     "output_type": "stream",
     "text": [
      "red\n",
      "42\n"
     ]
    }
   ],
   "source": [
    "spam = {'color': 'red', 'age': 42}\n",
    "for v in spam.values():\n",
    "    print(v)\n"
   ]
  },
  {
   "cell_type": "markdown",
   "metadata": {},
   "source": [
    "keys():"
   ]
  },
  {
   "cell_type": "code",
   "execution_count": 248,
   "metadata": {},
   "outputs": [
    {
     "name": "stdout",
     "output_type": "stream",
     "text": [
      "color\n",
      "age\n"
     ]
    }
   ],
   "source": [
    "for k in spam.keys():\n",
    "    print(k)\n"
   ]
  },
  {
   "cell_type": "markdown",
   "metadata": {},
   "source": [
    "items():"
   ]
  },
  {
   "cell_type": "code",
   "execution_count": 249,
   "metadata": {},
   "outputs": [
    {
     "name": "stdout",
     "output_type": "stream",
     "text": [
      "('color', 'red')\n",
      "('age', 42)\n"
     ]
    }
   ],
   "source": [
    "for i in spam.items():\n",
    "    print(i)\n"
   ]
  },
  {
   "cell_type": "markdown",
   "metadata": {},
   "source": [
    "Using the keys(), values(), and items() methods, a for loop can iterate over the keys, values, or key-value pairs in a dictionary, respectively."
   ]
  },
  {
   "cell_type": "code",
   "execution_count": 250,
   "metadata": {},
   "outputs": [
    {
     "name": "stdout",
     "output_type": "stream",
     "text": [
      "Key: color Value: red\n",
      "Key: age Value: 42\n"
     ]
    }
   ],
   "source": [
    "\n",
    "spam = {'color': 'red', 'age': 42}\n",
    "\n",
    "for k, v in spam.items():\n",
    "    print('Key: {} Value: {}'.format(k, str(v)))\n"
   ]
  },
  {
   "cell_type": "markdown",
   "metadata": {},
   "source": [
    "[*Return to the Top*](#python-cheatsheet)\n",
    "\n",
    "### Checking Whether a Key or Value Exists in a Dictionary"
   ]
  },
  {
   "cell_type": "code",
   "execution_count": 251,
   "metadata": {
    "collapsed": true
   },
   "outputs": [],
   "source": [
    "spam = {'name': 'Zophie', 'age': 7}"
   ]
  },
  {
   "cell_type": "code",
   "execution_count": 252,
   "metadata": {},
   "outputs": [
    {
     "data": {
      "text/plain": [
       "True"
      ]
     },
     "execution_count": 252,
     "metadata": {},
     "output_type": "execute_result"
    }
   ],
   "source": [
    "'name' in spam.keys()\n"
   ]
  },
  {
   "cell_type": "code",
   "execution_count": 253,
   "metadata": {},
   "outputs": [
    {
     "data": {
      "text/plain": [
       "True"
      ]
     },
     "execution_count": 253,
     "metadata": {},
     "output_type": "execute_result"
    }
   ],
   "source": [
    "'Zophie' in spam.values()\n"
   ]
  },
  {
   "cell_type": "code",
   "execution_count": 254,
   "metadata": {},
   "outputs": [
    {
     "data": {
      "text/plain": [
       "False"
      ]
     },
     "execution_count": 254,
     "metadata": {},
     "output_type": "execute_result"
    }
   ],
   "source": [
    "# You can omit the call to keys() when checking for a key\n",
    "'color' in spam\n"
   ]
  },
  {
   "cell_type": "code",
   "execution_count": 255,
   "metadata": {},
   "outputs": [
    {
     "data": {
      "text/plain": [
       "True"
      ]
     },
     "execution_count": 255,
     "metadata": {},
     "output_type": "execute_result"
    }
   ],
   "source": [
    "'color' not in spam\n"
   ]
  },
  {
   "cell_type": "code",
   "execution_count": 256,
   "metadata": {},
   "outputs": [
    {
     "data": {
      "text/plain": [
       "False"
      ]
     },
     "execution_count": 256,
     "metadata": {},
     "output_type": "execute_result"
    }
   ],
   "source": [
    "'color' in spam\n"
   ]
  },
  {
   "cell_type": "markdown",
   "metadata": {},
   "source": [
    "[*Return to the Top*](#python-cheatsheet)\n",
    "\n",
    "### The get() Method"
   ]
  },
  {
   "cell_type": "code",
   "execution_count": 257,
   "metadata": {},
   "outputs": [
    {
     "data": {
      "text/plain": [
       "'I am bringing 2 cups.'"
      ]
     },
     "execution_count": 257,
     "metadata": {},
     "output_type": "execute_result"
    }
   ],
   "source": [
    "picnic_items = {'apples': 5, 'cups': 2}\n",
    "\n",
    "'I am bringing {} cups.'.format(str(picnic_items.get('cups', 0)))\n"
   ]
  },
  {
   "cell_type": "code",
   "execution_count": 258,
   "metadata": {},
   "outputs": [
    {
     "data": {
      "text/plain": [
       "'I am bringing 0 eggs.'"
      ]
     },
     "execution_count": 258,
     "metadata": {},
     "output_type": "execute_result"
    }
   ],
   "source": [
    "'I am bringing {} eggs.'.format(str(picnic_items.get('eggs', 0)))\n"
   ]
  },
  {
   "cell_type": "markdown",
   "metadata": {},
   "source": [
    "[*Return to the Top*](#python-cheatsheet)\n",
    "\n",
    "### The setdefault() Method\n",
    "\n",
    "Let's consider this code:"
   ]
  },
  {
   "cell_type": "code",
   "execution_count": 259,
   "metadata": {
    "collapsed": true
   },
   "outputs": [],
   "source": [
    "spam = {'name': 'Pooka', 'age': 5}\n",
    "\n",
    "if 'color' not in spam:\n",
    "    spam['color'] = 'black'"
   ]
  },
  {
   "cell_type": "markdown",
   "metadata": {},
   "source": [
    "Using `setdefault` we could make the same code more shortly:"
   ]
  },
  {
   "cell_type": "code",
   "execution_count": 260,
   "metadata": {},
   "outputs": [
    {
     "data": {
      "text/plain": [
       "'black'"
      ]
     },
     "execution_count": 260,
     "metadata": {},
     "output_type": "execute_result"
    }
   ],
   "source": [
    "spam = {'name': 'Pooka', 'age': 5}\n",
    "spam.setdefault('color', 'black')\n"
   ]
  },
  {
   "cell_type": "code",
   "execution_count": 261,
   "metadata": {},
   "outputs": [
    {
     "data": {
      "text/plain": [
       "{'age': 5, 'color': 'black', 'name': 'Pooka'}"
      ]
     },
     "execution_count": 261,
     "metadata": {},
     "output_type": "execute_result"
    }
   ],
   "source": [
    "spam\n"
   ]
  },
  {
   "cell_type": "code",
   "execution_count": 262,
   "metadata": {},
   "outputs": [
    {
     "data": {
      "text/plain": [
       "'black'"
      ]
     },
     "execution_count": 262,
     "metadata": {},
     "output_type": "execute_result"
    }
   ],
   "source": [
    "spam.setdefault('color', 'white')\n"
   ]
  },
  {
   "cell_type": "code",
   "execution_count": 263,
   "metadata": {},
   "outputs": [
    {
     "data": {
      "text/plain": [
       "{'age': 5, 'color': 'black', 'name': 'Pooka'}"
      ]
     },
     "execution_count": 263,
     "metadata": {},
     "output_type": "execute_result"
    }
   ],
   "source": [
    "spam\n"
   ]
  },
  {
   "cell_type": "markdown",
   "metadata": {},
   "source": [
    "[*Return to the Top*](#python-cheatsheet)\n",
    "\n",
    "### Pretty Printing"
   ]
  },
  {
   "cell_type": "code",
   "execution_count": 264,
   "metadata": {},
   "outputs": [
    {
     "name": "stdout",
     "output_type": "stream",
     "text": [
      "{' ': 13,\n",
      " ',': 1,\n",
      " '.': 1,\n",
      " 'A': 1,\n",
      " 'I': 1,\n",
      " 'a': 4,\n",
      " 'b': 1,\n",
      " 'c': 3,\n",
      " 'd': 3,\n",
      " 'e': 5,\n",
      " 'g': 2,\n",
      " 'h': 3,\n",
      " 'i': 6,\n",
      " 'k': 2,\n",
      " 'l': 3,\n",
      " 'n': 4,\n",
      " 'o': 2,\n",
      " 'p': 1,\n",
      " 'r': 5,\n",
      " 's': 3,\n",
      " 't': 6,\n",
      " 'w': 2,\n",
      " 'y': 1}\n"
     ]
    }
   ],
   "source": [
    "import pprint\n",
    "\n",
    "message = 'It was a bright cold day in April, and the clocks were striking thirteen.'\n",
    "count = {}\n",
    "\n",
    "for character in message:\n",
    "    count.setdefault(character, 0)\n",
    "    count[character] = count[character] + 1\n",
    "\n",
    "pprint.pprint(count)\n"
   ]
  },
  {
   "cell_type": "markdown",
   "metadata": {},
   "source": [
    "[*Return to the Top*](#python-cheatsheet)\n",
    "\n",
    "## itertools Module\n",
    "\n",
    "The *itertools* module is a colection of tools intented to be fast and use memory efficiently when handling iterators (like [lists](#lists) or [dictionaries](#dictionaries-and-structuring-data)).\n",
    "\n",
    "From the official [Python 3.x documentation](https://docs.python.org/3/library/itertools.html):\n",
    "\n",
    "> The module standardizes a core set of fast, memory efficient tools that are useful by themselves or in combination. Together, they form an “iterator algebra” making it possible to construct specialized tools succinctly and efficiently in pure Python.\n",
    "\n",
    "The *itertools* module comes in the standard library and must be imported.\n",
    "\n",
    "The [operator](https://docs.python.org/3/library/operator.html) module will also be used. This module is not necessary when using itertools, but needed for some of the examples below.\n",
    "\n",
    "[*Return to the Top*](#python-cheatsheet)\n",
    "\n",
    "### accumulate()\n",
    "\n",
    "Makes an iterator that returns the results of a function."
   ]
  },
  {
   "cell_type": "code",
   "execution_count": 270,
   "metadata": {
    "collapsed": true
   },
   "outputs": [],
   "source": [
    "import itertools"
   ]
  },
  {
   "cell_type": "markdown",
   "metadata": {},
   "source": [
    "##error\n",
    "itertools.accumulate(iterable[, func])"
   ]
  },
  {
   "cell_type": "markdown",
   "metadata": {},
   "source": [
    "Example:"
   ]
  },
  {
   "cell_type": "markdown",
   "metadata": {},
   "source": [
    "#error\n",
    "data = [1, 2, 3, 4, 5]\n",
    "result = itertools.accumulate(data, operator.mul)\n",
    "for each in result:\n",
    "    print(each)\n"
   ]
  },
  {
   "cell_type": "markdown",
   "metadata": {},
   "source": [
    "The operator.mul takes two numbers and multiplies them:"
   ]
  },
  {
   "cell_type": "markdown",
   "metadata": {},
   "source": [
    "#error\n",
    "operator.mul(1, 2)"
   ]
  },
  {
   "cell_type": "markdown",
   "metadata": {},
   "source": [
    "#error\n",
    "operator.mul(2, 3)"
   ]
  },
  {
   "cell_type": "markdown",
   "metadata": {},
   "source": [
    "#error\n",
    "operator.mul(6, 4)"
   ]
  },
  {
   "cell_type": "markdown",
   "metadata": {},
   "source": [
    "#error\n",
    "operator.mul(24, 5)"
   ]
  },
  {
   "cell_type": "code",
   "execution_count": null,
   "metadata": {
    "collapsed": true
   },
   "outputs": [],
   "source": []
  },
  {
   "cell_type": "markdown",
   "metadata": {},
   "source": [
    "Passing a function is optional:"
   ]
  },
  {
   "cell_type": "code",
   "execution_count": 282,
   "metadata": {},
   "outputs": [
    {
     "name": "stdout",
     "output_type": "stream",
     "text": [
      "5\n",
      "7\n",
      "13\n",
      "17\n",
      "22\n",
      "31\n",
      "32\n"
     ]
    }
   ],
   "source": [
    "data = [5, 2, 6, 4, 5, 9, 1]\n",
    "result = itertools.accumulate(data)\n",
    "for each in result:\n",
    "    print(each)\n",
    "    "
   ]
  },
  {
   "cell_type": "markdown",
   "metadata": {},
   "source": [
    "If no function is designated the items will be summed:"
   ]
  },
  {
   "cell_type": "markdown",
   "metadata": {
    "collapsed": true
   },
   "source": [
    "5\n",
    "5 + 2 = 7\n",
    "7 + 6 = 13\n",
    "13 + 4 = 17\n",
    "17 + 5 = 22\n",
    "22 + 9 = 31\n",
    "31 + 1 = 32"
   ]
  },
  {
   "cell_type": "markdown",
   "metadata": {},
   "source": [
    "[*Return to the Top*](#python-cheatsheet)\n",
    "\n",
    "### combinations()\n",
    "\n",
    "Takes an iterable and a integer. This will create all the unique combination that have r members."
   ]
  },
  {
   "cell_type": "markdown",
   "metadata": {},
   "source": [
    "#error\n",
    "itertools.combinations(iterable, r)"
   ]
  },
  {
   "cell_type": "markdown",
   "metadata": {},
   "source": [
    "Example:"
   ]
  },
  {
   "cell_type": "code",
   "execution_count": 273,
   "metadata": {},
   "outputs": [
    {
     "name": "stdout",
     "output_type": "stream",
     "text": [
      "('circle', 'triangle')\n",
      "('circle', 'square')\n",
      "('triangle', 'square')\n"
     ]
    }
   ],
   "source": [
    "shapes = ['circle', 'triangle', 'square',]\n",
    "result = itertools.combinations(shapes, 2)\n",
    "for each in result:\n",
    "    print(each)\n",
    "    "
   ]
  },
  {
   "cell_type": "markdown",
   "metadata": {},
   "source": [
    "[*Return to the Top*](#python-cheatsheet)\n",
    "\n",
    "### combinations_with_replacement()\n",
    "\n",
    "Just like combinations(), but allows individual elements to be repeated more than once."
   ]
  },
  {
   "cell_type": "markdown",
   "metadata": {},
   "source": [
    "#error\n",
    "itertools.combinations_with_replacement(iterable, r)"
   ]
  },
  {
   "cell_type": "markdown",
   "metadata": {},
   "source": [
    "Example:"
   ]
  },
  {
   "cell_type": "code",
   "execution_count": 276,
   "metadata": {},
   "outputs": [
    {
     "name": "stdout",
     "output_type": "stream",
     "text": [
      "('circle', 'circle')\n",
      "('circle', 'triangle')\n",
      "('circle', 'square')\n",
      "('triangle', 'triangle')\n",
      "('triangle', 'square')\n",
      "('square', 'square')\n"
     ]
    }
   ],
   "source": [
    "shapes = ['circle', 'triangle', 'square']\n",
    "result = itertools.combinations_with_replacement(shapes, 2)\n",
    "for each in result:\n",
    "    print(each)\n",
    "    "
   ]
  },
  {
   "cell_type": "markdown",
   "metadata": {},
   "source": [
    "[*Return to the Top*](#python-cheatsheet)\n",
    "\n",
    "### count()\n",
    "\n",
    "Makes an iterator that returns evenly spaced values starting with number start."
   ]
  },
  {
   "cell_type": "code",
   "execution_count": 283,
   "metadata": {},
   "outputs": [
    {
     "data": {
      "text/plain": [
       "count(0)"
      ]
     },
     "execution_count": 283,
     "metadata": {},
     "output_type": "execute_result"
    }
   ],
   "source": [
    "itertools.count(start=0, step=1)"
   ]
  },
  {
   "cell_type": "markdown",
   "metadata": {},
   "source": [
    "Example:"
   ]
  },
  {
   "cell_type": "code",
   "execution_count": 284,
   "metadata": {},
   "outputs": [
    {
     "name": "stdout",
     "output_type": "stream",
     "text": [
      "10\n",
      "13\n",
      "16\n",
      "19\n",
      "22\n"
     ]
    }
   ],
   "source": [
    "for i in itertools.count(10,3):\n",
    "    print(i)\n",
    "    if i > 20:\n",
    "        break\n",
    "\n"
   ]
  },
  {
   "cell_type": "markdown",
   "metadata": {},
   "source": [
    "[*Return to the Top*](#python-cheatsheet)\n",
    "\n",
    "### cycle()\n",
    "\n",
    "This function cycles through an iterator endlessly."
   ]
  },
  {
   "cell_type": "markdown",
   "metadata": {},
   "source": [
    "#error\n",
    "itertools.cycle(iterable)"
   ]
  },
  {
   "cell_type": "markdown",
   "metadata": {},
   "source": [
    "Example:"
   ]
  },
  {
   "cell_type": "markdown",
   "metadata": {
    "collapsed": true
   },
   "source": [
    "colors = ['red', 'orange', 'yellow', 'green', 'blue', 'violet']\n",
    "for color in itertools.cycle(colors):\n",
    "    print(color)\n"
   ]
  },
  {
   "cell_type": "markdown",
   "metadata": {},
   "source": [
    "When reached the end of the iterable it start over again from the beginning.\n",
    "\n",
    "[*Return to the Top*](#python-cheatsheet)\n",
    "\n",
    "### chain()\n",
    "\n",
    "Take a series of iterables and return them as one long iterable."
   ]
  },
  {
   "cell_type": "markdown",
   "metadata": {
    "collapsed": true
   },
   "source": [
    "#error\n",
    "itertools.chain(*iterables)"
   ]
  },
  {
   "cell_type": "markdown",
   "metadata": {},
   "source": [
    "Example:"
   ]
  },
  {
   "cell_type": "markdown",
   "metadata": {
    "collapsed": true
   },
   "source": [
    "#error\n",
    "colors = ['red', 'orange', 'yellow', 'green', 'blue']\n",
    "shapes = ['circle', 'triangle', 'square', 'pentagon']\n",
    "result = itertools.chain(colors, shapes)\n",
    "for each in result:\n",
    "    print(each)\n"
   ]
  },
  {
   "cell_type": "markdown",
   "metadata": {},
   "source": [
    "[*Return to the Top*](#python-cheatsheet)\n",
    "\n",
    "### compress()\n",
    "\n",
    "Filters one iterable with another."
   ]
  },
  {
   "cell_type": "markdown",
   "metadata": {
    "collapsed": true
   },
   "source": [
    "itertools.compress(data, selectors)"
   ]
  },
  {
   "cell_type": "markdown",
   "metadata": {},
   "source": [
    "Example:"
   ]
  },
  {
   "cell_type": "markdown",
   "metadata": {
    "collapsed": true
   },
   "source": [
    "shapes = ['circle', 'triangle', 'square', 'pentagon']\n",
    "selections = [True, False, True, False]\n",
    "result = itertools.compress(shapes, selections)\n",
    "for each in result:\n",
    "    print(each)\n"
   ]
  },
  {
   "cell_type": "markdown",
   "metadata": {},
   "source": [
    "[*Return to the Top*](#python-cheatsheet)\n",
    "\n",
    "### dropwhile()\n",
    "\n",
    "Make an iterator that drops elements from the iterable as long as the predicate is true; afterwards, returns every element."
   ]
  },
  {
   "cell_type": "markdown",
   "metadata": {
    "collapsed": true
   },
   "source": [
    "itertools.dropwhile(predicate, iterable)"
   ]
  },
  {
   "cell_type": "markdown",
   "metadata": {},
   "source": [
    "Example:"
   ]
  },
  {
   "cell_type": "markdown",
   "metadata": {
    "collapsed": true
   },
   "source": [
    "data = [1, 2, 3, 4, 5, 6, 7, 8, 9, 10, 1]\n",
    "result = itertools.dropwhile(lambda x: x<5, data)\n",
    "for each in result:\n",
    "    print(each)\n"
   ]
  },
  {
   "cell_type": "markdown",
   "metadata": {},
   "source": [
    "[*Return to the Top*](#python-cheatsheet)\n",
    "\n",
    "### filterfalse()\n",
    "\n",
    "Makes an iterator that filters elements from iterable returning only those for which the predicate is False."
   ]
  },
  {
   "cell_type": "markdown",
   "metadata": {
    "collapsed": true
   },
   "source": [
    "itertools.filterfalse(predicate, iterable)"
   ]
  },
  {
   "cell_type": "markdown",
   "metadata": {},
   "source": [
    "Example:"
   ]
  },
  {
   "cell_type": "markdown",
   "metadata": {
    "collapsed": true
   },
   "source": [
    "data = [1, 2, 3, 4, 5, 6, 7, 8, 9, 10]\n",
    "result = itertools.filterfalse(lambda x: x<5, data)\n",
    "for each in result:\n",
    "    print(each)\n"
   ]
  },
  {
   "cell_type": "markdown",
   "metadata": {},
   "source": [
    "[*Return to the Top*](#python-cheatsheet)\n",
    "\n",
    "### groupby()\n",
    "\n",
    "Simply put, this function groups things together."
   ]
  },
  {
   "cell_type": "markdown",
   "metadata": {
    "collapsed": true
   },
   "source": [
    "itertools.groupby(iterable, key=None)"
   ]
  },
  {
   "cell_type": "markdown",
   "metadata": {},
   "source": [
    "Example:"
   ]
  },
  {
   "cell_type": "markdown",
   "metadata": {
    "collapsed": true
   },
   "source": [
    "robots = [{\n",
    "    'name': 'blaster',\n",
    "    'faction': 'autobot'\n",
    "}, {\n",
    "    'name': 'galvatron',\n",
    "    'faction': 'decepticon'\n",
    "}, {\n",
    "    'name': 'jazz',\n",
    "    'faction': 'autobot'\n",
    "}, {\n",
    "    'name': 'metroplex',\n",
    "    'faction': 'autobot'\n",
    "}, {\n",
    "    'name': 'megatron',\n",
    "    'faction': 'decepticon'\n",
    "}, {\n",
    "    'name': 'starcream',\n",
    "    'faction': 'decepticon'\n",
    "}]\n",
    "\n",
    "for key, group in itertools.groupby(robots, key=lambda x: x['faction']):\n",
    "    print(key)\n",
    "    print(list(group))\n",
    "\n",
    "autobot\n",
    "[{'name': 'blaster', 'faction': 'autobot'}]\n",
    "decepticon\n",
    "[{'name': 'galvatron', 'faction': 'decepticon'}]\n",
    "autobot\n",
    "[{'name': 'jazz', 'faction': 'autobot'}, {'name': 'metroplex', 'faction': 'autobot'}]\n",
    "decepticon\n",
    "[{'name': 'megatron', 'faction': 'decepticon'}, {'name': 'starcream', 'faction': 'decepticon'}]"
   ]
  },
  {
   "cell_type": "markdown",
   "metadata": {},
   "source": [
    "[*Return to the Top*](#python-cheatsheet)\n",
    "\n",
    "### islice()\n",
    "\n",
    "This function is very much like slices. This allows you to cut out a piece of an iterable."
   ]
  },
  {
   "cell_type": "markdown",
   "metadata": {
    "collapsed": true
   },
   "source": [
    "itertools.islice(iterable, start, stop[, step])"
   ]
  },
  {
   "cell_type": "markdown",
   "metadata": {},
   "source": [
    "Example:"
   ]
  },
  {
   "cell_type": "markdown",
   "metadata": {
    "collapsed": true
   },
   "source": [
    "colors = ['red', 'orange', 'yellow', 'green', 'blue',]\n",
    "few_colors = itertools.islice(colors, 2)\n",
    "for each in few_colors:\n",
    "    print(each)\n"
   ]
  },
  {
   "cell_type": "markdown",
   "metadata": {},
   "source": [
    "[*Return to the Top*](#python-cheatsheet)\n",
    "\n",
    "### permutations()"
   ]
  },
  {
   "cell_type": "markdown",
   "metadata": {
    "collapsed": true
   },
   "source": [
    "itertools.permutations(iterable, r=None)"
   ]
  },
  {
   "cell_type": "markdown",
   "metadata": {},
   "source": [
    "Example:"
   ]
  },
  {
   "cell_type": "markdown",
   "metadata": {
    "collapsed": true
   },
   "source": [
    "alpha_data = ['a', 'b', 'c']\n",
    "result = itertools.permutations(alpha_data)\n",
    "for each in result:\n",
    "    print(each)\n"
   ]
  },
  {
   "cell_type": "markdown",
   "metadata": {},
   "source": [
    "[*Return to the Top*](#python-cheatsheet)\n",
    "\n",
    "### product()\n",
    "\n",
    "Creates the cartesian products from a series of iterables."
   ]
  },
  {
   "cell_type": "markdown",
   "metadata": {
    "collapsed": true
   },
   "source": [
    "num_data = [1, 2, 3]\n",
    "alpha_data = ['a', 'b', 'c']\n",
    "result = itertools.product(num_data, alpha_data)\n",
    "for each in result:\n",
    "    print(each)\n"
   ]
  },
  {
   "cell_type": "markdown",
   "metadata": {},
   "source": [
    "[*Return to the Top*](#python-cheatsheet)\n",
    "\n",
    "### repeat()\n",
    "\n",
    "This function will repeat an object over and over again. Unless, there is a times argument."
   ]
  },
  {
   "cell_type": "markdown",
   "metadata": {
    "collapsed": true
   },
   "source": [
    "itertools.repeat(object[, times])"
   ]
  },
  {
   "cell_type": "markdown",
   "metadata": {},
   "source": [
    "Example:"
   ]
  },
  {
   "cell_type": "markdown",
   "metadata": {
    "collapsed": true
   },
   "source": [
    "for i in itertools.repeat(\"spam\", 3):\n",
    "    print(i)\n",
    "spam\n",
    "spam\n",
    "spam"
   ]
  },
  {
   "cell_type": "markdown",
   "metadata": {},
   "source": [
    "[*Return to the Top*](#python-cheatsheet)\n",
    "\n",
    "### starmap()\n",
    "\n",
    "Makes an iterator that computes the function using arguments obtained from the iterable."
   ]
  },
  {
   "cell_type": "markdown",
   "metadata": {
    "collapsed": true
   },
   "source": [
    "itertools.starmap(function, iterable)"
   ]
  },
  {
   "cell_type": "markdown",
   "metadata": {},
   "source": [
    "Example:"
   ]
  },
  {
   "cell_type": "markdown",
   "metadata": {
    "collapsed": true
   },
   "source": [
    ">>> data = [(2, 6), (8, 4), (7, 3)]\n",
    ">>> result = itertools.starmap(operator.mul, data)\n",
    ">>> for each in result:\n",
    ">>>    print(each)\n",
    "12\n",
    "32\n",
    "21"
   ]
  },
  {
   "cell_type": "markdown",
   "metadata": {},
   "source": [
    "[*Return to the Top*](#python-cheatsheet)\n",
    "\n",
    "### takewhile()\n",
    "\n",
    "The opposite of dropwhile(). Makes an iterator and returns elements from the iterable as long as the predicate is true."
   ]
  },
  {
   "cell_type": "markdown",
   "metadata": {
    "collapsed": true
   },
   "source": [
    "itertools.takwwhile(predicate, iterable)"
   ]
  },
  {
   "cell_type": "markdown",
   "metadata": {},
   "source": [
    "Example:"
   ]
  },
  {
   "cell_type": "markdown",
   "metadata": {
    "collapsed": true
   },
   "source": [
    ">>> data = [1, 2, 3, 4, 5, 6, 7, 8, 9, 10, 1]\n",
    ">>> result = itertools.takewhile(lambda x: x<5, data)\n",
    ">>> for each in result:\n",
    ">>>    print(each)\n",
    "1\n",
    "2\n",
    "3\n",
    "4"
   ]
  },
  {
   "cell_type": "markdown",
   "metadata": {},
   "source": [
    "[*Return to the Top*](#python-cheatsheet)\n",
    "\n",
    "### tee()\n",
    "\n",
    "Return n independent iterators from a single iterable."
   ]
  },
  {
   "cell_type": "markdown",
   "metadata": {
    "collapsed": true
   },
   "source": [
    "itertools.tee(iterable, n=2)"
   ]
  },
  {
   "cell_type": "markdown",
   "metadata": {},
   "source": [
    "Example:"
   ]
  },
  {
   "cell_type": "markdown",
   "metadata": {
    "collapsed": true
   },
   "source": [
    ">>> colors = ['red', 'orange', 'yellow', 'green', 'blue']\n",
    ">>> alpha_colors, beta_colors = itertools.tee(colors)\n",
    ">>> for each in alpha_colors:\n",
    ">>>    print(each)\n",
    "red\n",
    "orange\n",
    "yellow\n",
    "green\n",
    "blue"
   ]
  },
  {
   "cell_type": "markdown",
   "metadata": {
    "collapsed": true
   },
   "source": [
    ">>> colors = ['red', 'orange', 'yellow', 'green', 'blue']\n",
    ">>> alpha_colors, beta_colors = itertools.tee(colors)\n",
    ">>> for each in beta_colors:\n",
    ">>>    print(each)\n",
    "red\n",
    "orange\n",
    "yellow\n",
    "green\n",
    "blue"
   ]
  },
  {
   "cell_type": "markdown",
   "metadata": {},
   "source": [
    "[*Return to the Top*](#python-cheatsheet)\n",
    "\n",
    "### zip_longest()\n",
    "\n",
    "Makes an iterator that aggregates elements from each of the iterables. If the iterables are of uneven length, missing values are filled-in with fillvalue. Iteration continues until the longest iterable is exhausted."
   ]
  },
  {
   "cell_type": "markdown",
   "metadata": {
    "collapsed": true
   },
   "source": [
    "itertools.zip_longest(*iterables, fillvalue=None)"
   ]
  },
  {
   "cell_type": "markdown",
   "metadata": {},
   "source": [
    "Example:"
   ]
  },
  {
   "cell_type": "markdown",
   "metadata": {
    "collapsed": true
   },
   "source": [
    ">>> colors = ['red', 'orange', 'yellow', 'green', 'blue',]\n",
    ">>> data = [1, 2, 3, 4, 5, 6, 7, 8, 9, 10,]\n",
    ">>> for each in itertools.zip_longest(colors, data, fillvalue=None):\n",
    ">>>    print(each)\n",
    "('red', 1)\n",
    "('orange', 2)\n",
    "('yellow', 3)\n",
    "('green', 4)\n",
    "('blue', 5)\n",
    "(None, 6)\n",
    "(None, 7)\n",
    "(None, 8)\n",
    "(None, 9)\n",
    "(None, 10)"
   ]
  },
  {
   "cell_type": "markdown",
   "metadata": {},
   "source": [
    "[*Return to the Top*](#python-cheatsheet)\n",
    "\n",
    "## Comprehensions\n",
    "\n",
    "### List comprehension"
   ]
  },
  {
   "cell_type": "code",
   "execution_count": 2,
   "metadata": {},
   "outputs": [
    {
     "data": {
      "text/plain": [
       "[0, 2, 4, 6, 8, 10]"
      ]
     },
     "execution_count": 2,
     "metadata": {},
     "output_type": "execute_result"
    }
   ],
   "source": [
    "a = [1, 3, 5, 7, 9, 11]\n",
    "\n",
    "[i - 1 for i in a]\n"
   ]
  },
  {
   "cell_type": "markdown",
   "metadata": {},
   "source": [
    "### Set comprehension"
   ]
  },
  {
   "cell_type": "code",
   "execution_count": 3,
   "metadata": {},
   "outputs": [
    {
     "data": {
      "text/plain": [
       "{'ABC', 'DEF'}"
      ]
     },
     "execution_count": 3,
     "metadata": {},
     "output_type": "execute_result"
    }
   ],
   "source": [
    "b = {\"abc\", \"def\"}\n",
    "{s.upper() for s in b}\n"
   ]
  },
  {
   "cell_type": "markdown",
   "metadata": {},
   "source": [
    "### Dict comprehension"
   ]
  },
  {
   "cell_type": "code",
   "execution_count": 4,
   "metadata": {},
   "outputs": [
    {
     "ename": "SyntaxError",
     "evalue": "invalid syntax (<ipython-input-4-9bae94954eb0>, line 2)",
     "output_type": "error",
     "traceback": [
      "\u001b[1;36m  File \u001b[1;32m\"<ipython-input-4-9bae94954eb0>\"\u001b[1;36m, line \u001b[1;32m2\u001b[0m\n\u001b[1;33m    {v, k for k, v in c.items()}\u001b[0m\n\u001b[1;37m            ^\u001b[0m\n\u001b[1;31mSyntaxError\u001b[0m\u001b[1;31m:\u001b[0m invalid syntax\n"
     ]
    }
   ],
   "source": [
    "#error\n",
    "c = {'name': 'Pooka', 'age': 5}\n",
    "{v, k for k, v in c.items()}\n"
   ]
  },
  {
   "cell_type": "markdown",
   "metadata": {},
   "source": [
    "A List comprehension can be generated from a dictionary:"
   ]
  },
  {
   "cell_type": "code",
   "execution_count": 5,
   "metadata": {},
   "outputs": [
    {
     "data": {
      "text/plain": [
       "['FIRST_NAME:OOOKA', 'NAME:POOKA']"
      ]
     },
     "execution_count": 5,
     "metadata": {},
     "output_type": "execute_result"
    }
   ],
   "source": [
    "c = {'name': 'Pooka', 'first_name': 'Oooka'}\n",
    "[\"{}:{}\".format(k.upper(), v.upper()) for k, v in c.items()]\n"
   ]
  },
  {
   "cell_type": "markdown",
   "metadata": {},
   "source": [
    "## Manipulating Strings\n",
    "\n",
    "### Escape Characters\n",
    "\n",
    "| Escape character   | Prints as            |\n",
    "| ------------------ | -------------------- |\n",
    "| `\\'`               | Single quote         |\n",
    "| `\\\"`               | Double quote         |\n",
    "| `\\t`               | Tab                  |\n",
    "| `\\n`               | Newline (line break) |\n",
    "| `\\\\`               | Backslash            |\n",
    "\n",
    "Example:"
   ]
  },
  {
   "cell_type": "code",
   "execution_count": 6,
   "metadata": {},
   "outputs": [
    {
     "name": "stdout",
     "output_type": "stream",
     "text": [
      "Hello there!\n",
      "How are you?\n",
      "I'm doing fine.\n"
     ]
    }
   ],
   "source": [
    "print(\"Hello there!\\nHow are you?\\nI\\'m doing fine.\")\n"
   ]
  },
  {
   "cell_type": "markdown",
   "metadata": {},
   "source": [
    "[*Return to the Top*](#python-cheatsheet)\n",
    "\n",
    "### Raw Strings\n",
    "\n",
    "A raw string completely ignores all escape characters and prints any backslash that appears in the string."
   ]
  },
  {
   "cell_type": "code",
   "execution_count": 7,
   "metadata": {},
   "outputs": [
    {
     "name": "stdout",
     "output_type": "stream",
     "text": [
      "That is Carol\\'s cat.\n"
     ]
    }
   ],
   "source": [
    "print(r'That is Carol\\'s cat.')\n"
   ]
  },
  {
   "cell_type": "markdown",
   "metadata": {},
   "source": [
    "[*Return to the Top*](#python-cheatsheet)\n",
    "\n",
    "Note: mostly used for regular expression definition (see `re` package)\n",
    "\n",
    "### Multiline Strings with Triple Quotes"
   ]
  },
  {
   "cell_type": "code",
   "execution_count": 8,
   "metadata": {},
   "outputs": [
    {
     "name": "stdout",
     "output_type": "stream",
     "text": [
      "Dear Alice,\n",
      "\n",
      "Eve's cat has been arrested for catnapping, cat burglary, and extortion.\n",
      "\n",
      "Sincerely,\n",
      "Bob\n"
     ]
    }
   ],
   "source": [
    "print('''Dear Alice,\n",
    "\n",
    "Eve's cat has been arrested for catnapping, cat burglary, and extortion.\n",
    "\n",
    "Sincerely,\n",
    "Bob''')\n"
   ]
  },
  {
   "cell_type": "markdown",
   "metadata": {},
   "source": [
    "To keep a nicer flow in your code, you can use the `dedent` function from the `textwrap` standard package."
   ]
  },
  {
   "cell_type": "code",
   "execution_count": 9,
   "metadata": {
    "collapsed": true
   },
   "outputs": [],
   "source": [
    "from textwrap import dedent\n",
    "\n",
    "def my_function():\n",
    "    print('''\n",
    "       Dear Alice,\n",
    "\n",
    "        Eve's cat has been arrested for catnapping, cat burglary, and extortion.\n",
    "\n",
    "         Sincerely,\n",
    "         Bob\n",
    "         ''').strip()"
   ]
  },
  {
   "cell_type": "markdown",
   "metadata": {},
   "source": [
    "This generates the same string than before.\n",
    "\n",
    "[*Return to the Top*](#python-cheatsheet)\n",
    "\n",
    "### Indexing and Slicing Strings"
   ]
  },
  {
   "cell_type": "markdown",
   "metadata": {
    "collapsed": true
   },
   "source": [
    "H   e   l   l   o       w   o   r   l   d    !\n",
    "0   1   2   3   4   5   6   7   8   9   10   11"
   ]
  },
  {
   "cell_type": "code",
   "execution_count": 10,
   "metadata": {},
   "outputs": [
    {
     "data": {
      "text/plain": [
       "'H'"
      ]
     },
     "execution_count": 10,
     "metadata": {},
     "output_type": "execute_result"
    }
   ],
   "source": [
    "spam = 'Hello world!'\n",
    "\n",
    "spam[0]\n"
   ]
  },
  {
   "cell_type": "code",
   "execution_count": 11,
   "metadata": {},
   "outputs": [
    {
     "data": {
      "text/plain": [
       "'o'"
      ]
     },
     "execution_count": 11,
     "metadata": {},
     "output_type": "execute_result"
    }
   ],
   "source": [
    "spam[4]\n"
   ]
  },
  {
   "cell_type": "code",
   "execution_count": 12,
   "metadata": {},
   "outputs": [
    {
     "data": {
      "text/plain": [
       "'!'"
      ]
     },
     "execution_count": 12,
     "metadata": {},
     "output_type": "execute_result"
    }
   ],
   "source": [
    "spam[-1]\n"
   ]
  },
  {
   "cell_type": "markdown",
   "metadata": {},
   "source": [
    "Slicing:"
   ]
  },
  {
   "cell_type": "code",
   "execution_count": 13,
   "metadata": {},
   "outputs": [
    {
     "data": {
      "text/plain": [
       "'Hello'"
      ]
     },
     "execution_count": 13,
     "metadata": {},
     "output_type": "execute_result"
    }
   ],
   "source": [
    "\n",
    "spam[0:5]\n"
   ]
  },
  {
   "cell_type": "code",
   "execution_count": 14,
   "metadata": {},
   "outputs": [
    {
     "data": {
      "text/plain": [
       "'Hello'"
      ]
     },
     "execution_count": 14,
     "metadata": {},
     "output_type": "execute_result"
    }
   ],
   "source": [
    "spam[:5]\n"
   ]
  },
  {
   "cell_type": "code",
   "execution_count": 15,
   "metadata": {},
   "outputs": [
    {
     "data": {
      "text/plain": [
       "'world!'"
      ]
     },
     "execution_count": 15,
     "metadata": {},
     "output_type": "execute_result"
    }
   ],
   "source": [
    "spam[6:]\n"
   ]
  },
  {
   "cell_type": "code",
   "execution_count": 16,
   "metadata": {},
   "outputs": [
    {
     "data": {
      "text/plain": [
       "'world'"
      ]
     },
     "execution_count": 16,
     "metadata": {},
     "output_type": "execute_result"
    }
   ],
   "source": [
    "spam[6:-1]\n"
   ]
  },
  {
   "cell_type": "code",
   "execution_count": 17,
   "metadata": {},
   "outputs": [
    {
     "data": {
      "text/plain": [
       "'Hello world'"
      ]
     },
     "execution_count": 17,
     "metadata": {},
     "output_type": "execute_result"
    }
   ],
   "source": [
    "spam[:-1]\n"
   ]
  },
  {
   "cell_type": "code",
   "execution_count": 18,
   "metadata": {},
   "outputs": [
    {
     "data": {
      "text/plain": [
       "'!dlrow olleH'"
      ]
     },
     "execution_count": 18,
     "metadata": {},
     "output_type": "execute_result"
    }
   ],
   "source": [
    "spam[::-1]\n"
   ]
  },
  {
   "cell_type": "code",
   "execution_count": 19,
   "metadata": {},
   "outputs": [
    {
     "data": {
      "text/plain": [
       "'Hello'"
      ]
     },
     "execution_count": 19,
     "metadata": {},
     "output_type": "execute_result"
    }
   ],
   "source": [
    "spam = 'Hello world!'\n",
    "fizz = spam[0:5]\n",
    "fizz\n"
   ]
  },
  {
   "cell_type": "markdown",
   "metadata": {},
   "source": [
    "[*Return to the Top*](#python-cheatsheet)\n",
    "\n",
    "### The in and not in Operators with Strings"
   ]
  },
  {
   "cell_type": "code",
   "execution_count": 20,
   "metadata": {},
   "outputs": [
    {
     "data": {
      "text/plain": [
       "True"
      ]
     },
     "execution_count": 20,
     "metadata": {},
     "output_type": "execute_result"
    }
   ],
   "source": [
    "'Hello' in 'Hello World'\n"
   ]
  },
  {
   "cell_type": "code",
   "execution_count": 21,
   "metadata": {},
   "outputs": [
    {
     "data": {
      "text/plain": [
       "True"
      ]
     },
     "execution_count": 21,
     "metadata": {},
     "output_type": "execute_result"
    }
   ],
   "source": [
    "'Hello' in 'Hello'\n"
   ]
  },
  {
   "cell_type": "code",
   "execution_count": 22,
   "metadata": {},
   "outputs": [
    {
     "data": {
      "text/plain": [
       "False"
      ]
     },
     "execution_count": 22,
     "metadata": {},
     "output_type": "execute_result"
    }
   ],
   "source": [
    "'HELLO' in 'Hello World'\n"
   ]
  },
  {
   "cell_type": "code",
   "execution_count": 23,
   "metadata": {},
   "outputs": [
    {
     "data": {
      "text/plain": [
       "True"
      ]
     },
     "execution_count": 23,
     "metadata": {},
     "output_type": "execute_result"
    }
   ],
   "source": [
    "'' in 'spam'\n"
   ]
  },
  {
   "cell_type": "code",
   "execution_count": 26,
   "metadata": {},
   "outputs": [
    {
     "data": {
      "text/plain": [
       "False"
      ]
     },
     "execution_count": 26,
     "metadata": {},
     "output_type": "execute_result"
    }
   ],
   "source": [
    "'cats' not in 'cats and dogs'"
   ]
  },
  {
   "cell_type": "markdown",
   "metadata": {},
   "source": [
    "### The in and not in Operators with list"
   ]
  },
  {
   "cell_type": "code",
   "execution_count": 27,
   "metadata": {},
   "outputs": [
    {
     "data": {
      "text/plain": [
       "False"
      ]
     },
     "execution_count": 27,
     "metadata": {},
     "output_type": "execute_result"
    }
   ],
   "source": [
    "a = [1, 2, 3, 4]\n",
    "5 in a\n"
   ]
  },
  {
   "cell_type": "code",
   "execution_count": 28,
   "metadata": {},
   "outputs": [
    {
     "data": {
      "text/plain": [
       "True"
      ]
     },
     "execution_count": 28,
     "metadata": {},
     "output_type": "execute_result"
    }
   ],
   "source": [
    "2 in a\n"
   ]
  },
  {
   "cell_type": "markdown",
   "metadata": {},
   "source": [
    "[*Return to the Top*](#python-cheatsheet)\n",
    "\n",
    "### The upper(), lower(), isupper(), and islower() String Methods\n",
    "\n",
    "`upper()` and `lower()`:"
   ]
  },
  {
   "cell_type": "code",
   "execution_count": 29,
   "metadata": {},
   "outputs": [
    {
     "data": {
      "text/plain": [
       "'HELLO WORLD!'"
      ]
     },
     "execution_count": 29,
     "metadata": {},
     "output_type": "execute_result"
    }
   ],
   "source": [
    "spam = 'Hello world!'\n",
    "spam = spam.upper()\n",
    "spam\n"
   ]
  },
  {
   "cell_type": "code",
   "execution_count": 30,
   "metadata": {
    "collapsed": true
   },
   "outputs": [],
   "source": [
    "spam = spam.lower()\n"
   ]
  },
  {
   "cell_type": "markdown",
   "metadata": {},
   "source": [
    "isupper() and islower():"
   ]
  },
  {
   "cell_type": "code",
   "execution_count": 31,
   "metadata": {},
   "outputs": [
    {
     "data": {
      "text/plain": [
       "False"
      ]
     },
     "execution_count": 31,
     "metadata": {},
     "output_type": "execute_result"
    }
   ],
   "source": [
    "spam = 'Hello world!'\n",
    "spam.islower()\n"
   ]
  },
  {
   "cell_type": "code",
   "execution_count": 32,
   "metadata": {},
   "outputs": [
    {
     "data": {
      "text/plain": [
       "False"
      ]
     },
     "execution_count": 32,
     "metadata": {},
     "output_type": "execute_result"
    }
   ],
   "source": [
    "spam.isupper()\n"
   ]
  },
  {
   "cell_type": "code",
   "execution_count": 33,
   "metadata": {},
   "outputs": [
    {
     "data": {
      "text/plain": [
       "True"
      ]
     },
     "execution_count": 33,
     "metadata": {},
     "output_type": "execute_result"
    }
   ],
   "source": [
    "'HELLO'.isupper()\n"
   ]
  },
  {
   "cell_type": "code",
   "execution_count": 34,
   "metadata": {},
   "outputs": [
    {
     "data": {
      "text/plain": [
       "True"
      ]
     },
     "execution_count": 34,
     "metadata": {},
     "output_type": "execute_result"
    }
   ],
   "source": [
    "'abc12345'.islower()\n"
   ]
  },
  {
   "cell_type": "code",
   "execution_count": 35,
   "metadata": {},
   "outputs": [
    {
     "data": {
      "text/plain": [
       "False"
      ]
     },
     "execution_count": 35,
     "metadata": {},
     "output_type": "execute_result"
    }
   ],
   "source": [
    "'12345'.islower()\n"
   ]
  },
  {
   "cell_type": "code",
   "execution_count": 36,
   "metadata": {},
   "outputs": [
    {
     "data": {
      "text/plain": [
       "False"
      ]
     },
     "execution_count": 36,
     "metadata": {},
     "output_type": "execute_result"
    }
   ],
   "source": [
    "'12345'.isupper()\n"
   ]
  },
  {
   "cell_type": "markdown",
   "metadata": {},
   "source": [
    "[*Return to the Top*](#python-cheatsheet)\n",
    "\n",
    "### The isX String Methods\n",
    "\n",
    "- **isalpha()** returns True if the string consists only of letters and is not blank.\n",
    "- **isalnum()** returns True if the string consists only of lettersand numbers and is not blank.\n",
    "- **isdecimal()** returns True if the string consists only ofnumeric characters and is not blank.\n",
    "- **isspace()** returns True if the string consists only of spaces,tabs, and new-lines and is not blank.\n",
    "- **istitle()** returns True if the string consists only of wordsthat begin with an uppercase letter followed by onlylowercase letters.\n",
    "\n",
    "[*Return to the Top*](#python-cheatsheet)\n",
    "\n",
    "### The startswith() and endswith() String Methods"
   ]
  },
  {
   "cell_type": "code",
   "execution_count": 37,
   "metadata": {},
   "outputs": [
    {
     "data": {
      "text/plain": [
       "True"
      ]
     },
     "execution_count": 37,
     "metadata": {},
     "output_type": "execute_result"
    }
   ],
   "source": [
    "'Hello world!'.startswith('Hello')\n"
   ]
  },
  {
   "cell_type": "code",
   "execution_count": 38,
   "metadata": {},
   "outputs": [
    {
     "data": {
      "text/plain": [
       "True"
      ]
     },
     "execution_count": 38,
     "metadata": {},
     "output_type": "execute_result"
    }
   ],
   "source": [
    "'Hello world!'.endswith('world!')\n"
   ]
  },
  {
   "cell_type": "code",
   "execution_count": 39,
   "metadata": {},
   "outputs": [
    {
     "data": {
      "text/plain": [
       "False"
      ]
     },
     "execution_count": 39,
     "metadata": {},
     "output_type": "execute_result"
    }
   ],
   "source": [
    "'abc123'.startswith('abcdef')\n"
   ]
  },
  {
   "cell_type": "code",
   "execution_count": 40,
   "metadata": {},
   "outputs": [
    {
     "data": {
      "text/plain": [
       "False"
      ]
     },
     "execution_count": 40,
     "metadata": {},
     "output_type": "execute_result"
    }
   ],
   "source": [
    "'abc123'.endswith('12')\n"
   ]
  },
  {
   "cell_type": "code",
   "execution_count": 41,
   "metadata": {},
   "outputs": [
    {
     "data": {
      "text/plain": [
       "True"
      ]
     },
     "execution_count": 41,
     "metadata": {},
     "output_type": "execute_result"
    }
   ],
   "source": [
    "'Hello world!'.startswith('Hello world!')\n"
   ]
  },
  {
   "cell_type": "code",
   "execution_count": 42,
   "metadata": {},
   "outputs": [
    {
     "data": {
      "text/plain": [
       "True"
      ]
     },
     "execution_count": 42,
     "metadata": {},
     "output_type": "execute_result"
    }
   ],
   "source": [
    "'Hello world!'.endswith('Hello world!')\n"
   ]
  },
  {
   "cell_type": "markdown",
   "metadata": {},
   "source": [
    "[*Return to the Top*](#python-cheatsheet)\n",
    "\n",
    "### The join() and split() String Methods\n",
    "\n",
    "join():"
   ]
  },
  {
   "cell_type": "code",
   "execution_count": 43,
   "metadata": {},
   "outputs": [
    {
     "data": {
      "text/plain": [
       "'cats, rats, bats'"
      ]
     },
     "execution_count": 43,
     "metadata": {},
     "output_type": "execute_result"
    }
   ],
   "source": [
    "', '.join(['cats', 'rats', 'bats'])\n"
   ]
  },
  {
   "cell_type": "code",
   "execution_count": 44,
   "metadata": {},
   "outputs": [
    {
     "data": {
      "text/plain": [
       "'My name is Simon'"
      ]
     },
     "execution_count": 44,
     "metadata": {},
     "output_type": "execute_result"
    }
   ],
   "source": [
    "' '.join(['My', 'name', 'is', 'Simon'])\n"
   ]
  },
  {
   "cell_type": "code",
   "execution_count": 45,
   "metadata": {},
   "outputs": [
    {
     "data": {
      "text/plain": [
       "'MyABCnameABCisABCSimon'"
      ]
     },
     "execution_count": 45,
     "metadata": {},
     "output_type": "execute_result"
    }
   ],
   "source": [
    "'ABC'.join(['My', 'name', 'is', 'Simon'])\n"
   ]
  },
  {
   "cell_type": "markdown",
   "metadata": {},
   "source": [
    "split():"
   ]
  },
  {
   "cell_type": "code",
   "execution_count": 46,
   "metadata": {},
   "outputs": [
    {
     "data": {
      "text/plain": [
       "['My', 'name', 'is', 'Simon']"
      ]
     },
     "execution_count": 46,
     "metadata": {},
     "output_type": "execute_result"
    }
   ],
   "source": [
    "'My name is Simon'.split()\n"
   ]
  },
  {
   "cell_type": "code",
   "execution_count": 47,
   "metadata": {},
   "outputs": [
    {
     "data": {
      "text/plain": [
       "['My', 'name', 'is', 'Simon']"
      ]
     },
     "execution_count": 47,
     "metadata": {},
     "output_type": "execute_result"
    }
   ],
   "source": [
    "'MyABCnameABCisABCSimon'.split('ABC')\n"
   ]
  },
  {
   "cell_type": "code",
   "execution_count": 48,
   "metadata": {},
   "outputs": [
    {
     "data": {
      "text/plain": [
       "['My na', 'e is Si', 'on']"
      ]
     },
     "execution_count": 48,
     "metadata": {},
     "output_type": "execute_result"
    }
   ],
   "source": [
    "'My name is Simon'.split('m')\n"
   ]
  },
  {
   "cell_type": "markdown",
   "metadata": {},
   "source": [
    "[*Return to the Top*](#python-cheatsheet)\n",
    "\n",
    "### Justifying Text with rjust(), ljust(), and center()\n",
    "\n",
    "rjust() and ljust():"
   ]
  },
  {
   "cell_type": "code",
   "execution_count": 49,
   "metadata": {},
   "outputs": [
    {
     "data": {
      "text/plain": [
       "'     Hello'"
      ]
     },
     "execution_count": 49,
     "metadata": {},
     "output_type": "execute_result"
    }
   ],
   "source": [
    "'Hello'.rjust(10)\n"
   ]
  },
  {
   "cell_type": "code",
   "execution_count": 50,
   "metadata": {},
   "outputs": [
    {
     "data": {
      "text/plain": [
       "'               Hello'"
      ]
     },
     "execution_count": 50,
     "metadata": {},
     "output_type": "execute_result"
    }
   ],
   "source": [
    "'Hello'.rjust(20)\n",
    "'               Hello'"
   ]
  },
  {
   "cell_type": "code",
   "execution_count": 51,
   "metadata": {},
   "outputs": [
    {
     "data": {
      "text/plain": [
       "'         Hello World'"
      ]
     },
     "execution_count": 51,
     "metadata": {},
     "output_type": "execute_result"
    }
   ],
   "source": [
    " 'Hello World'.rjust(20)\n"
   ]
  },
  {
   "cell_type": "code",
   "execution_count": 52,
   "metadata": {},
   "outputs": [
    {
     "data": {
      "text/plain": [
       "'Hello     '"
      ]
     },
     "execution_count": 52,
     "metadata": {},
     "output_type": "execute_result"
    }
   ],
   "source": [
    "'Hello'.ljust(10)\n"
   ]
  },
  {
   "cell_type": "markdown",
   "metadata": {},
   "source": [
    "An optional second argument to rjust() and ljust() will specify a fill character other than a space character. Enter the following into the interactive shell:"
   ]
  },
  {
   "cell_type": "code",
   "execution_count": 53,
   "metadata": {},
   "outputs": [
    {
     "data": {
      "text/plain": [
       "'***************Hello'"
      ]
     },
     "execution_count": 53,
     "metadata": {},
     "output_type": "execute_result"
    }
   ],
   "source": [
    "'Hello'.rjust(20, '*')\n"
   ]
  },
  {
   "cell_type": "code",
   "execution_count": 54,
   "metadata": {},
   "outputs": [
    {
     "data": {
      "text/plain": [
       "'Hello---------------'"
      ]
     },
     "execution_count": 54,
     "metadata": {},
     "output_type": "execute_result"
    }
   ],
   "source": [
    "'Hello'.ljust(20, '-')\n"
   ]
  },
  {
   "cell_type": "markdown",
   "metadata": {},
   "source": [
    "center():"
   ]
  },
  {
   "cell_type": "code",
   "execution_count": 55,
   "metadata": {},
   "outputs": [
    {
     "data": {
      "text/plain": [
       "'       Hello        '"
      ]
     },
     "execution_count": 55,
     "metadata": {},
     "output_type": "execute_result"
    }
   ],
   "source": [
    "'Hello'.center(20)\n"
   ]
  },
  {
   "cell_type": "code",
   "execution_count": 56,
   "metadata": {},
   "outputs": [
    {
     "data": {
      "text/plain": [
       "'=======Hello========'"
      ]
     },
     "execution_count": 56,
     "metadata": {},
     "output_type": "execute_result"
    }
   ],
   "source": [
    "'Hello'.center(20, '=')\n"
   ]
  },
  {
   "cell_type": "markdown",
   "metadata": {},
   "source": [
    "[*Return to the Top*](#python-cheatsheet)\n",
    "\n",
    "### Removing Whitespace with strip(), rstrip(), and lstrip()"
   ]
  },
  {
   "cell_type": "code",
   "execution_count": 57,
   "metadata": {},
   "outputs": [
    {
     "data": {
      "text/plain": [
       "'Hello World'"
      ]
     },
     "execution_count": 57,
     "metadata": {},
     "output_type": "execute_result"
    }
   ],
   "source": [
    "spam = '    Hello World     '\n",
    "spam.strip()\n"
   ]
  },
  {
   "cell_type": "code",
   "execution_count": 58,
   "metadata": {},
   "outputs": [
    {
     "data": {
      "text/plain": [
       "'Hello World     '"
      ]
     },
     "execution_count": 58,
     "metadata": {},
     "output_type": "execute_result"
    }
   ],
   "source": [
    "spam.lstrip()\n"
   ]
  },
  {
   "cell_type": "code",
   "execution_count": 59,
   "metadata": {},
   "outputs": [
    {
     "data": {
      "text/plain": [
       "'    Hello World'"
      ]
     },
     "execution_count": 59,
     "metadata": {},
     "output_type": "execute_result"
    }
   ],
   "source": [
    "spam.rstrip()\n"
   ]
  },
  {
   "cell_type": "code",
   "execution_count": 60,
   "metadata": {},
   "outputs": [
    {
     "data": {
      "text/plain": [
       "'BaconSpamEggs'"
      ]
     },
     "execution_count": 60,
     "metadata": {},
     "output_type": "execute_result"
    }
   ],
   "source": [
    "spam = 'SpamSpamBaconSpamEggsSpamSpam'\n",
    "spam.strip('ampS')\n"
   ]
  },
  {
   "cell_type": "markdown",
   "metadata": {},
   "source": [
    "[*Return to the Top*](#python-cheatsheet)\n",
    "\n",
    "### Copying and Pasting Strings with the pyperclip Module (need pip install)"
   ]
  },
  {
   "cell_type": "markdown",
   "metadata": {
    "collapsed": true
   },
   "source": [
    "import pyperclip\n",
    "\n",
    "pyperclip.copy('Hello world!')\n",
    "\n",
    "pyperclip.paste()\n",
    "'Hello world!'"
   ]
  },
  {
   "cell_type": "markdown",
   "metadata": {},
   "source": [
    "[*Return to the Top*](#python-cheatsheet)\n",
    "\n",
    "## String Formatting\n",
    "\n",
    "### % operator"
   ]
  },
  {
   "cell_type": "code",
   "execution_count": 62,
   "metadata": {},
   "outputs": [
    {
     "data": {
      "text/plain": [
       "'Hello Pete'"
      ]
     },
     "execution_count": 62,
     "metadata": {},
     "output_type": "execute_result"
    }
   ],
   "source": [
    "name = 'Pete'\n",
    "'Hello %s' % name\n"
   ]
  },
  {
   "cell_type": "markdown",
   "metadata": {},
   "source": [
    "We can use the `%x` format specifier to convert an int value to a string:"
   ]
  },
  {
   "cell_type": "code",
   "execution_count": 63,
   "metadata": {},
   "outputs": [
    {
     "data": {
      "text/plain": [
       "'I have 5 apples'"
      ]
     },
     "execution_count": 63,
     "metadata": {},
     "output_type": "execute_result"
    }
   ],
   "source": [
    "num = 5\n",
    "'I have %x apples' % num\n"
   ]
  },
  {
   "cell_type": "markdown",
   "metadata": {},
   "source": [
    "Note: For new code prefere using str.format over the `%` operator.\n",
    "\n",
    "[*Return to the Top*](#python-cheatsheet)\n",
    "\n",
    "### String Formatting (str.format)\n",
    "\n",
    "Python 3 introduced a new way to do string formatting that was later back-ported to Python 2.7. This makes the syntax for string formatting more regular."
   ]
  },
  {
   "cell_type": "code",
   "execution_count": 66,
   "metadata": {},
   "outputs": [
    {
     "data": {
      "text/plain": [
       "\"Hello I'm John, my age is 20\""
      ]
     },
     "execution_count": 66,
     "metadata": {},
     "output_type": "execute_result"
    }
   ],
   "source": [
    "name = 'John'\n",
    "age = 20\n",
    "\n",
    "\"Hello I'm {}, my age is {}\".format(name, age)\n"
   ]
  },
  {
   "cell_type": "code",
   "execution_count": 67,
   "metadata": {},
   "outputs": [
    {
     "data": {
      "text/plain": [
       "\"Hello I'm John, my age is 20\""
      ]
     },
     "execution_count": 67,
     "metadata": {},
     "output_type": "execute_result"
    }
   ],
   "source": [
    "\"Hello I'm {0}, my age is {1}\".format(name, age)\n"
   ]
  },
  {
   "cell_type": "markdown",
   "metadata": {},
   "source": [
    "The official [Python 3.x documentation](https://docs.python.org/3/library/stdtypes.html?highlight=sprintf#printf-style-string-formatting) recommend `str.format` over the `%` operator:\n",
    "\n",
    "> The formatting operations described here exhibit a variety of quirks that lead to a number of common errors (such as failing to display tuples and dictionaries correctly). Using the newer formatted string literals or the str.format() interface helps avoid these errors. These alternatives also provide more powerful, flexible and extensible approaches to formatting text.\n",
    "\n",
    "[*Return to the Top*](#python-cheatsheet)\n",
    "\n",
    "### Lazy string formatting\n",
    "\n",
    "You would only use `%s` string formatting on functions that can do lazy parameters evaluation,\n",
    "the most common being logging:\n",
    "\n",
    "Prefer:"
   ]
  },
  {
   "cell_type": "markdown",
   "metadata": {
    "collapsed": true
   },
   "source": [
    "name = \"alice\"\n",
    "logging.debug(\"User name: %s\", name)"
   ]
  },
  {
   "cell_type": "markdown",
   "metadata": {},
   "source": [
    "Over:"
   ]
  },
  {
   "cell_type": "markdown",
   "metadata": {
    "collapsed": true
   },
   "source": [
    "logging.debug(\"User name: {}\".format(name))"
   ]
  },
  {
   "cell_type": "markdown",
   "metadata": {},
   "source": [
    "Or:"
   ]
  },
  {
   "cell_type": "markdown",
   "metadata": {
    "collapsed": true
   },
   "source": [
    "logging.debug(\"User name: \" + name)"
   ]
  },
  {
   "cell_type": "markdown",
   "metadata": {},
   "source": [
    "[*Return to the Top*](#python-cheatsheet)\n",
    "\n",
    "### Formatted String Literals (Python 3.6+)"
   ]
  },
  {
   "cell_type": "markdown",
   "metadata": {
    "collapsed": true
   },
   "source": [
    "name = 'Elizabeth'\n",
    "f'Hello {name}!'\n"
   ]
  },
  {
   "cell_type": "markdown",
   "metadata": {},
   "source": [
    "It is even possible to do inline arithmetic with it:"
   ]
  },
  {
   "cell_type": "markdown",
   "metadata": {
    "collapsed": true
   },
   "source": [
    "#error\n",
    "a = 5\n",
    "b = 10\n",
    "f'Five plus ten is {a + b} and not {2 * (a + b)}.'\n"
   ]
  },
  {
   "cell_type": "markdown",
   "metadata": {},
   "source": [
    "[*Return to the Top*](#python-cheatsheet)\n",
    "\n",
    "### Template Strings\n",
    "\n",
    " A simpler and less powerful mechanism, but it is recommended when handling format strings generated by users. Due to their reduced complexity template strings are a safer choice."
   ]
  },
  {
   "cell_type": "code",
   "execution_count": 70,
   "metadata": {},
   "outputs": [
    {
     "data": {
      "text/plain": [
       "'Hey Elizabeth!'"
      ]
     },
     "execution_count": 70,
     "metadata": {},
     "output_type": "execute_result"
    }
   ],
   "source": [
    "from string import Template\n",
    "name = 'Elizabeth'\n",
    "t = Template('Hey $name!')\n",
    "t.substitute(name=name)\n"
   ]
  },
  {
   "cell_type": "markdown",
   "metadata": {},
   "source": [
    "[*Return to the Top*](#python-cheatsheet)\n",
    "\n",
    "## Regular Expressions\n",
    "\n",
    "1. Import the regex module with `import re`.\n",
    "1. Create a Regex object with the `re.compile()` function. (Remember to use a raw string.)\n",
    "1. Pass the string you want to search into the Regex object’s `search()` method. This returns a `Match` object.\n",
    "1. Call the Match object’s `group()` method to return a string of the actual matched text.\n",
    "\n",
    "All the regex functions in Python are in the re module:"
   ]
  },
  {
   "cell_type": "code",
   "execution_count": 71,
   "metadata": {
    "collapsed": true
   },
   "outputs": [],
   "source": [
    "import re"
   ]
  },
  {
   "cell_type": "markdown",
   "metadata": {},
   "source": [
    "[*Return to the Top*](#python-cheatsheet)\n",
    "\n",
    "### Matching Regex Objects"
   ]
  },
  {
   "cell_type": "code",
   "execution_count": 72,
   "metadata": {},
   "outputs": [
    {
     "name": "stdout",
     "output_type": "stream",
     "text": [
      "Phone number found: 415-555-4242\n"
     ]
    }
   ],
   "source": [
    "phone_num_regex = re.compile(r'\\d\\d\\d-\\d\\d\\d-\\d\\d\\d\\d')\n",
    "\n",
    "mo = phone_num_regex.search('My number is 415-555-4242.')\n",
    "\n",
    "print('Phone number found: {}'.format(mo.group()))"
   ]
  },
  {
   "cell_type": "markdown",
   "metadata": {},
   "source": [
    "[*Return to the Top*](#python-cheatsheet)\n",
    "\n",
    "### Grouping with Parentheses"
   ]
  },
  {
   "cell_type": "code",
   "execution_count": 73,
   "metadata": {},
   "outputs": [
    {
     "data": {
      "text/plain": [
       "'415'"
      ]
     },
     "execution_count": 73,
     "metadata": {},
     "output_type": "execute_result"
    }
   ],
   "source": [
    "phone_num_regex = re.compile(r'(\\d\\d\\d)-(\\d\\d\\d-\\d\\d\\d\\d)')\n",
    "\n",
    "mo = phone_num_regex.search('My number is 415-555-4242.')\n",
    "\n",
    "mo.group(1)"
   ]
  },
  {
   "cell_type": "code",
   "execution_count": 74,
   "metadata": {},
   "outputs": [
    {
     "data": {
      "text/plain": [
       "'555-4242'"
      ]
     },
     "execution_count": 74,
     "metadata": {},
     "output_type": "execute_result"
    }
   ],
   "source": [
    "mo.group(2)"
   ]
  },
  {
   "cell_type": "code",
   "execution_count": 75,
   "metadata": {},
   "outputs": [
    {
     "data": {
      "text/plain": [
       "'415-555-4242'"
      ]
     },
     "execution_count": 75,
     "metadata": {},
     "output_type": "execute_result"
    }
   ],
   "source": [
    "mo.group(0)"
   ]
  },
  {
   "cell_type": "code",
   "execution_count": 76,
   "metadata": {},
   "outputs": [
    {
     "data": {
      "text/plain": [
       "'415-555-4242'"
      ]
     },
     "execution_count": 76,
     "metadata": {},
     "output_type": "execute_result"
    }
   ],
   "source": [
    "mo.group()"
   ]
  },
  {
   "cell_type": "markdown",
   "metadata": {},
   "source": [
    "To retrieve all the groups at once: use the groups() method—note the plural form for the name."
   ]
  },
  {
   "cell_type": "code",
   "execution_count": 77,
   "metadata": {},
   "outputs": [
    {
     "data": {
      "text/plain": [
       "('415', '555-4242')"
      ]
     },
     "execution_count": 77,
     "metadata": {},
     "output_type": "execute_result"
    }
   ],
   "source": [
    "mo.groups()"
   ]
  },
  {
   "cell_type": "code",
   "execution_count": 78,
   "metadata": {
    "collapsed": true
   },
   "outputs": [],
   "source": [
    "area_code, main_number = mo.groups()"
   ]
  },
  {
   "cell_type": "code",
   "execution_count": 79,
   "metadata": {},
   "outputs": [
    {
     "name": "stdout",
     "output_type": "stream",
     "text": [
      "415\n",
      "555-4242\n"
     ]
    }
   ],
   "source": [
    "print(area_code)\n",
    "print(main_number)\n"
   ]
  },
  {
   "cell_type": "markdown",
   "metadata": {},
   "source": [
    "[*Return to the Top*](#python-cheatsheet)\n",
    "\n",
    "### Matching Multiple Groups with the Pipe\n",
    "\n",
    "The | character is called a pipe. You can use it anywhere you want to match one of many expressions. For example, the regular expression r'Batman|Tina Fey' will match either 'Batman' or 'Tina Fey'."
   ]
  },
  {
   "cell_type": "code",
   "execution_count": 80,
   "metadata": {
    "collapsed": true
   },
   "outputs": [],
   "source": [
    "hero_regex = re.compile (r'Batman|Tina Fey')\n",
    "\n",
    "mo1 = hero_regex.search('Batman and Tina Fey.')"
   ]
  },
  {
   "cell_type": "code",
   "execution_count": 81,
   "metadata": {},
   "outputs": [
    {
     "data": {
      "text/plain": [
       "'Batman'"
      ]
     },
     "execution_count": 81,
     "metadata": {},
     "output_type": "execute_result"
    }
   ],
   "source": [
    "mo1.group()"
   ]
  },
  {
   "cell_type": "code",
   "execution_count": 82,
   "metadata": {},
   "outputs": [
    {
     "data": {
      "text/plain": [
       "'Tina Fey'"
      ]
     },
     "execution_count": 82,
     "metadata": {},
     "output_type": "execute_result"
    }
   ],
   "source": [
    "mo2 = hero_regex.search('Tina Fey and Batman.')\n",
    "mo2.group()"
   ]
  },
  {
   "cell_type": "markdown",
   "metadata": {},
   "source": [
    "You can also use the pipe to match one of several patterns as part of your regex:"
   ]
  },
  {
   "cell_type": "code",
   "execution_count": 83,
   "metadata": {},
   "outputs": [
    {
     "data": {
      "text/plain": [
       "'Batmobile'"
      ]
     },
     "execution_count": 83,
     "metadata": {},
     "output_type": "execute_result"
    }
   ],
   "source": [
    "bat_regex = re.compile(r'Bat(man|mobile|copter|bat)')\n",
    "mo = bat_regex.search('Batmobile lost a wheel')\n",
    "\n",
    "mo.group()"
   ]
  },
  {
   "cell_type": "code",
   "execution_count": 84,
   "metadata": {},
   "outputs": [
    {
     "data": {
      "text/plain": [
       "'mobile'"
      ]
     },
     "execution_count": 84,
     "metadata": {},
     "output_type": "execute_result"
    }
   ],
   "source": [
    "mo.group(1)"
   ]
  },
  {
   "cell_type": "markdown",
   "metadata": {},
   "source": [
    "[*Return to the Top*](#python-cheatsheet)\n",
    "\n",
    "### Optional Matching with the Question Mark\n",
    "\n",
    "The ? character flags the group that precedes it as an optional part of the pattern."
   ]
  },
  {
   "cell_type": "code",
   "execution_count": 85,
   "metadata": {},
   "outputs": [
    {
     "data": {
      "text/plain": [
       "'Batman'"
      ]
     },
     "execution_count": 85,
     "metadata": {},
     "output_type": "execute_result"
    }
   ],
   "source": [
    "bat_regex = re.compile(r'Bat(wo)?man')\n",
    "mo1 = bat_regex.search('The Adventures of Batman')\n",
    "mo1.group()"
   ]
  },
  {
   "cell_type": "code",
   "execution_count": 86,
   "metadata": {},
   "outputs": [
    {
     "data": {
      "text/plain": [
       "'Batwoman'"
      ]
     },
     "execution_count": 86,
     "metadata": {},
     "output_type": "execute_result"
    }
   ],
   "source": [
    "mo2 = bat_regex.search('The Adventures of Batwoman')\n",
    "mo2.group()\n"
   ]
  },
  {
   "cell_type": "markdown",
   "metadata": {},
   "source": [
    "[*Return to the Top*](#python-cheatsheet)\n",
    "\n",
    "### Matching Zero or More with the Star\n",
    "\n",
    "The * (called the star or asterisk) means “match zero or more”—the group that precedes the star can occur any number of times in the text."
   ]
  },
  {
   "cell_type": "code",
   "execution_count": 87,
   "metadata": {},
   "outputs": [
    {
     "data": {
      "text/plain": [
       "'Batman'"
      ]
     },
     "execution_count": 87,
     "metadata": {},
     "output_type": "execute_result"
    }
   ],
   "source": [
    "bat_regex = re.compile(r'Bat(wo)*man')\n",
    "mo1 = bat_regex.search('The Adventures of Batman')\n",
    "mo1.group()"
   ]
  },
  {
   "cell_type": "code",
   "execution_count": 88,
   "metadata": {},
   "outputs": [
    {
     "data": {
      "text/plain": [
       "'Batwoman'"
      ]
     },
     "execution_count": 88,
     "metadata": {},
     "output_type": "execute_result"
    }
   ],
   "source": [
    "mo2 = bat_regex.search('The Adventures of Batwoman')\n",
    "mo2.group()"
   ]
  },
  {
   "cell_type": "code",
   "execution_count": 89,
   "metadata": {},
   "outputs": [
    {
     "data": {
      "text/plain": [
       "'Batwowowowoman'"
      ]
     },
     "execution_count": 89,
     "metadata": {},
     "output_type": "execute_result"
    }
   ],
   "source": [
    "mo3 = bat_regex.search('The Adventures of Batwowowowoman')\n",
    "mo3.group()\n"
   ]
  },
  {
   "cell_type": "markdown",
   "metadata": {},
   "source": [
    "[*Return to the Top*](#python-cheatsheet)\n",
    "\n",
    "### Matching One or More with the Plus\n",
    "\n",
    "While * means “match zero or more,” the + (or plus) means “match one or more”. The group preceding a plus must appear at least once. It is not optional:"
   ]
  },
  {
   "cell_type": "code",
   "execution_count": 90,
   "metadata": {},
   "outputs": [
    {
     "data": {
      "text/plain": [
       "'Batwoman'"
      ]
     },
     "execution_count": 90,
     "metadata": {},
     "output_type": "execute_result"
    }
   ],
   "source": [
    "bat_regex = re.compile(r'Bat(wo)+man')\n",
    "mo1 = bat_regex.search('The Adventures of Batwoman')\n",
    "mo1.group()"
   ]
  },
  {
   "cell_type": "code",
   "execution_count": 91,
   "metadata": {},
   "outputs": [
    {
     "data": {
      "text/plain": [
       "'Batwowowowoman'"
      ]
     },
     "execution_count": 91,
     "metadata": {},
     "output_type": "execute_result"
    }
   ],
   "source": [
    "mo2 = bat_regex.search('The Adventures of Batwowowowoman')\n",
    "mo2.group()\n"
   ]
  },
  {
   "cell_type": "code",
   "execution_count": 92,
   "metadata": {},
   "outputs": [
    {
     "data": {
      "text/plain": [
       "True"
      ]
     },
     "execution_count": 92,
     "metadata": {},
     "output_type": "execute_result"
    }
   ],
   "source": [
    "mo3 = bat_regex.search('The Adventures of Batman')\n",
    "mo3 is None\n"
   ]
  },
  {
   "cell_type": "markdown",
   "metadata": {},
   "source": [
    "[*Return to the Top*](#python-cheatsheet)\n",
    "\n",
    "### Matching Specific Repetitions with Curly Brackets\n",
    "\n",
    "If you have a group that you want to repeat a specific number of times, follow the group in your regex with a number in curly brackets. For example, the regex (Ha){3} will match the string 'HaHaHa', but it will not match 'HaHa', since the latter has only two repeats of the (Ha) group.\n",
    "\n",
    "Instead of one number, you can specify a range by writing a minimum, a comma, and a maximum in between the curly brackets. For example, the regex (Ha){3,5} will match 'HaHaHa', 'HaHaHaHa', and 'HaHaHaHaHa'."
   ]
  },
  {
   "cell_type": "code",
   "execution_count": 93,
   "metadata": {},
   "outputs": [
    {
     "data": {
      "text/plain": [
       "'HaHaHa'"
      ]
     },
     "execution_count": 93,
     "metadata": {},
     "output_type": "execute_result"
    }
   ],
   "source": [
    "ha_regex = re.compile(r'(Ha){3}')\n",
    "mo1 = ha_regex.search('HaHaHa')\n",
    "mo1.group()\n"
   ]
  },
  {
   "cell_type": "code",
   "execution_count": 94,
   "metadata": {},
   "outputs": [
    {
     "data": {
      "text/plain": [
       "True"
      ]
     },
     "execution_count": 94,
     "metadata": {},
     "output_type": "execute_result"
    }
   ],
   "source": [
    "mo2 = ha_regex.search('Ha')\n",
    "mo2 is None\n"
   ]
  },
  {
   "cell_type": "markdown",
   "metadata": {},
   "source": [
    "[*Return to the Top*](#python-cheatsheet)\n",
    "\n",
    "### Greedy and Nongreedy Matching\n",
    "\n",
    "Python’s regular expressions are greedy by default, which means that in ambiguous situations they will match the longest string possible. The non-greedy version of the curly brackets, which matches the shortest string possible, has the closing curly bracket followed by a question mark."
   ]
  },
  {
   "cell_type": "code",
   "execution_count": 95,
   "metadata": {},
   "outputs": [
    {
     "data": {
      "text/plain": [
       "'HaHaHaHaHa'"
      ]
     },
     "execution_count": 95,
     "metadata": {},
     "output_type": "execute_result"
    }
   ],
   "source": [
    ">>> greedy_ha_regex = re.compile(r'(Ha){3,5}')\n",
    ">>> mo1 = greedy_ha_regex.search('HaHaHaHaHa')\n",
    ">>> mo1.group()\n",
    "'HaHaHaHaHa'"
   ]
  },
  {
   "cell_type": "code",
   "execution_count": 96,
   "metadata": {},
   "outputs": [
    {
     "data": {
      "text/plain": [
       "'HaHaHa'"
      ]
     },
     "execution_count": 96,
     "metadata": {},
     "output_type": "execute_result"
    }
   ],
   "source": [
    ">>> nongreedy_ha_regex = re.compile(r'(Ha){3,5}?')\n",
    ">>> mo2 = nongreedy_ha_regex.search('HaHaHaHaHa')\n",
    ">>> mo2.group()\n",
    "'HaHaHa'"
   ]
  },
  {
   "cell_type": "markdown",
   "metadata": {},
   "source": [
    "[*Return to the Top*](#python-cheatsheet)\n",
    "\n",
    "### The findall() Method\n",
    "\n",
    "In addition to the search() method, Regex objects also have a findall() method. While search() will return a Match object of the first matched text in the searched string, the findall() method will return the strings of every match in the searched string."
   ]
  },
  {
   "cell_type": "code",
   "execution_count": 98,
   "metadata": {
    "collapsed": true
   },
   "outputs": [],
   "source": [
    "phone_num_regex = re.compile(r'\\d\\d\\d-\\d\\d\\d-\\d\\d\\d\\d') # has no groups"
   ]
  },
  {
   "cell_type": "code",
   "execution_count": 99,
   "metadata": {},
   "outputs": [
    {
     "data": {
      "text/plain": [
       "['415-555-9999', '212-555-0000']"
      ]
     },
     "execution_count": 99,
     "metadata": {},
     "output_type": "execute_result"
    }
   ],
   "source": [
    "phone_num_regex.findall('Cell: 415-555-9999 Work: 212-555-0000')\n"
   ]
  },
  {
   "cell_type": "markdown",
   "metadata": {},
   "source": [
    "To summarize what the findall() method returns, remember the following:\n",
    "\n",
    "- When called on a regex with no groups, such as \\d-\\d\\d\\d-\\d\\d\\d\\d, the method findall() returns a list of ng matches, such as ['415-555-9999', '212-555-0000'].\n",
    "\n",
    "- When called on a regex that has groups, such as (\\d\\d\\d)-d\\d)-(\\d\\ d\\d\\d), the method findall() returns a list of es of strings (one string for each group), such as [('415', ', '9999'), ('212', '555', '0000')].\n",
    "\n",
    "[*Return to the Top*](#python-cheatsheet)\n",
    "\n",
    "### Making Your Own Character Classes\n",
    "\n",
    "There are times when you want to match a set of characters but the shorthand character classes (\\d, \\w, \\s, and so on) are too broad. You can define your own character class using square brackets. For example, the character class [aeiouAEIOU] will match any vowel, both lowercase and uppercase."
   ]
  },
  {
   "cell_type": "code",
   "execution_count": 100,
   "metadata": {
    "collapsed": true
   },
   "outputs": [],
   "source": [
    "vowel_regex = re.compile(r'[aeiouAEIOU]')"
   ]
  },
  {
   "cell_type": "code",
   "execution_count": 101,
   "metadata": {},
   "outputs": [
    {
     "data": {
      "text/plain": [
       "['o', 'o', 'o', 'e', 'a', 'a', 'o', 'o', 'A', 'O', 'O']"
      ]
     },
     "execution_count": 101,
     "metadata": {},
     "output_type": "execute_result"
    }
   ],
   "source": [
    "vowel_regex.findall('Robocop eats baby food. BABY FOOD.')"
   ]
  },
  {
   "cell_type": "markdown",
   "metadata": {},
   "source": [
    "You can also include ranges of letters or numbers by using a hyphen. For example, the character class [a-zA-Z0-9] will match all lowercase letters, uppercase letters, and numbers.\n",
    "\n",
    "By placing a caret character (^) just after the character class’s opening bracket, you can make a negative character class. A negative character class will match all the characters that are not in the character class. For example, enter the following into the interactive shell:"
   ]
  },
  {
   "cell_type": "code",
   "execution_count": 102,
   "metadata": {},
   "outputs": [
    {
     "data": {
      "text/plain": [
       "['R',\n",
       " 'b',\n",
       " 'c',\n",
       " 'p',\n",
       " ' ',\n",
       " 't',\n",
       " 's',\n",
       " ' ',\n",
       " 'b',\n",
       " 'b',\n",
       " 'y',\n",
       " ' ',\n",
       " 'f',\n",
       " 'd',\n",
       " '.',\n",
       " ' ',\n",
       " 'B',\n",
       " 'B',\n",
       " 'Y',\n",
       " ' ',\n",
       " 'F',\n",
       " 'D',\n",
       " '.']"
      ]
     },
     "execution_count": 102,
     "metadata": {},
     "output_type": "execute_result"
    }
   ],
   "source": [
    "consonant_regex = re.compile(r'[^aeiouAEIOU]')\n",
    "\n",
    "consonant_regex.findall('Robocop eats baby food. BABY FOOD.')\n"
   ]
  },
  {
   "cell_type": "markdown",
   "metadata": {},
   "source": [
    "[*Return to the Top*](#python-cheatsheet)\n",
    "\n",
    "### The Caret and Dollar Sign Characters\n",
    "\n",
    "- You can also use the caret symbol (^) at the start of a regex to indicate that a match must occur at the beginning of the searched text.\n",
    "\n",
    "- Likewise, you can put a dollar sign ($) at the end of the regex to indicate the string must end with this regex pattern.\n",
    "\n",
    "- And you can use the ^ and $ together to indicate that the entire string must match the regex—that is, it’s not enough for a match to be made on some subset of the string.\n",
    "\n",
    "The r'^Hello' regular expression string matches strings that begin with 'Hello':"
   ]
  },
  {
   "cell_type": "markdown",
   "metadata": {},
   "source": [
    "begins_with_hello = re.compile(r'^Hello')\n",
    "\n",
    "begins_with_hello.search('Hello world!')\n",
    ">_sre.SRE_Matc object; span=(0, 5), match='Hello'>\n",
    "\n",
    "begins_with_hello.search('He said hello.') is None\n"
   ]
  },
  {
   "cell_type": "markdown",
   "metadata": {},
   "source": [
    "The r'\\d$' regular expression string matches strings that end with a numeric character from 0 to 9:"
   ]
  },
  {
   "cell_type": "markdown",
   "metadata": {
    "collapsed": true
   },
   "source": [
    ">>> whole_string_is_num = re.compile(r'^\\d+$')\n",
    "\n",
    ">>> whole_string_is_num.search('1234567890')\n",
    "<_sre.SRE_Match object; span=(0, 10), match='1234567890'>\n",
    "\n",
    ">>> whole_string_is_num.search('12345xyz67890') is None\n",
    "True\n",
    "\n",
    ">>> whole_string_is_num.search('12 34567890') is None\n",
    "True"
   ]
  },
  {
   "cell_type": "markdown",
   "metadata": {},
   "source": [
    "[*Return to the Top*](#python-cheatsheet)\n",
    "\n",
    "### The Wildcard Character\n",
    "\n",
    "The . (or dot) character in a regular expression is called a wildcard and will match any character except for a newline:"
   ]
  },
  {
   "cell_type": "code",
   "execution_count": 104,
   "metadata": {},
   "outputs": [
    {
     "data": {
      "text/plain": [
       "['cat', 'hat', 'sat', 'lat', 'mat']"
      ]
     },
     "execution_count": 104,
     "metadata": {},
     "output_type": "execute_result"
    }
   ],
   "source": [
    "at_regex = re.compile(r'.at')\n",
    "\n",
    "at_regex.findall('The cat in the hat sat on the flat mat.')"
   ]
  },
  {
   "cell_type": "markdown",
   "metadata": {},
   "source": [
    "[*Return to the Top*](#python-cheatsheet)\n",
    "\n",
    "### Matching Everything with Dot-Star"
   ]
  },
  {
   "cell_type": "code",
   "execution_count": 105,
   "metadata": {},
   "outputs": [
    {
     "data": {
      "text/plain": [
       "'Al'"
      ]
     },
     "execution_count": 105,
     "metadata": {},
     "output_type": "execute_result"
    }
   ],
   "source": [
    "name_regex = re.compile(r'First Name: (.*) Last Name: (.*)')\n",
    "\n",
    "mo = name_regex.search('First Name: Al Last Name: Sweigart')\n",
    "\n",
    "mo.group(1)\n"
   ]
  },
  {
   "cell_type": "code",
   "execution_count": 106,
   "metadata": {},
   "outputs": [
    {
     "data": {
      "text/plain": [
       "'Sweigart'"
      ]
     },
     "execution_count": 106,
     "metadata": {},
     "output_type": "execute_result"
    }
   ],
   "source": [
    "mo.group(2)\n"
   ]
  },
  {
   "cell_type": "markdown",
   "metadata": {},
   "source": [
    "The dot-star uses greedy mode: It will always try to match as much text as possible. To match any and all text in a nongreedy fashion, use the dot, star, and question mark (.*?). The question mark tells Python to match in a nongreedy way:"
   ]
  },
  {
   "cell_type": "code",
   "execution_count": 107,
   "metadata": {},
   "outputs": [
    {
     "data": {
      "text/plain": [
       "'<To serve man>'"
      ]
     },
     "execution_count": 107,
     "metadata": {},
     "output_type": "execute_result"
    }
   ],
   "source": [
    ">>> nongreedy_regex = re.compile(r'<.*?>')\n",
    ">>> mo = nongreedy_regex.search('<To serve man> for dinner.>')\n",
    ">>> mo.group()\n"
   ]
  },
  {
   "cell_type": "code",
   "execution_count": 108,
   "metadata": {},
   "outputs": [
    {
     "data": {
      "text/plain": [
       "'<To serve man> for dinner.>'"
      ]
     },
     "execution_count": 108,
     "metadata": {},
     "output_type": "execute_result"
    }
   ],
   "source": [
    ">>> greedy_regex = re.compile(r'<.*>')\n",
    ">>> mo = greedy_regex.search('<To serve man> for dinner.>')\n",
    ">>> mo.group()\n"
   ]
  },
  {
   "cell_type": "markdown",
   "metadata": {},
   "source": [
    "[*Return to the Top*](#python-cheatsheet)\n",
    "\n",
    "### Matching Newlines with the Dot Character\n",
    "\n",
    "The dot-star will match everything except a newline. By passing re.DOTALL as the second argument to re.compile(), you can make the dot character match all characters, including the newline character:"
   ]
  },
  {
   "cell_type": "code",
   "execution_count": 109,
   "metadata": {},
   "outputs": [
    {
     "data": {
      "text/plain": [
       "'Serve the public trust.'"
      ]
     },
     "execution_count": 109,
     "metadata": {},
     "output_type": "execute_result"
    }
   ],
   "source": [
    ">>> no_newline_regex = re.compile('.*')\n",
    ">>> no_newline_regex.search('Serve the public trust.\\nProtect the innocent.\\nUphold the law.').group()\n"
   ]
  },
  {
   "cell_type": "code",
   "execution_count": 110,
   "metadata": {},
   "outputs": [
    {
     "data": {
      "text/plain": [
       "'Serve the public trust.\\nProtect the innocent.\\nUphold the law.'"
      ]
     },
     "execution_count": 110,
     "metadata": {},
     "output_type": "execute_result"
    }
   ],
   "source": [
    ">>> newline_regex = re.compile('.*', re.DOTALL)\n",
    ">>> newline_regex.search('Serve the public trust.\\nProtect the innocent.\\nUphold the law.').group()\n"
   ]
  },
  {
   "cell_type": "markdown",
   "metadata": {},
   "source": [
    "[*Return to the Top*](#python-cheatsheet)\n",
    "\n",
    "### Review of Regex Symbols\n",
    "\n",
    "| Symbol                   | Matches                                                      |\n",
    "| ------------------------ | ------------------------------------------------------------ |\n",
    "| `?`                      | zero or one of the preceding group.                          |\n",
    "| `*`                      | zero or more of the preceding group.                         |\n",
    "| `+`                      | one or more of the preceding group.                          |\n",
    "| `{n}`                    | exactly n of the preceding group.                            |\n",
    "| `{n,}`                   | n or more of the preceding group.                            |\n",
    "| `{,m}`                   | 0 to m of the preceding group.                               |\n",
    "| `{n,m}`                  | at least n and at most m of the preceding p.                 |\n",
    "| `{n,m}?` or `*?` or `+?` | performs a nongreedy match of the preceding p.               |\n",
    "| `^spam`                  | means the string must begin with spam.                       |\n",
    "| `spam$`                  | means the string must end with spam.                         |\n",
    "| `.`                      | any character, except newline characters.                    |\n",
    "| `\\d`, `\\w`, and `\\s`     | a digit, word, or space character, ectively.                 |\n",
    "| `\\D`, `\\W`, and `\\S`     | anything except a digit, word, or space acter, respectively. |\n",
    "| `[abc]`                  | any character between the brackets (such as a, b, ).         |\n",
    "| `[^abc]`                 | any character that isn’t between the brackets.               |\n",
    "\n",
    "[*Return to the Top*](#python-cheatsheet)\n",
    "\n",
    "### Case-Insensitive Matching\n",
    "\n",
    "To make your regex case-insensitive, you can pass re.IGNORECASE or re.I as a second argument to re.compile():"
   ]
  },
  {
   "cell_type": "code",
   "execution_count": 111,
   "metadata": {},
   "outputs": [
    {
     "data": {
      "text/plain": [
       "'Robocop'"
      ]
     },
     "execution_count": 111,
     "metadata": {},
     "output_type": "execute_result"
    }
   ],
   "source": [
    ">>> robocop = re.compile(r'robocop', re.I)\n",
    "\n",
    ">>> robocop.search('Robocop is part man, part machine, all cop.').group()\n"
   ]
  },
  {
   "cell_type": "code",
   "execution_count": 112,
   "metadata": {},
   "outputs": [
    {
     "data": {
      "text/plain": [
       "'ROBOCOP'"
      ]
     },
     "execution_count": 112,
     "metadata": {},
     "output_type": "execute_result"
    }
   ],
   "source": [
    ">>> robocop.search('ROBOCOP protects the innocent.').group()\n"
   ]
  },
  {
   "cell_type": "code",
   "execution_count": 113,
   "metadata": {},
   "outputs": [
    {
     "data": {
      "text/plain": [
       "'robocop'"
      ]
     },
     "execution_count": 113,
     "metadata": {},
     "output_type": "execute_result"
    }
   ],
   "source": [
    ">>> robocop.search('Al, why does your programming book talk about robocop so much?').group()\n"
   ]
  },
  {
   "cell_type": "markdown",
   "metadata": {},
   "source": [
    "[*Return to the Top*](#python-cheatsheet)\n",
    "\n",
    "### Substituting Strings with the sub() Method\n",
    "\n",
    "The sub() method for Regex objects is passed two arguments:\n",
    "\n",
    "1. The first argument is a string to replace any matches.\n",
    "1. The second is the string for the regular expression.\n",
    "\n",
    "The sub() method returns a string with the substitutions applied:"
   ]
  },
  {
   "cell_type": "code",
   "execution_count": 114,
   "metadata": {},
   "outputs": [
    {
     "data": {
      "text/plain": [
       "'CENSORED gave the secret documents to CENSORED.'"
      ]
     },
     "execution_count": 114,
     "metadata": {},
     "output_type": "execute_result"
    }
   ],
   "source": [
    ">>> names_regex = re.compile(r'Agent \\w+')\n",
    "\n",
    ">>> names_regex.sub('CENSORED', 'Agent Alice gave the secret documents to Agent Bob.')\n"
   ]
  },
  {
   "cell_type": "markdown",
   "metadata": {},
   "source": [
    "Another example:"
   ]
  },
  {
   "cell_type": "code",
   "execution_count": 115,
   "metadata": {},
   "outputs": [
    {
     "data": {
      "text/plain": [
       "'A**** told C**** that E**** knew B**** was a double agent.'"
      ]
     },
     "execution_count": 115,
     "metadata": {},
     "output_type": "execute_result"
    }
   ],
   "source": [
    ">>> agent_names_regex = re.compile(r'Agent (\\w)\\w*')\n",
    "\n",
    ">>> agent_names_regex.sub(r'\\1****', 'Agent Alice told Agent Carol that Agent Eve knew Agent Bob was a double agent.')\n"
   ]
  },
  {
   "cell_type": "markdown",
   "metadata": {},
   "source": [
    "[*Return to the Top*](#python-cheatsheet)\n",
    "\n",
    "### Managing Complex Regexes\n",
    "\n",
    "To tell the re.compile() function to ignore whitespace and comments inside the regular expression string, “verbose mode” can be enabled by passing the variable re.VERBOSE as the second argument to re.compile().\n",
    "\n",
    "Now instead of a hard-to-read regular expression like this:"
   ]
  },
  {
   "cell_type": "code",
   "execution_count": 116,
   "metadata": {
    "collapsed": true
   },
   "outputs": [],
   "source": [
    "phone_regex = re.compile(r'((\\d{3}|\\(\\d{3}\\))?(\\s|-|\\.)?\\d{3}(\\s|-|\\.)\\d{4}(\\s*(ext|x|ext.)\\s*\\d{2,5})?)')"
   ]
  },
  {
   "cell_type": "markdown",
   "metadata": {},
   "source": [
    "you can spread the regular expression over multiple lines with comments like this:"
   ]
  },
  {
   "cell_type": "code",
   "execution_count": 117,
   "metadata": {
    "collapsed": true
   },
   "outputs": [],
   "source": [
    "phone_regex = re.compile(r'''(\n",
    "    (\\d{3}|\\(\\d{3}\\))?            # area code\n",
    "    (\\s|-|\\.)?                    # separator\n",
    "    \\d{3}                         # first 3 digits\n",
    "    (\\s|-|\\.)                     # separator\n",
    "    \\d{4}                         # last 4 digits\n",
    "    (\\s*(ext|x|ext.)\\s*\\d{2,5})?  # extension\n",
    "    )''', re.VERBOSE)"
   ]
  },
  {
   "cell_type": "markdown",
   "metadata": {},
   "source": [
    "[*Return to the Top*](#python-cheatsheet)\n",
    "\n",
    "## Handling File and Directory Paths\n",
    "\n",
    "There are two main modules in Python that deals with path manipulation.\n",
    "One is the `os.path` module and the other is the `pathlib` module.\n",
    "The `pathlib` module was added in Python 3.4, offering an object-oriented way\n",
    "to handle file system paths.\n",
    "\n",
    "[*Return to the Top*](#python-cheatsheet)\n",
    "\n",
    "### Backslash on Windows and Forward Slash on OS X and Linux\n",
    "\n",
    "On Windows, paths are written using backslashes (\\) as the separator between\n",
    "folder names. On Unix based operating system such as macOS, Linux, and BSDs,\n",
    "the forward slash (/) is used as the path separator. Joining paths can be\n",
    "a headache if your code needs to work on different platforms.\n",
    "\n",
    "Fortunately, Python provides easy ways to handle this. We will showcase\n",
    "how to deal with this with both `os.path.join` and `pathlib.Path.joinpath`\n",
    "\n",
    "Using `os.path.join` on Windows:"
   ]
  },
  {
   "cell_type": "code",
   "execution_count": 118,
   "metadata": {},
   "outputs": [
    {
     "data": {
      "text/plain": [
       "'usr\\\\bin\\\\spam'"
      ]
     },
     "execution_count": 118,
     "metadata": {},
     "output_type": "execute_result"
    }
   ],
   "source": [
    "import os\n",
    "\n",
    "os.path.join('usr', 'bin', 'spam')\n"
   ]
  },
  {
   "cell_type": "markdown",
   "metadata": {},
   "source": [
    "And using `pathlib` on \\*nix:"
   ]
  },
  {
   "cell_type": "markdown",
   "metadata": {},
   "source": [
    "from pathlib import Path\n",
    "\n",
    "print(Path('usr').joinpath('bin').joinpath('spam')\n"
   ]
  },
  {
   "cell_type": "markdown",
   "metadata": {},
   "source": [
    "`pathlib` also provides a shortcut to joinpath using the `/` operator:"
   ]
  },
  {
   "cell_type": "markdown",
   "metadata": {},
   "source": [
    "from pathlib import Path\n",
    "\n",
    "print(Path('usr') / 'bin' / 'spam')\n"
   ]
  },
  {
   "cell_type": "markdown",
   "metadata": {},
   "source": [
    "Notice the path separator is different between Windows and Unix based operating\n",
    "system, that's why you want to use one of the above methods instead of\n",
    "adding strings together to join paths together.\n",
    "\n",
    "Joining paths is helpful if you need to create different file paths under\n",
    "the same directory.\n",
    "\n",
    "Using `os.path.join` on Windows:"
   ]
  },
  {
   "cell_type": "code",
   "execution_count": 119,
   "metadata": {},
   "outputs": [
    {
     "name": "stdout",
     "output_type": "stream",
     "text": [
      "C:\\Users\\asweigart\\accounts.txt\n",
      "C:\\Users\\asweigart\\details.csv\n",
      "C:\\Users\\asweigart\\invite.docx\n"
     ]
    }
   ],
   "source": [
    "my_files = ['accounts.txt', 'details.csv', 'invite.docx']\n",
    "\n",
    "for filename in my_files:\n",
    "    print(os.path.join('C:\\\\Users\\\\asweigart', filename))\n"
   ]
  },
  {
   "cell_type": "markdown",
   "metadata": {},
   "source": [
    "Using `pathlib` on \\*nix:"
   ]
  },
  {
   "cell_type": "markdown",
   "metadata": {
    "collapsed": true
   },
   "source": [
    ">>> my_files = ['accounts.txt', 'details.csv', 'invite.docx']\n",
    ">>> home = Path.home()\n",
    ">>> for filename in my_files:\n",
    ">>>     print(home / filename)\n",
    "/home/asweigart/accounts.txt\n",
    "/home/asweigart/details.csv\n",
    "/home/asweigart/invite.docx"
   ]
  },
  {
   "cell_type": "markdown",
   "metadata": {},
   "source": [
    "[*Return to the Top*](#python-cheatsheet)\n",
    "\n",
    "### The Current Working Directory\n",
    "\n",
    "Using `os` on Windows:"
   ]
  },
  {
   "cell_type": "code",
   "execution_count": 120,
   "metadata": {},
   "outputs": [
    {
     "data": {
      "text/plain": [
       "'C:\\\\Users\\\\traveler\\\\Documents\\\\Python Scripts'"
      ]
     },
     "execution_count": 120,
     "metadata": {},
     "output_type": "execute_result"
    }
   ],
   "source": [
    "import os\n",
    "\n",
    "os.getcwd()"
   ]
  },
  {
   "cell_type": "code",
   "execution_count": 121,
   "metadata": {},
   "outputs": [
    {
     "data": {
      "text/plain": [
       "'C:\\\\Windows\\\\System32'"
      ]
     },
     "execution_count": 121,
     "metadata": {},
     "output_type": "execute_result"
    }
   ],
   "source": [
    "os.chdir('C:\\\\Windows\\\\System32')\n",
    "os.getcwd()\n"
   ]
  },
  {
   "cell_type": "markdown",
   "metadata": {},
   "source": [
    "Using `pathlib` on \\*nix:"
   ]
  },
  {
   "cell_type": "markdown",
   "metadata": {
    "collapsed": true
   },
   "source": [
    ">>> from pathlib import Path\n",
    ">>> from os import chdir\n",
    "\n",
    ">>> print(Path.cwd())\n",
    "/home/asweigart\n",
    "\n",
    ">>> chdir('/usr/lib/python3.6')\n",
    ">>> print(Path.cwd())\n",
    "/usr/lib/python3.6"
   ]
  },
  {
   "cell_type": "markdown",
   "metadata": {},
   "source": [
    "[*Return to the Top*](#python-cheatsheet)\n",
    "\n",
    "### Creating New Folders\n",
    "\n",
    "Using `os` on Windows:"
   ]
  },
  {
   "cell_type": "code",
   "execution_count": 122,
   "metadata": {
    "collapsed": true
   },
   "outputs": [],
   "source": [
    "import os\n",
    "os.makedirs('C:\\\\delicious\\\\walnut\\\\waffles')"
   ]
  },
  {
   "cell_type": "markdown",
   "metadata": {},
   "source": [
    "Using `pathlib` on \\*nix:"
   ]
  },
  {
   "cell_type": "markdown",
   "metadata": {
    "collapsed": true
   },
   "source": [
    ">>> from pathlib import Path\n",
    ">>> cwd = Path.cwd()\n",
    ">>> (cwd / 'delicious' / 'walnut' / 'waffles').mkdir()\n",
    "Traceback (most recent call last):\n",
    "  File \"<stdin>\", line 1, in <module>\n",
    "  File \"/usr/lib/python3.6/pathlib.py\", line 1226, in mkdir\n",
    "    self._accessor.mkdir(self, mode)\n",
    "  File \"/usr/lib/python3.6/pathlib.py\", line 387, in wrapped\n",
    "    return strfunc(str(pathobj), *args)\n",
    "FileNotFoundError: [Errno 2] No such file or directory: '/home/asweigart/delicious/walnut/waffles'"
   ]
  },
  {
   "cell_type": "markdown",
   "metadata": {},
   "source": [
    "Oh no, we got a nasty error! The reason is that the 'delicious' directory does\n",
    "not exist, so we cannot make the 'walnut' and the 'waffles' directories under\n",
    "it. To fix this, do:"
   ]
  },
  {
   "cell_type": "markdown",
   "metadata": {},
   "source": [
    "from pathlib import Path\n",
    "cwd = Path.cwd()\n",
    "(cwd / 'delicious' / 'walnut' / 'waffles').mkdir(parents=True)"
   ]
  },
  {
   "cell_type": "markdown",
   "metadata": {},
   "source": [
    "And all is good :)\n",
    "\n",
    "[*Return to the Top*](#python-cheatsheet)\n",
    "\n",
    "### Absolute vs. Relative Paths\n",
    "\n",
    "There are two ways to specify a file path.\n",
    "\n",
    "- An absolute path, which always begins with the root folder\n",
    "- A relative path, which is relative to the program’s current working directory\n",
    "\n",
    "There are also the dot (.) and dot-dot (..) folders. These are not real folders but special names that can be used in a path. A single period (“dot”) for a folder name is shorthand for “this directory.” Two periods (“dot-dot”) means “the parent folder.”\n",
    "\n",
    "[*Return to the Top*](#python-cheatsheet)\n",
    "\n",
    "### Handling Absolute and Relative Paths\n",
    "\n",
    "To see if a path is an absolute path:\n",
    "\n",
    "Using `os.path` on \\*nix:"
   ]
  },
  {
   "cell_type": "markdown",
   "metadata": {
    "collapsed": true
   },
   "source": [
    ">>> import os\n",
    ">>> os.path.isabs('/')\n",
    "True\n",
    ">>> os.path.isabs('..')\n",
    "False"
   ]
  },
  {
   "cell_type": "markdown",
   "metadata": {},
   "source": [
    "Using `pathlib` on \\*nix:"
   ]
  },
  {
   "cell_type": "markdown",
   "metadata": {
    "collapsed": true
   },
   "source": [
    ">>> from pathlib import Path\n",
    ">>> Path('/').is_absolute()\n",
    "True\n",
    ">>> Path('..').is_absolute()\n",
    "False"
   ]
  },
  {
   "cell_type": "markdown",
   "metadata": {},
   "source": [
    "You can extract an absolute path with both `os.path` and `pathlib`\n",
    "\n",
    "Using `os.path` on \\*nix:"
   ]
  },
  {
   "cell_type": "markdown",
   "metadata": {
    "collapsed": true
   },
   "source": [
    ">>> import os\n",
    ">>> os.getcwd()\n",
    "'/home/asweigart'\n",
    ">>> os.path.abspath('..')\n",
    "'/home'"
   ]
  },
  {
   "cell_type": "markdown",
   "metadata": {},
   "source": [
    "Using `pathlib` on \\*nix:"
   ]
  },
  {
   "cell_type": "markdown",
   "metadata": {
    "collapsed": true
   },
   "source": [
    "from pathlib import Path\n",
    "print(Path.cwd())\n",
    "/home/asweigart\n",
    "print(Path('..').resolve())\n",
    "/home"
   ]
  },
  {
   "cell_type": "markdown",
   "metadata": {},
   "source": [
    "You can get a relative path from a starting path to another path.\n",
    "\n",
    "Using `os.path` on \\*nix:"
   ]
  },
  {
   "cell_type": "markdown",
   "metadata": {
    "collapsed": true
   },
   "source": [
    ">>> import os\n",
    ">>> os.path.relpath('/etc/passwd', '/')\n",
    "'etc/passwd'"
   ]
  },
  {
   "cell_type": "markdown",
   "metadata": {},
   "source": [
    "Using `pathlib` on \\*nix:"
   ]
  },
  {
   "cell_type": "markdown",
   "metadata": {
    "collapsed": true
   },
   "source": [
    ">>> from pathlib import Path\n",
    ">>> print(Path('/etc/passwd').relative_to('/'))\n",
    "etc/passwd"
   ]
  },
  {
   "cell_type": "markdown",
   "metadata": {},
   "source": [
    "[*Return to the Top*](#python-cheatsheet)\n",
    "\n",
    "### Checking Path Validity\n",
    "\n",
    "Checking if a file/directory exists:\n",
    "\n",
    "Using `os.path` on \\*nix:"
   ]
  },
  {
   "cell_type": "markdown",
   "metadata": {
    "collapsed": true
   },
   "source": [
    "import os\n",
    ">>> os.path.exists('.')\n",
    "True\n",
    ">>> os.path.exists('setup.py')\n",
    "True\n",
    ">>> os.path.exists('/etc')\n",
    "True\n",
    ">>> os.path.exists('nonexistentfile')\n",
    "False"
   ]
  },
  {
   "cell_type": "markdown",
   "metadata": {},
   "source": [
    "Using `pathlib` on \\*nix:"
   ]
  },
  {
   "cell_type": "markdown",
   "metadata": {
    "collapsed": true
   },
   "source": [
    "from pathlib import Path\n",
    ">>> Path('.').exists()\n",
    "True\n",
    ">>> Path('setup.py').exists()\n",
    "True\n",
    ">>> Path('/etc').exists()\n",
    "True\n",
    ">>> Path('nonexistentfile').exists()\n",
    "False"
   ]
  },
  {
   "cell_type": "markdown",
   "metadata": {},
   "source": [
    "Checking if a path is a file:\n",
    "\n",
    "Using `os.path` on \\*nix:"
   ]
  },
  {
   "cell_type": "markdown",
   "metadata": {
    "collapsed": true
   },
   "source": [
    ">>> import os\n",
    ">>> os.path.isfile('setup.py')\n",
    "True\n",
    ">>> os.path.isfile('/home')\n",
    "False\n",
    ">>> os.path.isfile('nonexistentfile')\n",
    "False"
   ]
  },
  {
   "cell_type": "markdown",
   "metadata": {},
   "source": [
    "Using `pathlib` on \\*nix:"
   ]
  },
  {
   "cell_type": "markdown",
   "metadata": {
    "collapsed": true
   },
   "source": [
    ">>> from pathlib import Path\n",
    ">>> Path('setup.py').is_file()\n",
    "True\n",
    ">>> Path('/home').is_file()\n",
    "False\n",
    ">>> Path('nonexistentfile').is_file()\n",
    "False"
   ]
  },
  {
   "cell_type": "markdown",
   "metadata": {},
   "source": [
    "Checking if a path is a directory:\n",
    "\n",
    "Using `os.path` on \\*nix:"
   ]
  },
  {
   "cell_type": "markdown",
   "metadata": {
    "collapsed": true
   },
   "source": [
    ">>> import os\n",
    ">>> os.path.isdir('/')\n",
    "True\n",
    ">>> os.path.isdir('setup.py')\n",
    "False\n",
    ">>> os.path.isdir('/spam')\n",
    "False"
   ]
  },
  {
   "cell_type": "markdown",
   "metadata": {},
   "source": [
    "Using `pathlib` on \\*nix:"
   ]
  },
  {
   "cell_type": "markdown",
   "metadata": {
    "collapsed": true
   },
   "source": [
    ">>> from pathlib import Path\n",
    ">>> Path('/').is_dir()\n",
    "True\n",
    ">>> Path('setup.py').is_dir()\n",
    "False\n",
    ">>> Path('/spam').is_dir()\n",
    "False"
   ]
  },
  {
   "cell_type": "markdown",
   "metadata": {},
   "source": [
    "[*Return to the Top*](#python-cheatsheet)\n",
    "\n",
    "### Finding File Sizes and Folder Contents\n",
    "\n",
    "Getting a file's size in bytes:\n",
    "\n",
    "Using `os.path` on Windows:"
   ]
  },
  {
   "cell_type": "code",
   "execution_count": 123,
   "metadata": {},
   "outputs": [
    {
     "data": {
      "text/plain": [
       "918528"
      ]
     },
     "execution_count": 123,
     "metadata": {},
     "output_type": "execute_result"
    }
   ],
   "source": [
    "import os\n",
    "os.path.getsize('C:\\\\Windows\\\\System32\\\\calc.exe')\n"
   ]
  },
  {
   "cell_type": "markdown",
   "metadata": {},
   "source": [
    "Using `pathlib` on \\*nix:"
   ]
  },
  {
   "cell_type": "markdown",
   "metadata": {},
   "source": [
    ">>> from pathlib import Path\n",
    ">>> stat = Path('/bin/python3.6').stat()\n",
    ">>> print(stat) # stat contains some other information about the file as well\n",
    "os.stat_result(st_mode=33261, st_ino=141087, st_dev=2051, st_nlink=2, st_uid=0,\n",
    "--snip--\n",
    "st_gid=0, st_size=10024, st_atime=1517725562, st_mtime=1515119809, st_ctime=1517261276)\n",
    ">>> print(stat.st_size) # size in bytes\n",
    "10024"
   ]
  },
  {
   "cell_type": "markdown",
   "metadata": {},
   "source": [
    "Listing directory contents using `os.listdir` on Windows:"
   ]
  },
  {
   "cell_type": "code",
   "execution_count": 124,
   "metadata": {},
   "outputs": [
    {
     "data": {
      "text/plain": [
       "['0409',\n",
       " '7B296FB0-376B-497e-B012-9C450E1B7327-5P-0.C7483456-A289-439d-8115-601632D005A0',\n",
       " '7B296FB0-376B-497e-B012-9C450E1B7327-5P-1.C7483456-A289-439d-8115-601632D005A0',\n",
       " 'accessibilitycpl.dll',\n",
       " 'ACCTRES.dll',\n",
       " 'acledit.dll',\n",
       " 'aclui.dll',\n",
       " 'acmigration.dll',\n",
       " 'acppage.dll',\n",
       " 'acproxy.dll',\n",
       " 'ActionCenter.dll',\n",
       " 'ActionCenterCPL.dll',\n",
       " 'ActionQueue.dll',\n",
       " 'activeds.dll',\n",
       " 'activeds.tlb',\n",
       " 'actxprxy.dll',\n",
       " 'AdapterTroubleshooter.exe',\n",
       " 'AdmTmpl.dll',\n",
       " 'adprovider.dll',\n",
       " 'adsldp.dll',\n",
       " 'adsldpc.dll',\n",
       " 'adsmsext.dll',\n",
       " 'adsnt.dll',\n",
       " 'adtschema.dll',\n",
       " 'AdvancedInstallers',\n",
       " 'advapi32.dll',\n",
       " 'advpack.dll',\n",
       " 'aecache.dll',\n",
       " 'aeevts.dll',\n",
       " 'aeinv.dll',\n",
       " 'aelupsvc.dll',\n",
       " 'aepic.dll',\n",
       " 'aitagent.exe',\n",
       " 'aitstatic.exe',\n",
       " 'alg.exe',\n",
       " 'AltTab.dll',\n",
       " 'amcompat.tlb',\n",
       " 'amstream.dll',\n",
       " 'amxread.dll',\n",
       " 'AntUsbCIv2.dll',\n",
       " 'apds.dll',\n",
       " 'api-ms-win-core-console-l1-1-0.dll',\n",
       " 'api-ms-win-core-datetime-l1-1-0.dll',\n",
       " 'api-ms-win-core-debug-l1-1-0.dll',\n",
       " 'api-ms-win-core-delayload-l1-1-0.dll',\n",
       " 'api-ms-win-core-errorhandling-l1-1-0.dll',\n",
       " 'api-ms-win-core-fibers-l1-1-0.dll',\n",
       " 'api-ms-win-core-file-l1-1-0.dll',\n",
       " 'api-ms-win-core-file-l1-2-0.dll',\n",
       " 'api-ms-win-core-file-l2-1-0.dll',\n",
       " 'api-ms-win-core-handle-l1-1-0.dll',\n",
       " 'api-ms-win-core-heap-l1-1-0.dll',\n",
       " 'api-ms-win-core-interlocked-l1-1-0.dll',\n",
       " 'api-ms-win-core-io-l1-1-0.dll',\n",
       " 'api-ms-win-core-libraryloader-l1-1-0.dll',\n",
       " 'api-ms-win-core-localization-l1-1-0.dll',\n",
       " 'api-ms-win-core-localization-l1-2-0.dll',\n",
       " 'api-ms-win-core-localregistry-l1-1-0.dll',\n",
       " 'api-ms-win-core-memory-l1-1-0.dll',\n",
       " 'api-ms-win-core-misc-l1-1-0.dll',\n",
       " 'api-ms-win-core-namedpipe-l1-1-0.dll',\n",
       " 'api-ms-win-core-processenvironment-l1-1-0.dll',\n",
       " 'api-ms-win-core-processthreads-l1-1-0.dll',\n",
       " 'api-ms-win-core-processthreads-l1-1-1.dll',\n",
       " 'api-ms-win-core-profile-l1-1-0.dll',\n",
       " 'api-ms-win-core-rtlsupport-l1-1-0.dll',\n",
       " 'api-ms-win-core-string-l1-1-0.dll',\n",
       " 'api-ms-win-core-synch-l1-1-0.dll',\n",
       " 'api-ms-win-core-synch-l1-2-0.dll',\n",
       " 'api-ms-win-core-sysinfo-l1-1-0.dll',\n",
       " 'api-ms-win-core-threadpool-l1-1-0.dll',\n",
       " 'api-ms-win-core-timezone-l1-1-0.dll',\n",
       " 'api-ms-win-core-ums-l1-1-0.dll',\n",
       " 'api-ms-win-core-util-l1-1-0.dll',\n",
       " 'api-ms-win-core-xstate-l1-1-0.dll',\n",
       " 'api-ms-win-core-xstate-l2-1-0.dll',\n",
       " 'api-ms-win-crt-conio-l1-1-0.dll',\n",
       " 'api-ms-win-crt-convert-l1-1-0.dll',\n",
       " 'api-ms-win-crt-environment-l1-1-0.dll',\n",
       " 'api-ms-win-crt-filesystem-l1-1-0.dll',\n",
       " 'api-ms-win-crt-heap-l1-1-0.dll',\n",
       " 'api-ms-win-crt-locale-l1-1-0.dll',\n",
       " 'api-ms-win-crt-math-l1-1-0.dll',\n",
       " 'api-ms-win-crt-multibyte-l1-1-0.dll',\n",
       " 'api-ms-win-crt-private-l1-1-0.dll',\n",
       " 'api-ms-win-crt-process-l1-1-0.dll',\n",
       " 'api-ms-win-crt-runtime-l1-1-0.dll',\n",
       " 'api-ms-win-crt-stdio-l1-1-0.dll',\n",
       " 'api-ms-win-crt-string-l1-1-0.dll',\n",
       " 'api-ms-win-crt-time-l1-1-0.dll',\n",
       " 'api-ms-win-crt-utility-l1-1-0.dll',\n",
       " 'api-ms-win-downlevel-advapi32-l1-1-0.dll',\n",
       " 'api-ms-win-downlevel-advapi32-l2-1-0.dll',\n",
       " 'api-ms-win-downlevel-normaliz-l1-1-0.dll',\n",
       " 'api-ms-win-downlevel-ole32-l1-1-0.dll',\n",
       " 'api-ms-win-downlevel-shell32-l1-1-0.dll',\n",
       " 'api-ms-win-downlevel-shlwapi-l1-1-0.dll',\n",
       " 'api-ms-win-downlevel-shlwapi-l2-1-0.dll',\n",
       " 'api-ms-win-downlevel-user32-l1-1-0.dll',\n",
       " 'api-ms-win-downlevel-version-l1-1-0.dll',\n",
       " 'api-ms-win-security-base-l1-1-0.dll',\n",
       " 'api-ms-win-security-lsalookup-l1-1-0.dll',\n",
       " 'api-ms-win-security-sddl-l1-1-0.dll',\n",
       " 'api-ms-win-service-core-l1-1-0.dll',\n",
       " 'api-ms-win-service-management-l1-1-0.dll',\n",
       " 'api-ms-win-service-management-l2-1-0.dll',\n",
       " 'api-ms-win-service-winsvc-l1-1-0.dll',\n",
       " 'apilogen.dll',\n",
       " 'apircl.dll',\n",
       " 'apisetschema.dll',\n",
       " 'apphelp.dll',\n",
       " 'Apphlpdm.dll',\n",
       " 'appidapi.dll',\n",
       " 'appidcertstorecheck.exe',\n",
       " 'appidpolicyconverter.exe',\n",
       " 'AppIdPolicyEngineApi.dll',\n",
       " 'appidsvc.dll',\n",
       " 'appinfo.dll',\n",
       " 'appmgmts.dll',\n",
       " 'appmgr.dll',\n",
       " 'appraiser',\n",
       " 'appraiser.dll',\n",
       " 'appwiz.cpl',\n",
       " 'apss.dll',\n",
       " 'ar-SA',\n",
       " 'ARP.EXE',\n",
       " 'asferror.dll',\n",
       " 'aspnet_counters.dll',\n",
       " 'asycfilt.dll',\n",
       " 'at.exe',\n",
       " 'AtBroker.exe',\n",
       " 'atl.dll',\n",
       " 'atl100.dll',\n",
       " 'atl110.dll',\n",
       " 'atmfd.dll',\n",
       " 'atmlib.dll',\n",
       " 'attrib.exe',\n",
       " 'ATWBFClient.dll',\n",
       " 'ATWBFCredProv.dll',\n",
       " 'audiodg.exe',\n",
       " 'AudioEng.dll',\n",
       " 'AUDIOKSE.dll',\n",
       " 'AudioSes.dll',\n",
       " 'audiosrv.dll',\n",
       " 'auditcse.dll',\n",
       " 'AuditNativeSnapIn.dll',\n",
       " 'auditpol.exe',\n",
       " 'AuditPolicyGPInterop.dll',\n",
       " 'auditpolmsg.dll',\n",
       " 'authfwcfg.dll',\n",
       " 'AuthFWGP.dll',\n",
       " 'AuthFWSnapin.dll',\n",
       " 'AuthFWWizFwk.dll',\n",
       " 'authui.dll',\n",
       " 'authz.dll',\n",
       " 'autochk.exe',\n",
       " 'autoconv.exe',\n",
       " 'autofmt.exe',\n",
       " 'autoplay.dll',\n",
       " 'AuxiliaryDisplayApi.dll',\n",
       " 'AuxiliaryDisplayClassInstaller.dll',\n",
       " 'AuxiliaryDisplayCpl.dll',\n",
       " 'AuxiliaryDisplayDriverLib.dll',\n",
       " 'AuxiliaryDisplayServices.dll',\n",
       " 'avicap32.dll',\n",
       " 'avifil32.dll',\n",
       " 'avrt.dll',\n",
       " 'AxInstSv.dll',\n",
       " 'AxInstUI.exe',\n",
       " 'azman.msc',\n",
       " 'azroles.dll',\n",
       " 'azroleui.dll',\n",
       " 'AzSqlExt.dll',\n",
       " 'baaupdate.exe',\n",
       " 'basecsp.dll',\n",
       " 'basesrv.dll',\n",
       " 'batmeter.dll',\n",
       " 'batt.dll',\n",
       " 'bcdboot.exe',\n",
       " 'bcdedit.exe',\n",
       " 'bcdprov.dll',\n",
       " 'bcdsrv.dll',\n",
       " 'bcrypt.dll',\n",
       " 'bcryptprimitives.dll',\n",
       " 'bdaplgin.ax',\n",
       " 'BdeHdCfg.exe',\n",
       " 'BdeHdCfgLib.dll',\n",
       " 'bderepair.dll',\n",
       " 'bdesvc.dll',\n",
       " 'bdeui.dll',\n",
       " 'BdeUISrv.exe',\n",
       " 'BdeUnlockWizard.exe',\n",
       " 'BFE.DLL',\n",
       " 'bg-BG',\n",
       " 'bgdspdrv.dll',\n",
       " 'bidispl.dll',\n",
       " 'biocpl.dll',\n",
       " 'BioCredProv.dll',\n",
       " 'BitLockerWizard.exe',\n",
       " 'BitLockerWizardElev.exe',\n",
       " 'bitsadmin.exe',\n",
       " 'bitsigd.dll',\n",
       " 'bitsperf.dll',\n",
       " 'bitsprx2.dll',\n",
       " 'bitsprx3.dll',\n",
       " 'bitsprx4.dll',\n",
       " 'bitsprx5.dll',\n",
       " 'bitsprx6.dll',\n",
       " 'blackbox.dll',\n",
       " 'BlbEvents.dll',\n",
       " 'blbres.dll',\n",
       " 'blb_ps.dll',\n",
       " 'Boot',\n",
       " 'boot.sdi',\n",
       " 'bootcfg.exe',\n",
       " 'bootres.dll',\n",
       " 'bootstr.dll',\n",
       " 'BOOTVID.DLL',\n",
       " 'bopomofo.uce',\n",
       " 'brcoinst.dll',\n",
       " 'brdgcfg.dll',\n",
       " 'bridgeres.dll',\n",
       " 'bridgeunattend.exe',\n",
       " 'browcli.dll',\n",
       " 'browser.dll',\n",
       " 'browseui.dll',\n",
       " 'bthci.dll',\n",
       " 'BthMtpContextHandler.dll',\n",
       " 'bthpanapi.dll',\n",
       " 'BthpanContextHandler.dll',\n",
       " 'bthprops.cpl',\n",
       " 'bthserv.dll',\n",
       " 'bthudtask.exe',\n",
       " 'btpanui.dll',\n",
       " 'Bubbles.scr',\n",
       " 'BWContextHandler.dll',\n",
       " 'BWUnpairElevated.dll',\n",
       " 'cabinet.dll',\n",
       " 'cabview.dll',\n",
       " 'cacls.exe',\n",
       " 'calc.exe',\n",
       " 'capiprovider.dll',\n",
       " 'capisp.dll',\n",
       " 'catroot',\n",
       " 'catroot2',\n",
       " 'catsrv.dll',\n",
       " 'catsrvps.dll',\n",
       " 'catsrvut.dll',\n",
       " 'cca.dll',\n",
       " 'ccmcore.dll',\n",
       " 'CcmFramework.h',\n",
       " 'CcmFramework.ini',\n",
       " 'ccmperf.dll',\n",
       " 'cdd.dll',\n",
       " 'cdosys.dll',\n",
       " 'centel.dll',\n",
       " 'cero.rs',\n",
       " 'certcli.dll',\n",
       " 'certCredProvider.dll',\n",
       " 'certenc.dll',\n",
       " 'CertEnroll.dll',\n",
       " 'CertEnrollCtrl.exe',\n",
       " 'CertEnrollUI.dll',\n",
       " 'certmgr.dll',\n",
       " 'certmgr.msc',\n",
       " 'CertPolEng.dll',\n",
       " 'certprop.dll',\n",
       " 'certreq.exe',\n",
       " 'certutil.exe',\n",
       " 'cewmdm.dll',\n",
       " 'cfgbkend.dll',\n",
       " 'cfgmgr32.dll',\n",
       " 'chajei.ime',\n",
       " 'change.exe',\n",
       " 'charmap.exe',\n",
       " 'chcp.com',\n",
       " 'chglogon.exe',\n",
       " 'chgport.exe',\n",
       " 'chgusr.exe',\n",
       " 'chkdsk.exe',\n",
       " 'chkntfs.exe',\n",
       " 'chkwudrv.dll',\n",
       " 'choice.exe',\n",
       " 'chsbrkr.dll',\n",
       " 'chtbrkr.dll',\n",
       " 'CHxReadingStringIME.dll',\n",
       " 'ci.dll',\n",
       " 'cic.dll',\n",
       " 'cintlgnt.ime',\n",
       " 'cipher.exe',\n",
       " 'CIRCoInst.dll',\n",
       " 'clb.dll',\n",
       " 'clbcatq.dll',\n",
       " 'cleanmgr.exe',\n",
       " 'clfs.sys',\n",
       " 'clfsw32.dll',\n",
       " 'cliconfg.dll',\n",
       " 'cliconfg.exe',\n",
       " 'cliconfg.rll',\n",
       " 'clip.exe',\n",
       " 'clusapi.dll',\n",
       " 'cmcfg32.dll',\n",
       " 'cmd.exe',\n",
       " 'cmdial32.dll',\n",
       " 'cmdkey.exe',\n",
       " 'cmdl32.exe',\n",
       " 'cmicryptinstall.dll',\n",
       " 'cmifw.dll',\n",
       " 'cmipnpinstall.dll',\n",
       " 'cmlua.dll',\n",
       " 'cmmon32.exe',\n",
       " 'cmpbk32.dll',\n",
       " 'cmstp.exe',\n",
       " 'cmstplua.dll',\n",
       " 'cmutil.dll',\n",
       " 'cngaudit.dll',\n",
       " 'cngprovider.dll',\n",
       " 'cnvfat.dll',\n",
       " 'cob-au.rs',\n",
       " 'CodeIntegrity',\n",
       " 'cofire.exe',\n",
       " 'cofiredm.dll',\n",
       " 'colbact.dll',\n",
       " 'collab.cpl',\n",
       " 'COLORCNV.DLL',\n",
       " 'colorcpl.exe',\n",
       " 'colorui.dll',\n",
       " 'com',\n",
       " 'comcat.dll',\n",
       " 'comctl32.dll',\n",
       " 'comdlg32.dll',\n",
       " 'comexp.msc',\n",
       " 'comp.exe',\n",
       " 'compact.exe',\n",
       " 'CompatTel',\n",
       " 'CompatTelRunner.exe',\n",
       " 'compmgmt.msc',\n",
       " 'CompMgmtLauncher.exe',\n",
       " 'compstui.dll',\n",
       " 'ComputerDefaults.exe',\n",
       " 'comrepl.dll',\n",
       " 'comres.dll',\n",
       " 'comsnap.dll',\n",
       " 'comsvcs.dll',\n",
       " 'comuid.dll',\n",
       " 'config',\n",
       " 'conhost.exe',\n",
       " 'connect.dll',\n",
       " 'consent.exe',\n",
       " 'console.dll',\n",
       " 'control.exe',\n",
       " 'convert.exe',\n",
       " 'correngine.dll',\n",
       " 'CPFilters.dll',\n",
       " 'credssp.dll',\n",
       " 'credui.dll',\n",
       " 'credwiz.exe',\n",
       " 'CRPPresentation.dll',\n",
       " 'crypt32.dll',\n",
       " 'cryptbase.dll',\n",
       " 'cryptdlg.dll',\n",
       " 'cryptdll.dll',\n",
       " 'cryptext.dll',\n",
       " 'cryptnet.dll',\n",
       " 'cryptsp.dll',\n",
       " 'cryptsvc.dll',\n",
       " 'cryptui.dll',\n",
       " 'cryptxml.dll',\n",
       " 'cs-CZ',\n",
       " 'cscapi.dll',\n",
       " 'cscdll.dll',\n",
       " 'CscMig.dll',\n",
       " 'cscobj.dll',\n",
       " 'cscript.exe',\n",
       " 'cscsvc.dll',\n",
       " 'cscui.dll',\n",
       " 'csrr.rs',\n",
       " 'csrsrv.dll',\n",
       " 'csrss.exe',\n",
       " 'ctfmon.exe',\n",
       " 'cttune.exe',\n",
       " 'cttunesvr.exe',\n",
       " 'CustomModeApp.exe',\n",
       " 'CustomModeApp.exe.config',\n",
       " 'C_037.NLS',\n",
       " 'C_10000.NLS',\n",
       " 'C_10001.NLS',\n",
       " 'C_10002.NLS',\n",
       " 'C_10003.NLS',\n",
       " 'C_10004.NLS',\n",
       " 'C_10005.NLS',\n",
       " 'C_10006.NLS',\n",
       " 'C_10007.NLS',\n",
       " 'C_10008.NLS',\n",
       " 'C_10010.NLS',\n",
       " 'C_10017.NLS',\n",
       " 'C_10021.NLS',\n",
       " 'C_10029.NLS',\n",
       " 'C_10079.NLS',\n",
       " 'C_10081.NLS',\n",
       " 'C_10082.NLS',\n",
       " 'C_1026.NLS',\n",
       " 'C_1047.NLS',\n",
       " 'C_1140.NLS',\n",
       " 'C_1141.NLS',\n",
       " 'C_1142.NLS',\n",
       " 'C_1143.NLS',\n",
       " 'C_1144.NLS',\n",
       " 'C_1145.NLS',\n",
       " 'C_1146.NLS',\n",
       " 'C_1147.NLS',\n",
       " 'C_1148.NLS',\n",
       " 'C_1149.NLS',\n",
       " 'C_1250.NLS',\n",
       " 'C_1251.NLS',\n",
       " 'C_1252.NLS',\n",
       " 'C_1253.NLS',\n",
       " 'C_1254.NLS',\n",
       " 'C_1255.NLS',\n",
       " 'C_1256.NLS',\n",
       " 'C_1257.NLS',\n",
       " 'C_1258.NLS',\n",
       " 'C_1361.NLS',\n",
       " 'C_20000.NLS',\n",
       " 'C_20001.NLS',\n",
       " 'C_20002.NLS',\n",
       " 'C_20003.NLS',\n",
       " 'C_20004.NLS',\n",
       " 'C_20005.NLS',\n",
       " 'C_20105.NLS',\n",
       " 'C_20106.NLS',\n",
       " 'C_20107.NLS',\n",
       " 'C_20108.NLS',\n",
       " 'C_20127.NLS',\n",
       " 'C_20261.NLS',\n",
       " 'C_20269.NLS',\n",
       " 'C_20273.NLS',\n",
       " 'C_20277.NLS',\n",
       " 'C_20278.NLS',\n",
       " 'C_20280.NLS',\n",
       " 'C_20284.NLS',\n",
       " 'C_20285.NLS',\n",
       " 'C_20290.NLS',\n",
       " 'C_20297.NLS',\n",
       " 'C_20420.NLS',\n",
       " 'C_20423.NLS',\n",
       " 'C_20424.NLS',\n",
       " 'C_20833.NLS',\n",
       " 'C_20838.NLS',\n",
       " 'C_20866.NLS',\n",
       " 'C_20871.NLS',\n",
       " 'C_20880.NLS',\n",
       " 'C_20905.NLS',\n",
       " 'C_20924.NLS',\n",
       " 'C_20932.NLS',\n",
       " 'C_20936.NLS',\n",
       " 'C_20949.NLS',\n",
       " 'C_21025.NLS',\n",
       " 'C_21027.NLS',\n",
       " 'C_21866.NLS',\n",
       " 'C_28591.NLS',\n",
       " 'C_28592.NLS',\n",
       " 'C_28593.NLS',\n",
       " 'C_28594.NLS',\n",
       " 'C_28595.NLS',\n",
       " 'C_28596.NLS',\n",
       " 'C_28597.NLS',\n",
       " 'C_28598.NLS',\n",
       " 'C_28599.NLS',\n",
       " 'c_28603.nls',\n",
       " 'C_28605.NLS',\n",
       " 'C_437.NLS',\n",
       " 'C_500.NLS',\n",
       " 'C_708.NLS',\n",
       " 'C_720.NLS',\n",
       " 'C_737.NLS',\n",
       " 'C_775.NLS',\n",
       " 'C_850.NLS',\n",
       " 'C_852.NLS',\n",
       " 'C_855.NLS',\n",
       " 'C_857.NLS',\n",
       " 'C_858.NLS',\n",
       " 'C_860.NLS',\n",
       " 'C_861.NLS',\n",
       " 'C_862.NLS',\n",
       " 'C_863.NLS',\n",
       " 'C_864.NLS',\n",
       " 'C_865.NLS',\n",
       " 'C_866.NLS',\n",
       " 'C_869.NLS',\n",
       " 'C_870.NLS',\n",
       " 'C_874.NLS',\n",
       " 'C_875.NLS',\n",
       " 'C_932.NLS',\n",
       " 'C_936.NLS',\n",
       " 'C_949.NLS',\n",
       " 'C_950.NLS',\n",
       " 'C_G18030.DLL',\n",
       " 'C_IS2022.DLL',\n",
       " 'C_ISCII.DLL',\n",
       " 'd2d1.dll',\n",
       " 'd3d10.dll',\n",
       " 'd3d10core.dll',\n",
       " 'd3d10level9.dll',\n",
       " 'd3d10warp.dll',\n",
       " 'd3d10_1.dll',\n",
       " 'd3d10_1core.dll',\n",
       " 'd3d11.dll',\n",
       " 'd3d8thk.dll',\n",
       " 'd3d9.dll',\n",
       " 'D3DCompiler_47.dll',\n",
       " 'da-DK',\n",
       " 'dataclen.dll',\n",
       " 'davclnt.dll',\n",
       " 'davhlpr.dll',\n",
       " 'dbgeng.dll',\n",
       " 'dbghelp.dll',\n",
       " 'dbnetlib.dll',\n",
       " 'dbnmpntw.dll',\n",
       " 'dccw.exe',\n",
       " 'dciman32.dll',\n",
       " 'dcomcnfg.exe',\n",
       " 'DDACLSys.dll',\n",
       " 'ddodiag.exe',\n",
       " 'DDOIProxy.dll',\n",
       " 'DDORes.dll',\n",
       " 'ddraw.dll',\n",
       " 'ddrawex.dll',\n",
       " 'de-DE',\n",
       " 'defaultlocationcpl.dll',\n",
       " 'Defrag.exe',\n",
       " 'defragproxy.dll',\n",
       " 'defragsvc.dll',\n",
       " 'desk.cpl',\n",
       " 'deskadp.dll',\n",
       " 'deskmon.dll',\n",
       " 'deskperf.dll',\n",
       " 'desktop.ini',\n",
       " 'devenum.dll',\n",
       " 'DeviceCenter.dll',\n",
       " 'DeviceDisplayObjectProvider.exe',\n",
       " 'DeviceDisplayStatusManager.dll',\n",
       " 'DeviceEject.exe',\n",
       " 'DeviceMetadataParsers.dll',\n",
       " 'DevicePairing.dll',\n",
       " 'DevicePairingFolder.dll',\n",
       " 'DevicePairingHandler.dll',\n",
       " 'DevicePairingProxy.dll',\n",
       " 'DevicePairingWizard.exe',\n",
       " 'DeviceProperties.exe',\n",
       " 'DeviceUxRes.dll',\n",
       " 'devinv.dll',\n",
       " 'devmgmt.msc',\n",
       " 'devmgr.dll',\n",
       " 'devobj.dll',\n",
       " 'devrtl.dll',\n",
       " 'dfdts.dll',\n",
       " 'DFDWiz.exe',\n",
       " 'dfrgui.exe',\n",
       " 'dfscli.dll',\n",
       " 'dfshim.dll',\n",
       " 'DfsShlEx.dll',\n",
       " 'dhcpcmonitor.dll',\n",
       " 'dhcpcore.dll',\n",
       " 'dhcpcore6.dll',\n",
       " 'dhcpcsvc.dll',\n",
       " 'dhcpcsvc6.dll',\n",
       " 'DHCPQEC.DLL',\n",
       " 'dhcpsapi.dll',\n",
       " 'DiagCpl.dll',\n",
       " 'diagperf.dll',\n",
       " 'diagtrack.dll',\n",
       " 'dialer.exe',\n",
       " 'diantz.exe',\n",
       " 'difx64.exe',\n",
       " 'difxapi.dll',\n",
       " 'dimsjob.dll',\n",
       " 'dimsroam.dll',\n",
       " 'dinotify.exe',\n",
       " 'dinput.dll',\n",
       " 'dinput8.dll',\n",
       " 'diskcomp.com',\n",
       " 'diskcopy.com',\n",
       " 'diskcopy.dll',\n",
       " 'diskmgmt.msc',\n",
       " 'diskpart.exe',\n",
       " 'diskperf.exe',\n",
       " 'diskraid.exe',\n",
       " 'Dism',\n",
       " 'Dism.exe',\n",
       " 'dispci.dll',\n",
       " 'dispdiag.exe',\n",
       " 'dispex.dll',\n",
       " 'Display.dll',\n",
       " 'DisplaySwitch.exe',\n",
       " 'djctq.rs',\n",
       " 'djoin.exe',\n",
       " 'dllhost.exe',\n",
       " 'dllhst3g.exe',\n",
       " 'dmdlgs.dll',\n",
       " 'dmdskmgr.dll',\n",
       " 'dmdskres.dll',\n",
       " 'dmdskres2.dll',\n",
       " 'dmintf.dll',\n",
       " 'dmloader.dll',\n",
       " 'dmocx.dll',\n",
       " 'dmrc.dll',\n",
       " 'dmsynth.dll',\n",
       " 'dmusic.dll',\n",
       " 'dmutil.dll',\n",
       " 'dmvdsitf.dll',\n",
       " 'dmview.ocx',\n",
       " 'dmvscres.dll',\n",
       " 'dnsapi.dll',\n",
       " 'dnscacheugc.exe',\n",
       " 'dnscmmc.dll',\n",
       " 'dnsext.dll',\n",
       " 'dnshc.dll',\n",
       " 'dnsrslvr.dll',\n",
       " 'docprop.dll',\n",
       " 'DocumentPerformanceEvents.dll',\n",
       " 'doskey.exe',\n",
       " 'dot3api.dll',\n",
       " 'dot3cfg.dll',\n",
       " 'dot3dlg.dll',\n",
       " 'dot3gpclnt.dll',\n",
       " 'dot3gpui.dll',\n",
       " 'dot3hc.dll',\n",
       " 'dot3msm.dll',\n",
       " 'dot3svc.dll',\n",
       " 'dot3ui.dll',\n",
       " 'dpapimig.exe',\n",
       " 'dpapiprovider.dll',\n",
       " 'DpiScaling.exe',\n",
       " 'dpnaddr.dll',\n",
       " 'dpnathlp.dll',\n",
       " 'dpnet.dll',\n",
       " 'dpnhpast.dll',\n",
       " 'dpnhupnp.dll',\n",
       " 'dpnlobby.dll',\n",
       " 'dpnsvr.exe',\n",
       " 'dps.dll',\n",
       " 'DPTopologyApp.exe',\n",
       " 'DPTopologyApp.exe.config',\n",
       " 'dpx.dll',\n",
       " 'driverquery.exe',\n",
       " 'drivers',\n",
       " 'DriverStore',\n",
       " 'drmmgrtn.dll',\n",
       " 'drmv2clt.dll',\n",
       " 'drprov.dll',\n",
       " 'drt.dll',\n",
       " 'drtprov.dll',\n",
       " 'drttransport.dll',\n",
       " 'drvinst.exe',\n",
       " 'drvstore.dll',\n",
       " 'ds32gt.dll',\n",
       " 'dsauth.dll',\n",
       " 'dsdmo.dll',\n",
       " 'DShowRdpFilter.dll',\n",
       " 'dskquota.dll',\n",
       " 'dskquoui.dll',\n",
       " 'dsound.dll',\n",
       " 'dsprop.dll',\n",
       " 'dsquery.dll',\n",
       " 'dsrole.dll',\n",
       " 'dssec.dat',\n",
       " 'dssec.dll',\n",
       " 'dssenh.dll',\n",
       " 'dsuiext.dll',\n",
       " 'dswave.dll',\n",
       " 'dtsh.dll',\n",
       " 'dui70.dll',\n",
       " 'duser.dll',\n",
       " 'dvdplay.exe',\n",
       " 'dvdupgrd.exe',\n",
       " 'dwm.exe',\n",
       " 'dwmapi.dll',\n",
       " 'dwmcore.dll',\n",
       " 'dwmredir.dll',\n",
       " 'DWrite.dll',\n",
       " 'DWWIN.EXE',\n",
       " 'dxdiag.exe',\n",
       " 'dxdiagn.dll',\n",
       " 'dxgi.dll',\n",
       " 'dxmasf.dll',\n",
       " 'DXP.dll',\n",
       " 'dxpps.dll',\n",
       " 'Dxpserver.exe',\n",
       " 'DXPTaskRingtone.dll',\n",
       " 'DxpTaskSync.dll',\n",
       " 'dxtmsft.dll',\n",
       " 'dxtrans.dll',\n",
       " 'dxva2.dll',\n",
       " 'e1c62x64.din',\n",
       " 'e1cmsg.dll',\n",
       " 'Eap3Host.exe',\n",
       " 'eapp3hst.dll',\n",
       " 'eappcfg.dll',\n",
       " 'eappgnui.dll',\n",
       " 'eapphost.dll',\n",
       " 'eappprxy.dll',\n",
       " 'EAPQEC.DLL',\n",
       " 'eapsvc.dll',\n",
       " 'efsadu.dll',\n",
       " 'efscore.dll',\n",
       " 'efslsaext.dll',\n",
       " 'efssvc.dll',\n",
       " 'efsui.exe',\n",
       " 'efsutil.dll',\n",
       " 'EhStorAPI.dll',\n",
       " 'EhStorAuthn.exe',\n",
       " 'EhStorPwdMgr.dll',\n",
       " 'EhStorShell.dll',\n",
       " 'el-GR',\n",
       " 'els.dll',\n",
       " 'ELSCore.dll',\n",
       " 'elshyph.dll',\n",
       " 'elslad.dll',\n",
       " 'elsTrans.dll',\n",
       " 'en',\n",
       " 'en-US',\n",
       " 'encapi.dll',\n",
       " 'EncDec.dll',\n",
       " 'EncDump.dll',\n",
       " 'energy.dll',\n",
       " 'eqossnap.dll',\n",
       " 'es-ES',\n",
       " 'es.dll',\n",
       " 'esent.dll',\n",
       " 'esentprf.dll',\n",
       " 'esentutl.exe',\n",
       " 'esrb.rs',\n",
       " 'et-EE',\n",
       " 'eudcedit.exe',\n",
       " 'eventcls.dll',\n",
       " 'eventcreate.exe',\n",
       " 'EventViewer_EventDetails.xsl',\n",
       " 'eventvwr.exe',\n",
       " 'eventvwr.msc',\n",
       " 'evr.dll',\n",
       " 'expand.exe',\n",
       " 'ExplorerFrame.dll',\n",
       " 'extrac32.exe',\n",
       " 'f3ahvoas.dll',\n",
       " 'Faultrep.dll',\n",
       " 'fc.exe',\n",
       " 'fdBth.dll',\n",
       " 'fdBthProxy.dll',\n",
       " 'fde.dll',\n",
       " 'fdeploy.dll',\n",
       " 'fdPHost.dll',\n",
       " 'fdPnp.dll',\n",
       " 'fdprint.dll',\n",
       " 'fdProxy.dll',\n",
       " 'FDResPub.dll',\n",
       " 'fdSSDP.dll',\n",
       " 'fdWCN.dll',\n",
       " 'fdWNet.dll',\n",
       " 'fdWSD.dll',\n",
       " 'feclient.dll',\n",
       " 'fi-FI',\n",
       " 'filemgmt.dll',\n",
       " 'find.exe',\n",
       " 'findnetprinters.dll',\n",
       " 'findstr.exe',\n",
       " 'finger.exe',\n",
       " 'Firewall.cpl',\n",
       " 'FirewallAPI.dll',\n",
       " 'FirewallControlPanel.dll',\n",
       " 'fixmapi.exe',\n",
       " 'fltLib.dll',\n",
       " 'fltMC.exe',\n",
       " 'fmifs.dll',\n",
       " 'fms.dll',\n",
       " 'FNTCACHE.DAT',\n",
       " 'FntCache.dll',\n",
       " 'fontext.dll',\n",
       " 'fontsub.dll',\n",
       " 'fontview.exe',\n",
       " 'forfiles.exe',\n",
       " 'format.com',\n",
       " 'fpb.rs',\n",
       " 'fphc.dll',\n",
       " 'fr-FR',\n",
       " 'framebuf.dll',\n",
       " 'framedyn.dll',\n",
       " 'framedynos.dll',\n",
       " 'FrameworkPerf.dll',\n",
       " 'fsmgmt.msc',\n",
       " 'fsutil.exe',\n",
       " 'fthsvc.dll',\n",
       " 'ftp.exe',\n",
       " 'fundisc.dll',\n",
       " 'fveapi.dll',\n",
       " 'fveapibase.dll',\n",
       " 'fvecerts.dll',\n",
       " 'fvecpl.dll',\n",
       " 'fvenotify.exe',\n",
       " 'fveprompt.exe',\n",
       " 'fveRecover.dll',\n",
       " 'fveui.dll',\n",
       " 'fvewiz.dll',\n",
       " 'fwcfg.dll',\n",
       " 'FWPUCLNT.DLL',\n",
       " 'FwRemoteSvr.dll',\n",
       " 'FXSAPI.dll',\n",
       " 'FXSCOM.dll',\n",
       " 'FXSCOMEX.dll',\n",
       " 'FXSCOMPOSE.dll',\n",
       " 'FXSCOMPOSERES.dll',\n",
       " 'FXSCOVER.exe',\n",
       " 'FXSEVENT.dll',\n",
       " 'FXSMON.dll',\n",
       " 'FXSRESM.dll',\n",
       " 'FXSROUTE.dll',\n",
       " 'FXSST.dll',\n",
       " 'FXSSVC.exe',\n",
       " 'FXST30.dll',\n",
       " 'FXSTIFF.dll',\n",
       " 'FxsTmp',\n",
       " 'FXSUNATD.exe',\n",
       " 'FXSUTILITY.dll',\n",
       " 'g711codc.ax',\n",
       " 'gacinstall.dll',\n",
       " 'gameux.dll',\n",
       " 'GameUXLegacyGDFs.dll',\n",
       " 'gatherNetworkInfo.vbs',\n",
       " 'gb2312.uce',\n",
       " 'gcdef.dll',\n",
       " 'gdi32.dll',\n",
       " 'generaltel.dll',\n",
       " 'getmac.exe',\n",
       " 'GettingStarted.exe',\n",
       " 'getuname.dll',\n",
       " 'Gfxres.ar-SA.resources',\n",
       " 'Gfxres.cs-CZ.resources',\n",
       " 'Gfxres.da-DK.resources',\n",
       " 'Gfxres.de-DE.resources',\n",
       " 'GfxRes.dll',\n",
       " 'Gfxres.el-GR.resources',\n",
       " 'Gfxres.en-US.resources',\n",
       " 'Gfxres.es-ES.resources',\n",
       " 'Gfxres.fi-FI.resources',\n",
       " 'Gfxres.fr-FR.resources',\n",
       " 'Gfxres.he-IL.resources',\n",
       " 'Gfxres.hr-HR.resources',\n",
       " 'Gfxres.hu-HU.resources',\n",
       " 'Gfxres.it-IT.resources',\n",
       " 'Gfxres.ja-JP.resources',\n",
       " 'Gfxres.ko-KR.resources',\n",
       " 'Gfxres.nb-NO.resources',\n",
       " 'Gfxres.nl-NL.resources',\n",
       " 'Gfxres.pl-PL.resources',\n",
       " 'Gfxres.pt-BR.resources',\n",
       " 'Gfxres.pt-PT.resources',\n",
       " 'Gfxres.ro-RO.resources',\n",
       " 'Gfxres.ru-RU.resources',\n",
       " 'Gfxres.sk-SK.resources',\n",
       " 'Gfxres.sl-SI.resources',\n",
       " 'Gfxres.sv-SE.resources',\n",
       " 'Gfxres.th-TH.resources',\n",
       " 'Gfxres.tr-TR.resources',\n",
       " 'Gfxres.zh-CN.resources',\n",
       " 'Gfxres.zh-TW.resources',\n",
       " 'gfxSrvc.dll',\n",
       " 'GfxUIEx.exe',\n",
       " 'GfxUIEx.exe.config',\n",
       " 'GfxUIHotKeyMenu.exe',\n",
       " 'GfxUIHotKeyMenu.exe.config',\n",
       " 'glmf32.dll',\n",
       " 'glu32.dll',\n",
       " 'gpapi.dll',\n",
       " 'gpedit.dll',\n",
       " 'gpedit.msc',\n",
       " 'gpprefcl.dll',\n",
       " 'gpprnext.dll',\n",
       " 'gpresult.exe',\n",
       " 'gpscript.dll',\n",
       " 'gpscript.exe',\n",
       " 'gpsvc.dll',\n",
       " 'gptext.dll',\n",
       " 'gpupdate.exe',\n",
       " 'grb.rs',\n",
       " 'Groupinghc.dll',\n",
       " 'GroupPolicy',\n",
       " 'GroupPolicyUsers',\n",
       " 'grpconv.exe',\n",
       " 'hal.dll',\n",
       " 'hbaapi.dll',\n",
       " 'hccutils.dll',\n",
       " 'hcproviders.dll',\n",
       " 'hdwwiz.cpl',\n",
       " 'hdwwiz.exe',\n",
       " 'he-IL',\n",
       " 'help.exe',\n",
       " 'HelpPaneProxy.dll',\n",
       " 'hgcpl.dll',\n",
       " 'hgprint.dll',\n",
       " 'hhctrl.ocx',\n",
       " 'hhsetup.dll',\n",
       " 'hid.dll',\n",
       " 'hidphone.tsp',\n",
       " 'hidserv.dll',\n",
       " 'hkcmd.exe',\n",
       " 'hlink.dll',\n",
       " 'hnetcfg.dll',\n",
       " 'hnetmon.dll',\n",
       " 'HOSTNAME.EXE',\n",
       " 'hotplug.dll',\n",
       " 'HotStartUserAgent.dll',\n",
       " 'HPZ3LWN7.DLL',\n",
       " 'hr-HR',\n",
       " 'html.iec',\n",
       " 'httpapi.dll',\n",
       " 'htui.dll',\n",
       " 'hu-HU',\n",
       " 'ias',\n",
       " 'ias.dll',\n",
       " 'iasacct.dll',\n",
       " 'iasads.dll',\n",
       " 'iasdatastore.dll',\n",
       " 'iashlpr.dll',\n",
       " 'IasMigPlugin.dll',\n",
       " 'iasnap.dll',\n",
       " 'iaspolcy.dll',\n",
       " 'iasrad.dll',\n",
       " 'iasrecst.dll',\n",
       " 'iassam.dll',\n",
       " 'iassdo.dll',\n",
       " 'iassvcs.dll',\n",
       " 'icaapi.dll',\n",
       " 'icacls.exe',\n",
       " 'icardagt.exe',\n",
       " 'icardie.dll',\n",
       " 'icardres.dll',\n",
       " 'IccLibDll_x64.dll',\n",
       " 'IcCoinstall.dll',\n",
       " 'icfupgd.dll',\n",
       " 'icm32.dll',\n",
       " 'icmp.dll',\n",
       " 'icmui.dll',\n",
       " 'IconCodecService.dll',\n",
       " 'icrav03.rat',\n",
       " 'icsigd.dll',\n",
       " 'icsunattend.exe',\n",
       " 'icsxml',\n",
       " 'ideograf.uce',\n",
       " 'IdListen.dll',\n",
       " 'idndl.dll',\n",
       " 'IDStore.dll',\n",
       " 'ie4uinit.exe',\n",
       " 'IEAdvpack.dll',\n",
       " 'ieapfltr.dat',\n",
       " 'ieapfltr.dll',\n",
       " 'iedkcs32.dll',\n",
       " 'ieetwcollector.exe',\n",
       " 'ieetwcollectorres.dll',\n",
       " 'ieetwproxystub.dll',\n",
       " 'ieframe.dll',\n",
       " 'iepeers.dll',\n",
       " 'iernonce.dll',\n",
       " 'iertutil.dll',\n",
       " 'iesetup.dll',\n",
       " 'iesysprep.dll',\n",
       " 'IEUDINIT.EXE',\n",
       " 'ieui.dll',\n",
       " 'ieuinit.inf',\n",
       " 'ieUnatt.exe',\n",
       " 'iexpress.exe',\n",
       " 'ifmon.dll',\n",
       " 'ifsutil.dll',\n",
       " 'ifsutilx.dll',\n",
       " 'ig7icd64.dll',\n",
       " 'igd10iumd64.dll',\n",
       " 'igdail64.dll',\n",
       " 'igdbcl64.dll',\n",
       " 'igdde64.dll',\n",
       " 'igdDiag.dll',\n",
       " 'igdfcl64.dll',\n",
       " 'igdmd64.dll',\n",
       " 'igdrcl64.dll',\n",
       " 'igdumdim64.dll',\n",
       " 'igdusc64.dll',\n",
       " 'igfx11cmrt64.dll',\n",
       " 'igfxcmjit64.dll',\n",
       " 'igfxcmrt64.dll',\n",
       " 'igfxCoIn_v3308.dll',\n",
       " 'igfxcpl.cpl',\n",
       " 'igfxdev.dll',\n",
       " 'IGFXDEVLib.dll',\n",
       " 'igfxdo.dll',\n",
       " 'igfxexps.dll',\n",
       " 'igfxext.exe',\n",
       " 'igfxpers.exe',\n",
       " 'igfxpph.dll',\n",
       " 'igfxrara.lrc',\n",
       " 'igfxrchs.lrc',\n",
       " 'igfxrcht.lrc',\n",
       " 'igfxrcsy.lrc',\n",
       " ...]"
      ]
     },
     "execution_count": 124,
     "metadata": {},
     "output_type": "execute_result"
    }
   ],
   "source": [
    "import os\n",
    "os.listdir('C:\\\\Windows\\\\System32')\n"
   ]
  },
  {
   "cell_type": "markdown",
   "metadata": {},
   "source": [
    "Listing directory contents using `pathlib` on \\*nix:"
   ]
  },
  {
   "cell_type": "markdown",
   "metadata": {
    "collapsed": true
   },
   "source": [
    ">>> from pathlib import Path\n",
    ">>> for f in Path('/usr/bin').iterdir():\n",
    ">>>     print(f)\n",
    "...\n",
    "/usr/bin/tiff2rgba\n",
    "/usr/bin/iconv\n",
    "/usr/bin/ldd\n",
    "/usr/bin/cache_restore\n",
    "/usr/bin/udiskie\n",
    "/usr/bin/unix2dos\n",
    "/usr/bin/t1reencode\n",
    "/usr/bin/epstopdf\n",
    "/usr/bin/idle3\n",
    "..."
   ]
  },
  {
   "cell_type": "markdown",
   "metadata": {},
   "source": [
    "To find the total size of all the files in this directory:\n",
    "\n",
    "**WARNING**: Directories themselves also have a size! So you might want to\n",
    "check for whether a path is a file or directory using the methods in the methods discussed in the above section!\n",
    "\n",
    "Using `os.path.getsize()` and `os.listdir()` together on Windows:"
   ]
  },
  {
   "cell_type": "code",
   "execution_count": 125,
   "metadata": {},
   "outputs": [
    {
     "name": "stdout",
     "output_type": "stream",
     "text": [
      "0\n",
      "23568\n",
      "47136\n",
      "3792928\n",
      "3832352\n",
      "3841568\n",
      "3995680\n",
      "4287520\n",
      "4340768\n",
      "4352032\n",
      "5132832\n",
      "5682720\n",
      "5896224\n",
      "6164000\n",
      "6275616\n",
      "7236640\n",
      "7277088\n",
      "7854112\n",
      "7910944\n",
      "8150048\n",
      "8386592\n",
      "8494112\n",
      "8820256\n",
      "9510944\n",
      "9510944\n",
      "10391584\n",
      "10551840\n",
      "10560544\n",
      "10583584\n",
      "11239968\n",
      "11312160\n",
      "11549216\n",
      "11672096\n",
      "13665824\n",
      "13745184\n",
      "13798432\n",
      "13816864\n",
      "13905952\n",
      "13931552\n",
      "13980704\n",
      "16115232\n",
      "16118304\n",
      "16121376\n",
      "16124448\n",
      "16127520\n",
      "16130592\n",
      "16133664\n",
      "16138784\n",
      "16150392\n",
      "16162000\n",
      "16165072\n",
      "16168656\n",
      "16171728\n",
      "16174800\n",
      "16178384\n",
      "16182480\n",
      "16196648\n",
      "16200744\n",
      "16204328\n",
      "16207912\n",
      "16211496\n",
      "16215080\n",
      "16219688\n",
      "16231808\n",
      "16234880\n",
      "16238464\n",
      "16241536\n",
      "16245632\n",
      "16257752\n",
      "16261848\n",
      "16266456\n",
      "16278064\n",
      "16281136\n",
      "16284208\n",
      "16287280\n",
      "16298888\n",
      "16311520\n",
      "16327224\n",
      "16339344\n",
      "16353000\n",
      "16365632\n",
      "16377752\n",
      "16398576\n",
      "16418376\n",
      "16482208\n",
      "16494840\n",
      "16511056\n",
      "16528808\n",
      "16546560\n",
      "16560728\n",
      "16572848\n",
      "16583600\n",
      "16587184\n",
      "16589744\n",
      "16595376\n",
      "16598448\n",
      "16608176\n",
      "16613808\n",
      "16617904\n",
      "16620976\n",
      "16627120\n",
      "16630704\n",
      "16633776\n",
      "16636336\n",
      "16638896\n",
      "16641456\n",
      "16645040\n",
      "16662960\n",
      "16936880\n",
      "16944048\n",
      "17286064\n",
      "17319856\n",
      "17379760\n",
      "17397680\n",
      "17546160\n",
      "17858480\n",
      "17893296\n",
      "17963440\n",
      "18156976\n",
      "18636208\n",
      "18636208\n",
      "20195760\n",
      "20922288\n",
      "21165488\n",
      "21165488\n",
      "21189552\n",
      "21191600\n",
      "21222000\n",
      "21307504\n",
      "21336176\n",
      "21371504\n",
      "21462128\n",
      "21620664\n",
      "21820800\n",
      "22204480\n",
      "22250560\n",
      "22268992\n",
      "22350248\n",
      "22776592\n",
      "22902544\n",
      "23342864\n",
      "23842576\n",
      "24138512\n",
      "24818960\n",
      "25013008\n",
      "25233680\n",
      "25298192\n",
      "25373456\n",
      "25468688\n",
      "25960208\n",
      "26264336\n",
      "31331088\n",
      "31458064\n",
      "33400080\n",
      "33577744\n",
      "34355472\n",
      "35148560\n",
      "35912464\n",
      "36067600\n",
      "36231952\n",
      "36368144\n",
      "37094672\n",
      "37284112\n",
      "37419792\n",
      "37496592\n",
      "37605136\n",
      "37623568\n",
      "37738256\n",
      "37797136\n",
      "37838723\n",
      "38736259\n",
      "39208323\n",
      "39240067\n",
      "39350659\n",
      "39520835\n",
      "39573571\n",
      "40323139\n",
      "40426563\n",
      "40602179\n",
      "40948291\n",
      "41026115\n",
      "41194563\n",
      "41318467\n",
      "41616451\n",
      "41720899\n",
      "41851459\n",
      "41956931\n",
      "42019907\n",
      "42120771\n",
      "42148931\n",
      "42197571\n",
      "42295875\n",
      "43000899\n",
      "43000899\n",
      "43043219\n",
      "43086227\n",
      "43590547\n",
      "43781523\n",
      "43881875\n",
      "43982227\n",
      "44214675\n",
      "44271507\n",
      "44296083\n",
      "44308883\n",
      "44322195\n",
      "44334483\n",
      "44367763\n",
      "44381075\n",
      "45223315\n",
      "45276051\n",
      "45278099\n",
      "45306771\n",
      "45306771\n",
      "48477075\n",
      "48571795\n",
      "50789651\n",
      "50792211\n",
      "50815331\n",
      "50838315\n",
      "50857771\n",
      "50885419\n",
      "50887467\n",
      "50908459\n",
      "50967851\n",
      "51104555\n",
      "51118891\n",
      "51161387\n",
      "51192107\n",
      "51222827\n",
      "51316523\n",
      "52037931\n",
      "52121899\n",
      "52158763\n",
      "52233003\n",
      "53132587\n",
      "53201707\n",
      "53216555\n",
      "53311275\n",
      "53450539\n",
      "53481771\n",
      "54400299\n",
      "54454059\n",
      "54479147\n",
      "54479147\n",
      "54483243\n",
      "54955819\n",
      "55012139\n",
      "55537963\n",
      "55633195\n",
      "57022947\n",
      "57023568\n",
      "57028332\n",
      "57131428\n",
      "57275812\n",
      "58409380\n",
      "58859428\n",
      "58914724\n",
      "59378596\n",
      "59507620\n",
      "59559844\n",
      "61535140\n",
      "61605284\n",
      "61903268\n",
      "63699364\n",
      "63762434\n",
      "63834114\n",
      "63914498\n",
      "64240642\n",
      "65433090\n",
      "65688066\n",
      "65745410\n",
      "65953282\n",
      "66128386\n",
      "66145282\n",
      "66311170\n",
      "66323970\n",
      "66346498\n",
      "66370562\n",
      "66392066\n",
      "66428930\n",
      "66447874\n",
      "66470402\n",
      "66507266\n",
      "68183042\n",
      "74283522\n",
      "74296322\n",
      "74753722\n",
      "74965690\n",
      "75140794\n",
      "75183802\n",
      "75193530\n",
      "75210938\n",
      "75818682\n",
      "76034746\n",
      "76406138\n",
      "76485498\n",
      "76587898\n",
      "76637050\n",
      "76678010\n",
      "76710266\n",
      "77024634\n",
      "77062010\n",
      "77407098\n",
      "77932410\n",
      "77948794\n",
      "78029178\n",
      "78112122\n",
      "78192506\n",
      "78664570\n",
      "78706554\n",
      "78751610\n",
      "78780282\n",
      "78872442\n",
      "78890874\n",
      "78949754\n",
      "78968698\n",
      "79026042\n",
      "79064442\n",
      "79105402\n",
      "79105402\n",
      "79127930\n",
      "79160186\n",
      "79240570\n",
      "79326074\n",
      "79516026\n",
      "79602554\n",
      "80227194\n",
      "80227194\n",
      "80235898\n",
      "80869754\n",
      "81464186\n",
      "81588304\n",
      "81612368\n",
      "81632336\n",
      "81632336\n",
      "81767696\n",
      "81880952\n",
      "82026872\n",
      "82328952\n",
      "82366328\n",
      "82513784\n",
      "83811192\n",
      "84114808\n",
      "85849976\n",
      "86747000\n",
      "86747000\n",
      "87085432\n",
      "88478584\n",
      "88592952\n",
      "88673848\n",
      "88788536\n",
      "88809016\n",
      "88896056\n",
      "89857080\n",
      "89879096\n",
      "90076216\n",
      "90110520\n",
      "90177080\n",
      "91661368\n",
      "91704888\n",
      "91735608\n",
      "91801656\n",
      "91868216\n",
      "92010040\n",
      "92091960\n",
      "92282936\n",
      "93351480\n",
      "93482040\n",
      "93482040\n",
      "93527608\n",
      "93557816\n",
      "93695032\n",
      "93935160\n",
      "94091320\n",
      "94787128\n",
      "95285816\n",
      "95329336\n",
      "95373368\n",
      "95381048\n",
      "95390776\n",
      "95712824\n",
      "95753272\n",
      "96149544\n",
      "96150479\n",
      "96216561\n",
      "96282643\n",
      "96445493\n",
      "96641111\n",
      "96818809\n",
      "96884891\n",
      "96950973\n",
      "97017055\n",
      "97083137\n",
      "97256739\n",
      "97322821\n",
      "97388903\n",
      "97454985\n",
      "97521067\n",
      "97587149\n",
      "97653231\n",
      "97719313\n",
      "97785395\n",
      "97851477\n",
      "97917559\n",
      "97983641\n",
      "98049723\n",
      "98115805\n",
      "98181887\n",
      "98247969\n",
      "98314051\n",
      "98380133\n",
      "98446215\n",
      "98512297\n",
      "98578379\n",
      "98644461\n",
      "98710543\n",
      "98776625\n",
      "98842707\n",
      "98908789\n",
      "98974871\n",
      "99040953\n",
      "99107035\n",
      "99297021\n",
      "99477279\n",
      "99663681\n",
      "99837283\n",
      "100022661\n",
      "100202919\n",
      "100390857\n",
      "100456939\n",
      "100523021\n",
      "100589103\n",
      "100655185\n",
      "100721267\n",
      "100861077\n",
      "100927159\n",
      "100993241\n",
      "101059323\n",
      "101125405\n",
      "101191487\n",
      "101257569\n",
      "101323651\n",
      "101389733\n",
      "101455815\n",
      "101521897\n",
      "101587979\n",
      "101654061\n",
      "101720143\n",
      "101786225\n",
      "101852307\n",
      "101918389\n",
      "101984471\n",
      "102050553\n",
      "102116635\n",
      "102297405\n",
      "102471007\n",
      "102648705\n",
      "102714787\n",
      "102780869\n",
      "102846951\n",
      "102913033\n",
      "102979115\n",
      "103045197\n",
      "103111279\n",
      "103177361\n",
      "103243443\n",
      "103309525\n",
      "103375607\n",
      "103441689\n",
      "103507771\n",
      "103573853\n",
      "103640447\n",
      "103706529\n",
      "103772611\n",
      "103839205\n",
      "103905799\n",
      "103972393\n",
      "104038987\n",
      "104105581\n",
      "104172175\n",
      "104238769\n",
      "104305363\n",
      "104371957\n",
      "104438551\n",
      "104505145\n",
      "104571739\n",
      "104638333\n",
      "104704927\n",
      "104771521\n",
      "104838115\n",
      "104904197\n",
      "104970791\n",
      "105036873\n",
      "105199723\n",
      "105396365\n",
      "105593007\n",
      "105789649\n",
      "106013393\n",
      "106026193\n",
      "106039505\n",
      "109967569\n",
      "111206097\n",
      "111503057\n",
      "112150737\n",
      "114715857\n",
      "114910417\n",
      "115243729\n",
      "117130961\n",
      "117143249\n",
      "119210705\n",
      "123507409\n",
      "123507409\n",
      "123528913\n",
      "123637457\n",
      "123663057\n",
      "127054545\n",
      "128142033\n",
      "128289489\n",
      "128330449\n",
      "129212113\n",
      "129226449\n",
      "129236689\n",
      "129254097\n",
      "129297105\n",
      "129324241\n",
      "135605457\n",
      "136174801\n",
      "136215249\n",
      "136215249\n",
      "136449233\n",
      "136632529\n",
      "136648913\n",
      "136940241\n",
      "137070289\n",
      "137119953\n",
      "137168081\n",
      "137209553\n",
      "137209626\n",
      "137285914\n",
      "137794842\n",
      "137906458\n",
      "137926938\n",
      "137952538\n",
      "137981210\n",
      "138171162\n",
      "138396442\n",
      "138483994\n",
      "138542362\n",
      "138617114\n",
      "138709786\n",
      "138720026\n",
      "139319578\n",
      "139465218\n",
      "139994114\n",
      "140087298\n",
      "140145666\n",
      "140191234\n",
      "140270594\n",
      "140876802\n",
      "140939778\n",
      "142883474\n",
      "142951570\n",
      "142965394\n",
      "143283346\n",
      "143509138\n",
      "143596178\n",
      "143650962\n",
      "143752850\n",
      "143867538\n",
      "145069714\n",
      "146410130\n",
      "147796626\n",
      "147831954\n",
      "147948178\n",
      "148101250\n",
      "148605570\n",
      "148646018\n",
      "148690562\n",
      "148699266\n",
      "148872322\n",
      "149067906\n",
      "149083266\n",
      "149096066\n",
      "150598274\n",
      "150645953\n",
      "150812353\n",
      "150831809\n",
      "151195329\n",
      "151195329\n",
      "151470273\n",
      "151517889\n",
      "151677121\n",
      "151696065\n",
      "152762049\n",
      "153291457\n",
      "153306817\n",
      "153368257\n",
      "153377985\n",
      "153386177\n",
      "153873601\n",
      "154155713\n",
      "154527937\n",
      "154529985\n",
      "154590913\n",
      "154638529\n",
      "154688193\n",
      "154823361\n",
      "154942657\n",
      "155068609\n",
      "155092673\n",
      "155313857\n",
      "155461313\n",
      "155494593\n",
      "155852481\n",
      "155882689\n",
      "156000961\n",
      "156009153\n",
      "156114113\n",
      "156297409\n",
      "156340929\n",
      "156392129\n",
      "156411073\n",
      "156496065\n",
      "156565185\n",
      "156623041\n",
      "156679873\n",
      "156959937\n",
      "157029569\n",
      "157133505\n",
      "157387457\n",
      "157700801\n",
      "157775553\n",
      "157828289\n",
      "157905601\n",
      "157908673\n",
      "157977281\n",
      "158455489\n",
      "158464193\n",
      "158472897\n",
      "158475969\n",
      "158510273\n",
      "158673089\n",
      "159203505\n",
      "159204440\n",
      "159604312\n",
      "159700568\n",
      "159766104\n",
      "159770200\n",
      "160267864\n",
      "161470040\n",
      "161494616\n",
      "161788504\n",
      "161857112\n",
      "161910360\n",
      "162013272\n",
      "162436184\n",
      "162464856\n",
      "162501720\n",
      "162695256\n",
      "162976856\n",
      "163092056\n",
      "163331672\n",
      "163872344\n",
      "164063320\n",
      "164492376\n",
      "164525144\n",
      "164741087\n",
      "164796895\n",
      "164987775\n",
      "165689215\n",
      "165714303\n",
      "165750655\n",
      "166727551\n",
      "166988159\n",
      "166999423\n",
      "167025535\n",
      "167145855\n",
      "167228799\n",
      "168861055\n",
      "168989567\n",
      "170637695\n",
      "170790271\n",
      "171133823\n",
      "171413375\n",
      "171776383\n",
      "171781503\n",
      "172241279\n",
      "172281727\n",
      "172546943\n",
      "173690239\n",
      "175147903\n",
      "175637887\n",
      "175953279\n",
      "176070527\n",
      "176073641\n",
      "176147121\n",
      "176158897\n",
      "176507057\n",
      "176770737\n",
      "176874673\n",
      "177178289\n",
      "177242801\n",
      "177334449\n",
      "177445553\n",
      "177542833\n",
      "177846961\n",
      "177903793\n",
      "177941169\n",
      "177953969\n",
      "177988785\n",
      "178133681\n",
      "178273969\n",
      "178385585\n",
      "178588849\n",
      "178588849\n",
      "178830513\n",
      "178876081\n",
      "179111089\n",
      "179758769\n",
      "179784369\n",
      "179784369\n",
      "180112049\n",
      "180136625\n",
      "180860593\n",
      "181145265\n",
      "181435569\n",
      "181510833\n",
      "181510833\n",
      "181913777\n",
      "184479409\n",
      "184518833\n",
      "184658097\n",
      "184709809\n",
      "184709809\n",
      "185069745\n",
      "185086129\n",
      "185131185\n",
      "185149120\n",
      "185231040\n",
      "185376167\n",
      "186008487\n",
      "186074023\n",
      "187941799\n",
      "188004263\n",
      "188039079\n",
      "188394407\n",
      "188418471\n",
      "188544935\n",
      "188556711\n",
      "188728231\n",
      "188800423\n",
      "188816807\n",
      "188868007\n",
      "189164455\n",
      "189238695\n",
      "189273511\n",
      "189367207\n",
      "189468583\n",
      "189496743\n",
      "189628839\n",
      "189680551\n",
      "189680551\n",
      "190263207\n",
      "190279079\n",
      "190346151\n",
      "190417319\n",
      "190428583\n",
      "190434727\n",
      "191184295\n",
      "192119207\n",
      "192137127\n",
      "192156583\n",
      "192180135\n",
      "192209831\n",
      "192326055\n",
      "192663671\n",
      "193843831\n",
      "194705015\n",
      "194805879\n",
      "194914935\n",
      "194966647\n",
      "195000951\n",
      "195047543\n",
      "195168887\n",
      "195168887\n",
      "195183735\n",
      "195426423\n",
      "195673719\n",
      "195696943\n",
      "195841852\n",
      "195938620\n",
      "196003644\n",
      "196051772\n",
      "196246332\n",
      "196591932\n",
      "196705084\n",
      "196725564\n",
      "196909884\n",
      "197030204\n",
      "197137212\n",
      "197326652\n",
      "197445948\n",
      "198020412\n",
      "198132028\n",
      "198456124\n",
      "198531900\n",
      "199155004\n",
      "199243068\n",
      "199834940\n",
      "200597308\n",
      "200632124\n",
      "200899900\n",
      "200907580\n",
      "200949564\n",
      "201874748\n",
      "201957692\n",
      "202821436\n",
      "203510588\n",
      "203769148\n",
      "204203836\n",
      "204203836\n",
      "204222268\n",
      "204410172\n",
      "204468028\n",
      "204526908\n",
      "207273276\n",
      "211513660\n",
      "211554212\n",
      "211578218\n",
      "211706730\n",
      "212112234\n",
      "212852074\n",
      "212941674\n",
      "212953450\n",
      "212962666\n",
      "213162147\n",
      "213333143\n",
      "213497841\n",
      "213674479\n",
      "216059375\n",
      "216311237\n",
      "216471184\n",
      "216648124\n",
      "216820165\n",
      "216996831\n",
      "217187919\n",
      "217358094\n",
      "217532338\n",
      "217711568\n",
      "217908612\n",
      "218087965\n",
      "218253339\n",
      "218426834\n",
      "218600647\n",
      "218773397\n",
      "218944707\n",
      "219119966\n",
      "219353554\n",
      "219525263\n",
      "219691935\n",
      "219863482\n",
      "220128867\n",
      "220302820\n",
      "220454293\n",
      "220607542\n",
      "220801590\n",
      "228389414\n",
      "228391220\n",
      "229145892\n",
      "229146156\n",
      "229598252\n",
      "229763628\n",
      "229859884\n",
      "230861868\n",
      "231009307\n",
      "231802395\n",
      "231844379\n",
      "232011291\n",
      "232044059\n",
      "232069659\n",
      "232864283\n"
     ]
    },
    {
     "name": "stdout",
     "output_type": "stream",
     "text": [
      "232886811\n",
      "232904219\n",
      "232925723\n",
      "232997403\n",
      "232997403\n",
      "232997403\n",
      "233015835\n",
      "233278171\n",
      "233357019\n",
      "233580763\n",
      "233611995\n",
      "233853147\n",
      "233917147\n",
      "233917147\n",
      "233927387\n",
      "234000091\n",
      "234332379\n",
      "234567387\n",
      "235269339\n",
      "235322587\n",
      "235352795\n",
      "235391707\n",
      "235430619\n",
      "236201675\n",
      "236311243\n",
      "236735691\n",
      "236752075\n",
      "236761803\n",
      "236826315\n",
      "236853451\n",
      "236889803\n",
      "236889803\n",
      "237307083\n",
      "237352139\n",
      "237394123\n",
      "237394123\n",
      "237394123\n",
      "237420747\n",
      "237521611\n",
      "237603019\n",
      "237673675\n",
      "237772491\n",
      "238402251\n",
      "238628555\n",
      "238666955\n",
      "238884043\n",
      "239082699\n",
      "239336139\n",
      "239781579\n",
      "239870155\n",
      "239892683\n",
      "239927499\n",
      "241316707\n",
      "241398115\n",
      "241406971\n",
      "241501179\n",
      "241629691\n",
      "241738235\n",
      "241989115\n",
      "241992187\n",
      "242018299\n",
      "242032635\n",
      "242041433\n",
      "242187353\n",
      "242204249\n",
      "242204249\n",
      "242264707\n",
      "242478723\n",
      "242516099\n",
      "242571395\n",
      "243299459\n",
      "243430531\n",
      "244046635\n",
      "244847403\n",
      "245244363\n",
      "245360587\n",
      "245364683\n",
      "245413323\n",
      "260696523\n",
      "260832203\n",
      "260866507\n",
      "263768523\n",
      "263835083\n",
      "263941067\n",
      "263969435\n",
      "264585371\n",
      "264601674\n",
      "264746058\n",
      "264913482\n",
      "264939082\n",
      "265119818\n",
      "265130570\n",
      "272970826\n",
      "286731338\n",
      "286891594\n",
      "287220810\n",
      "287441482\n",
      "287524426\n",
      "313507402\n",
      "313872970\n",
      "317165642\n",
      "329265738\n",
      "333698634\n",
      "333847626\n",
      "335912522\n",
      "336071242\n",
      "336251466\n",
      "336530506\n",
      "337153610\n",
      "337165898\n",
      "337409610\n",
      "337438794\n",
      "337832506\n",
      "338602026\n",
      "339150890\n",
      "339672618\n",
      "340185642\n",
      "340699178\n",
      "341224490\n",
      "341748266\n",
      "342274602\n",
      "342801962\n",
      "343173162\n",
      "343700010\n",
      "352781866\n",
      "353306666\n",
      "353833514\n",
      "354355754\n",
      "354881066\n",
      "355406378\n",
      "355932202\n",
      "356449322\n",
      "356965418\n",
      "357491754\n",
      "358015530\n",
      "358542378\n",
      "359066666\n",
      "359591978\n",
      "360117802\n",
      "360644138\n",
      "361169962\n",
      "361694762\n",
      "362219562\n",
      "362743338\n",
      "363267626\n",
      "363334186\n",
      "364178970\n",
      "364524570\n",
      "364915722\n",
      "365130250\n",
      "366257674\n",
      "369071626\n",
      "369072751\n",
      "369116245\n",
      "369160061\n",
      "369203317\n",
      "369246615\n",
      "369290640\n",
      "369332719\n",
      "369335663\n",
      "370198895\n",
      "370220911\n",
      "370302319\n",
      "390570351\n",
      "391275887\n",
      "391428975\n",
      "391932271\n",
      "393176431\n",
      "393176431\n",
      "393224559\n",
      "394372975\n",
      "395251055\n",
      "395708271\n",
      "395875695\n",
      "396852591\n",
      "398988143\n",
      "399053679\n",
      "399220079\n",
      "399242607\n",
      "399327087\n",
      "399327087\n",
      "399337327\n",
      "399508487\n",
      "399554399\n",
      "399829855\n",
      "400076639\n",
      "400184159\n",
      "400213974\n",
      "400217676\n",
      "400522316\n",
      "400586316\n",
      "400959564\n",
      "401374284\n",
      "401376332\n",
      "401478220\n",
      "401491020\n",
      "401549388\n",
      "401695308\n",
      "402264652\n",
      "402624076\n",
      "402633804\n",
      "402915404\n",
      "403791948\n",
      "404294220\n",
      "404878412\n",
      "404896844\n",
      "405093452\n",
      "405117004\n",
      "405542988\n",
      "405695052\n",
      "405929548\n",
      "406050892\n",
      "406128204\n",
      "406138444\n",
      "406295116\n",
      "406311500\n",
      "406348876\n",
      "406437964\n",
      "406458628\n",
      "406550276\n",
      "406550276\n",
      "406744324\n",
      "406914820\n",
      "407197444\n",
      "409630196\n",
      "409684468\n",
      "409684468\n",
      "409762292\n",
      "409906164\n",
      "410700788\n",
      "416480244\n",
      "417294324\n",
      "418236916\n",
      "418291700\n",
      "418298648\n",
      "418307132\n",
      "418314812\n",
      "418321980\n",
      "418329148\n",
      "418336828\n",
      "418343996\n",
      "418352188\n",
      "418359868\n",
      "418367036\n",
      "418373692\n",
      "418380860\n",
      "418388540\n",
      "418395196\n",
      "418401852\n",
      "418410044\n",
      "418417212\n",
      "418424380\n",
      "418431548\n",
      "418438716\n",
      "418446396\n",
      "418453564\n",
      "418460732\n",
      "418467900\n",
      "418475068\n",
      "418482236\n",
      "418489404\n",
      "418496572\n",
      "418504252\n",
      "418512956\n",
      "418521148\n",
      "418529340\n",
      "418537532\n",
      "418545724\n",
      "418552892\n",
      "418560060\n",
      "418567228\n",
      "418573884\n",
      "418581564\n",
      "418588732\n",
      "418595388\n",
      "418603068\n",
      "418610236\n",
      "418618428\n",
      "418625596\n",
      "418632764\n",
      "418639420\n",
      "418646076\n",
      "418653244\n",
      "418660412\n",
      "418668604\n",
      "418675772\n",
      "418683452\n",
      "418691644\n",
      "418698300\n",
      "418705468\n",
      "418713148\n",
      "418720828\n",
      "418727484\n",
      "418735164\n",
      "418742844\n",
      "418752572\n",
      "418760252\n",
      "418767420\n",
      "418775612\n",
      "418783292\n",
      "418790460\n",
      "418797628\n",
      "418804796\n",
      "418811964\n",
      "418819644\n",
      "418827324\n",
      "418834492\n",
      "418841660\n",
      "418848828\n",
      "418856508\n",
      "418863676\n",
      "418870844\n",
      "418878012\n",
      "418885692\n",
      "418892860\n",
      "418901052\n",
      "418907708\n",
      "418914364\n",
      "418921532\n",
      "418929212\n",
      "418942012\n",
      "418949180\n",
      "418956860\n",
      "418969148\n",
      "418975804\n",
      "418983484\n",
      "418990652\n",
      "418998844\n",
      "419005500\n",
      "419012668\n",
      "419019836\n",
      "419027004\n",
      "419034684\n",
      "419041852\n",
      "419049020\n",
      "419056188\n",
      "419063356\n",
      "419070524\n",
      "419077692\n",
      "419084860\n",
      "419092028\n",
      "419100220\n",
      "419108412\n",
      "419118652\n",
      "419127356\n",
      "419135036\n",
      "419142204\n",
      "419150396\n",
      "419158588\n",
      "419165756\n",
      "419173436\n",
      "419181116\n",
      "419188796\n",
      "419196988\n",
      "419205692\n",
      "419214396\n",
      "419221052\n",
      "419228220\n",
      "419235900\n",
      "419244092\n",
      "419251772\n",
      "419259964\n",
      "419268668\n",
      "419277372\n",
      "419284028\n",
      "419292220\n",
      "419299900\n",
      "419308092\n",
      "419315260\n",
      "419322428\n",
      "419330108\n",
      "419337276\n",
      "419344444\n",
      "419351612\n",
      "419358780\n",
      "419365948\n",
      "419373116\n",
      "419380284\n",
      "419387452\n",
      "419395644\n",
      "419403836\n",
      "419412028\n",
      "419419196\n",
      "419426364\n",
      "419433532\n",
      "419440700\n",
      "419448892\n",
      "419455548\n",
      "419462716\n",
      "419469372\n",
      "419476540\n",
      "419483708\n",
      "419490876\n",
      "419498044\n",
      "419505724\n",
      "419512892\n",
      "419520060\n",
      "419527228\n",
      "419534396\n",
      "419541564\n",
      "419548732\n",
      "419557436\n",
      "419576764\n",
      "419594556\n",
      "419614908\n",
      "420346556\n",
      "421509820\n",
      "421929660\n",
      "421948092\n",
      "421977276\n",
      "422147260\n",
      "422182588\n",
      "422229692\n",
      "422320316\n",
      "422320316\n",
      "422333192\n",
      "422513928\n",
      "434481452\n",
      "434524460\n",
      "434775340\n",
      "434878252\n",
      "434883372\n",
      "435016492\n",
      "435082540\n",
      "435099436\n",
      "435122476\n",
      "435193644\n",
      "435256108\n",
      "435447084\n",
      "435528492\n",
      "435710764\n",
      "435727148\n",
      "435762988\n",
      "435774764\n",
      "435986702\n",
      "436010816\n",
      "436086016\n",
      "436121805\n",
      "436152013\n",
      "436181709\n",
      "436414157\n",
      "436463821\n",
      "436465869\n",
      "436765901\n",
      "436789453\n",
      "436930253\n",
      "437349901\n",
      "437349916\n",
      "437901852\n",
      "438873628\n",
      "438891036\n",
      "438891086\n",
      "439174734\n",
      "439264846\n",
      "439267573\n",
      "439277813\n",
      "439327989\n",
      "439441141\n",
      "439445237\n",
      "439536373\n",
      "441377869\n",
      "441482317\n",
      "441503821\n",
      "441690701\n",
      "441718349\n",
      "441759821\n",
      "442413133\n",
      "442421325\n",
      "442492493\n",
      "443953741\n",
      "443984461\n",
      "444037709\n",
      "444380749\n",
      "444430925\n",
      "444430925\n",
      "444479565\n",
      "444624563\n",
      "444624563\n",
      "444627635\n",
      "444637593\n",
      "444637593\n",
      "444685721\n",
      "445338521\n",
      "445836185\n",
      "445953433\n",
      "446033305\n",
      "446034179\n",
      "446034179\n",
      "446125827\n",
      "446217475\n",
      "447174915\n",
      "447447811\n",
      "447881323\n",
      "447977579\n",
      "448025707\n",
      "448067179\n",
      "448095851\n",
      "448124523\n",
      "449135211\n",
      "449236587\n",
      "449333867\n",
      "449335915\n",
      "449368747\n",
      "449668139\n",
      "449753131\n",
      "449907243\n",
      "450123819\n",
      "450212395\n",
      "450359339\n",
      "450704939\n",
      "450723371\n",
      "454790699\n",
      "458912299\n",
      "458968107\n",
      "459096619\n",
      "464671603\n",
      "464707779\n",
      "464743955\n",
      "464808291\n",
      "464863411\n",
      "464927235\n",
      "464991571\n",
      "465053859\n",
      "465097715\n",
      "465141059\n",
      "465201811\n",
      "470803427\n",
      "476395947\n",
      "476441979\n",
      "476488011\n",
      "476562715\n",
      "476627691\n",
      "476701371\n",
      "476776075\n",
      "476848731\n",
      "476902443\n",
      "476955643\n",
      "477026251\n",
      "482646443\n",
      "488254531\n",
      "488300779\n",
      "488347027\n",
      "488421947\n",
      "488487139\n",
      "488561035\n",
      "488635955\n",
      "488708827\n",
      "488762755\n",
      "488816171\n",
      "488886995\n",
      "494521715\n",
      "495917427\n",
      "497277299\n",
      "497370307\n",
      "497463315\n",
      "497567707\n",
      "497672107\n",
      "497763915\n",
      "497855723\n",
      "497889515\n",
      "498270955\n",
      "498392299\n",
      "498514195\n",
      "498516243\n",
      "498701523\n",
      "499035347\n",
      "499129043\n",
      "499562195\n",
      "499802835\n",
      "499827411\n",
      "500034259\n",
      "500291283\n",
      "500361427\n",
      "500846291\n",
      "500868819\n",
      "500975315\n",
      "500975315\n",
      "500981459\n",
      "501033171\n",
      "501058259\n",
      "501078739\n",
      "501170107\n",
      "501294011\n",
      "501294011\n",
      "501476283\n",
      "501476283\n",
      "501477527\n",
      "501518999\n",
      "501742231\n",
      "502415319\n",
      "502642135\n",
      "504786391\n",
      "505141719\n",
      "505216471\n",
      "505231831\n",
      "508435415\n",
      "508566487\n",
      "508634071\n",
      "508918231\n",
      "517971927\n",
      "518822871\n",
      "518925271\n",
      "518955479\n",
      "519259095\n",
      "519279063\n",
      "519303639\n",
      "519488471\n",
      "519503319\n",
      "519604183\n",
      "519827927\n",
      "520481751\n",
      "520586711\n",
      "520845783\n",
      "521070551\n",
      "521087959\n",
      "521168855\n",
      "521390039\n",
      "521601495\n",
      "521699287\n",
      "521805271\n",
      "522075991\n",
      "522904919\n",
      "522917719\n",
      "522917719\n",
      "669532615\n",
      "669705671\n",
      "669973959\n",
      "670057415\n",
      "670083015\n",
      "670107079\n",
      "670110151\n",
      "670156743\n",
      "670303175\n",
      "670592967\n",
      "670603207\n",
      "670778823\n",
      "671404487\n",
      "671704519\n",
      "672149271\n",
      "672305583\n",
      "672379463\n",
      "673448007\n",
      "673456711\n",
      "673484871\n",
      "673708615\n",
      "673822791\n",
      "673994823\n",
      "674158663\n",
      "674166855\n",
      "674618439\n",
      "674654279\n",
      "675207239\n",
      "675735623\n",
      "676812359\n",
      "676812359\n",
      "676954183\n",
      "677322823\n",
      "677447751\n",
      "678193223\n",
      "679703111\n",
      "680005191\n",
      "680026695\n",
      "680102471\n",
      "680107591\n",
      "680151111\n",
      "680960583\n",
      "681012807\n",
      "681026119\n",
      "681825863\n",
      "681851975\n",
      "681866823\n",
      "681896007\n",
      "681909831\n",
      "707654727\n",
      "710379591\n",
      "710467655\n",
      "710559815\n",
      "710608455\n",
      "711967815\n",
      "715213895\n",
      "715258439\n",
      "715920967\n",
      "715985479\n",
      "715996743\n",
      "716001351\n",
      "716336711\n",
      "716465223\n",
      "716969543\n",
      "716989511\n",
      "716997703\n",
      "717022791\n",
      "717064775\n",
      "717444167\n",
      "717471303\n",
      "717719111\n",
      "717730375\n",
      "719037511\n",
      "720197703\n",
      "722974791\n",
      "723300423\n",
      "723588679\n",
      "723649095\n",
      "723895367\n",
      "724008007\n",
      "730684487\n",
      "730731079\n",
      "731302983\n",
      "731357255\n",
      "731410503\n",
      "731412551\n",
      "732065863\n",
      "732198983\n",
      "732206151\n",
      "732405831\n",
      "732594247\n",
      "732651079\n",
      "732667463\n",
      "732742727\n",
      "733383751\n",
      "733636679\n",
      "733905479\n",
      "733919815\n",
      "733970503\n",
      "733978695\n",
      "734093895\n",
      "735063111\n",
      "735554631\n",
      "735842887\n",
      "735942727\n",
      "738164807\n",
      "738943047\n",
      "738962503\n",
      "739200583\n",
      "740347975\n",
      "747425351\n",
      "747660871\n",
      "747977799\n",
      "748056135\n",
      "748664215\n",
      "749325671\n",
      "749344783\n",
      "750004911\n",
      "750694919\n",
      "751292423\n",
      "752121687\n",
      "752140799\n",
      "752990159\n",
      "753009271\n",
      "753972503\n",
      "754966135\n",
      "755601015\n",
      "755745399\n",
      "755784311\n",
      "759450231\n",
      "759847543\n",
      "760174711\n",
      "762062455\n",
      "762064503\n",
      "764068983\n",
      "764071031\n",
      "764096631\n",
      "764230263\n",
      "764602999\n",
      "764632695\n",
      "764642935\n",
      "764802679\n",
      "764802679\n",
      "764819575\n",
      "764832375\n",
      "764915831\n",
      "764967543\n",
      "765239927\n",
      "765383287\n",
      "765625975\n",
      "765689386\n",
      "765739562\n",
      "765811754\n",
      "765945386\n",
      "766013482\n",
      "766057002\n",
      "766269994\n",
      "766599722\n",
      "767676970\n",
      "767692330\n",
      "769018410\n",
      "769018410\n",
      "769036330\n",
      "769060394\n",
      "769150506\n",
      "769208874\n",
      "769310250\n",
      "769622570\n",
      "769688618\n",
      "769911850\n",
      "769986602\n",
      "769997866\n",
      "769997866\n",
      "770236458\n",
      "770269738\n",
      "770270303\n",
      "770398303\n",
      "770445407\n",
      "770537567\n",
      "770558047\n",
      "770618975\n",
      "770736223\n",
      "770792031\n",
      "770944095\n",
      "771017311\n",
      "771036255\n",
      "771061343\n",
      "772750943\n",
      "772783199\n",
      "773302879\n",
      "773549151\n",
      "773873247\n",
      "773892191\n",
      "773941167\n",
      "773943215\n",
      "774108591\n",
      "774324143\n",
      "774350767\n",
      "774539695\n",
      "775238575\n",
      "775599023\n",
      "775601071\n",
      "775794095\n",
      "775821231\n",
      "776296367\n",
      "776756143\n",
      "776846767\n",
      "777983407\n",
      "778070447\n",
      "780722607\n",
      "780754351\n",
      "781436335\n",
      "781458147\n",
      "781487331\n",
      "781529827\n",
      "783202531\n",
      "783255779\n",
      "783255779\n",
      "785402595\n",
      "785402635\n",
      "785716491\n",
      "785792779\n",
      "785829251\n",
      "785919139\n",
      "785919139\n",
      "785989795\n",
      "786116771\n",
      "786419875\n",
      "786620067\n",
      "786799267\n",
      "786813091\n",
      "786882211\n",
      "788505763\n",
      "791231651\n",
      "793325219\n",
      "795418787\n",
      "797556387\n",
      "803827363\n",
      "813599907\n",
      "816012963\n",
      "818504867\n",
      "820598435\n",
      "825235107\n",
      "828012707\n",
      "831617699\n",
      "833711267\n",
      "838337187\n",
      "840430755\n",
      "842524323\n",
      "847161507\n",
      "850392739\n",
      "852314275\n",
      "854235811\n",
      "856329379\n",
      "858422947\n",
      "860518051\n",
      "862439587\n",
      "865670819\n",
      "867592355\n",
      "870823587\n",
      "874054819\n",
      "877286051\n",
      "880517283\n",
      "883748515\n",
      "886979747\n",
      "890210979\n",
      "893442211\n",
      "898077859\n",
      "902714531\n",
      "907350691\n",
      "909444259\n",
      "911537827\n",
      "911569059\n",
      "923291811\n",
      "927455907\n",
      "928908451\n",
      "940947107\n",
      "943575715\n",
      "953468579\n",
      "959706275\n",
      "961428643\n",
      "967083171\n",
      "971259043\n",
      "973725859\n",
      "978707107\n",
      "982038179\n",
      "988819619\n",
      "994834595\n",
      "1001420451\n",
      "1007766691\n",
      "1009003683\n",
      "1011139747\n",
      "1016639651\n",
      "1024604323\n",
      "1030395555\n",
      "1036620451\n",
      "1036624547\n",
      "1038406819\n",
      "1042452643\n",
      "1044246179\n",
      "1046055075\n",
      "1047466147\n",
      "1049024163\n",
      "1052443299\n",
      "1054146211\n",
      "1058239651\n",
      "1060212387\n",
      "1064828579\n",
      "1069919395\n",
      "1074951331\n",
      "1081993891\n",
      "1088911011\n",
      "1093982883\n",
      "1094378659\n",
      "1094380355\n",
      "1094382051\n",
      "1094382792\n",
      "1094384852\n",
      "1094386338\n",
      "1094387035\n",
      "1094389595\n",
      "1094448937\n",
      "1094496013\n",
      "1094536579\n",
      "1094604387\n",
      "1094666105\n",
      "1094859641\n",
      "1094891385\n",
      "1094906745\n",
      "1094942073\n",
      "1095397241\n",
      "1096239993\n",
      "1096253305\n",
      "1096279417\n",
      "1096388985\n",
      "1098054321\n",
      "1098206385\n",
      "1098335921\n",
      "1098353841\n",
      "1098516145\n",
      "1104099697\n",
      "1104445809\n",
      "1104507761\n",
      "1105017713\n",
      "1105034097\n",
      "1105757041\n",
      "1105909105\n",
      "1106070897\n",
      "1106257265\n",
      "1106978161\n",
      "1107006833\n",
      "1107096945\n",
      "1107154289\n",
      "1107207537\n",
      "1107248497\n",
      "1107248760\n",
      "1107412600\n",
      "1107519096\n",
      "1107625592\n",
      "1107854968\n",
      "1108067960\n",
      "1108371576\n",
      "1108417144\n",
      "1108440696\n",
      "1109777528\n",
      "1111843960\n",
      "1112175736\n",
      "1112186488\n",
      "1112190584\n",
      "1113066616\n",
      "1113194616\n",
      "1113324152\n",
      "1113350264\n",
      "1113585784\n",
      "1114666104\n",
      "1114887800\n",
      "1114888643\n",
      "1114888643\n",
      "1115787203\n",
      "1117699011\n",
      "1117763011\n",
      "1117842883\n",
      "1118882755\n",
      "1118980547\n",
      "1119005635\n",
      "1119698371\n",
      "1119706563\n",
      "1119952323\n",
      "1120217027\n",
      "1120798147\n",
      "1121206211\n",
      "1121382339\n",
      "1121544643\n",
      "1121983939\n",
      "1122061763\n",
      "1122075075\n",
      "1122090435\n",
      "1122140611\n",
      "1122177987\n",
      "1122186691\n",
      "1122196419\n",
      "1122384323\n",
      "1122481603\n",
      "1122500035\n",
      "1122511299\n",
      "1122511413\n",
      "1122525237\n",
      "1122562101\n",
      "1122582069\n",
      "1122882613\n",
      "1122941493\n",
      "1123123253\n",
      "1123174453\n",
      "1123915829\n",
      "1125277237\n",
      "1125408821\n",
      "1125429301\n",
      "1125449781\n",
      "1125470261\n",
      "1125514805\n",
      "1125637551\n",
      "1126295983\n",
      "1126412271\n",
      "1126456815\n",
      "1126488363\n",
      "1126523691\n",
      "1127187747\n",
      "1127479041\n",
      "1127651585\n",
      "1127797104\n",
      "1127820144\n",
      "1127849840\n",
      "1127888240\n",
      "1128672622\n",
      "1129622894\n",
      "1129641838\n",
      "1129816942\n",
      "1130237806\n",
      "1130715502\n",
      "1131125102\n",
      "1131171182\n",
      "1132610414\n",
      "1132645742\n",
      "1132662638\n",
      "1132795246\n",
      "1132994414\n",
      "1133235566\n",
      "1133235566\n",
      "1134624622\n",
      "1134633838\n",
      "1134718830\n",
      "1135466862\n",
      "1135529326\n",
      "1137337710\n",
      "1137424238\n",
      "1137436526\n",
      "1137825646\n",
      "1137888622\n",
      "1137924974\n",
      "1138018158\n",
      "1138073966\n",
      "1138099054\n",
      "1138177390\n",
      "1138263406\n",
      "1138590574\n",
      "1138964334\n",
      "1139106670\n",
      "1139864942\n",
      "1139990894\n",
      "1140068718\n",
      "1140504430\n",
      "1140728686\n",
      "1140948334\n",
      "1141117806\n",
      "1141336430\n",
      "1141363566\n",
      "1141537134\n",
      "1141608302\n",
      "1142094702\n",
      "1142124398\n",
      "1142291822\n",
      "1142549870\n",
      "1142674494\n",
      "1142994846\n",
      "1143104774\n",
      "1144270438\n",
      "1144447078\n",
      "1144478310\n",
      "1144495718\n",
      "1144511078\n",
      "1144582758\n",
      "1144618598\n",
      "1145367142\n",
      "1145367142\n",
      "1145386086\n",
      "1145434214\n",
      "1145580603\n",
      "1146631227\n",
      "1146693179\n",
      "1146876987\n",
      "1147293243\n",
      "1147484219\n",
      "1147640379\n",
      "1147650619\n",
      "1147694651\n",
      "1147728443\n",
      "1147954235\n",
      "1149166651\n",
      "1149198395\n",
      "1149386299\n",
      "1149693499\n",
      "1149772859\n",
      "1149782075\n",
      "1149834299\n",
      "1149834350\n",
      "1149891774\n",
      "1150505662\n",
      "1150613694\n",
      "1150661822\n",
      "1150665970\n",
      "1151398642\n",
      "1151451378\n",
      "1151487730\n",
      "1151487730\n",
      "1151487730\n",
      "1152318466\n",
      "1152318466\n",
      "1152503298\n",
      "1152773634\n",
      "1153199618\n",
      "1153310210\n",
      "1153422338\n",
      "1153492675\n",
      "1153687235\n",
      "1154116803\n",
      "1154172099\n",
      "1154230467\n",
      "1154496707\n",
      "1154972867\n",
      "1154995907\n",
      "1155250371\n",
      "1155431619\n",
      "1155511491\n",
      "1155762371\n",
      "1156134083\n",
      "1156758723\n",
      "1157491907\n",
      "1157667011\n",
      "1158516931\n",
      "1158561475\n",
      "1158588099\n",
      "1158811331\n",
      "1158935747\n",
      "1160510659\n",
      "1162568899\n",
      "1162585283\n",
      "1162760387\n",
      "1162784451\n",
      "1162891971\n",
      "1163134659\n",
      "1163163331\n",
      "1164720323\n",
      "1164839619\n",
      "1164945178\n",
      "1165042970\n",
      "1165114138\n",
      "1165114138\n",
      "1165130522\n",
      "1165515034\n",
      "1165614362\n",
      "1165632282\n",
      "1165728026\n",
      "1166065946\n",
      "1166067766\n",
      "1166085174\n",
      "1166161462\n",
      "1166180406\n",
      "1167041078\n",
      "1167167030\n",
      "1167924790\n",
      "1168025142\n",
      "1168369206\n",
      "1168426550\n",
      "1169293366\n",
      "1169542198\n",
      "1169583670\n",
      "1169626166\n",
      "1170031670\n",
      "1170243126\n",
      "1170272822\n",
      "1170355254\n",
      "1170779702\n",
      "1170789942\n",
      "1171000886\n",
      "1172033078\n",
      "1172183606\n",
      "1175365174\n",
      "1175433270\n",
      "1175708726\n",
      "1175856182\n",
      "1176078390\n",
      "1176245814\n",
      "1176474678\n",
      "1176491062\n",
      "1176670774\n",
      "1176703030\n",
      "1176726070\n",
      "1177026614\n",
      "1177092662\n",
      "1177335862\n",
      "1177413174\n",
      "1177453622\n",
      "1177462838\n",
      "1177560630\n",
      "1178618422\n",
      "1178932278\n",
      "1178952758\n",
      "1179190838\n",
      "1179203638\n",
      "1179203638\n",
      "1179350582\n",
      "1179425334\n",
      "1179520566\n",
      "1179569718\n",
      "1179579958\n",
      "1179594294\n",
      "1179641398\n",
      "1179655222\n",
      "1179741238\n",
      "1179900470\n",
      "1179919926\n",
      "1179989046\n",
      "1180032054\n",
      "1180205110\n",
      "1180358198\n",
      "1180460598\n",
      "1180466742\n",
      "1180518454\n",
      "1180538422\n",
      "1180764214\n",
      "1180781110\n",
      "1180885046\n",
      "1180885760\n",
      "1180885936\n",
      "1180885936\n",
      "1180901756\n",
      "1180987772\n",
      "1181170556\n",
      "1181412220\n",
      "1182045564\n",
      "1182056316\n"
     ]
    },
    {
     "name": "stdout",
     "output_type": "stream",
     "text": [
      "1182244732\n",
      "1182441340\n",
      "1183067516\n",
      "1183725948\n",
      "1184279932\n",
      "1184832892\n",
      "1184849788\n",
      "1184852348\n",
      "1184852348\n",
      "1184980348\n",
      "1185001852\n",
      "1185009532\n",
      "1185076604\n",
      "1185267068\n",
      "1185319804\n",
      "1185329020\n",
      "1185360764\n",
      "1185390972\n",
      "1186603900\n",
      "1186669436\n",
      "1187181948\n",
      "1187237756\n",
      "1187519012\n",
      "1187572772\n",
      "1187616338\n",
      "1187804754\n",
      "1188101714\n",
      "1188143698\n",
      "1188281938\n",
      "1188334162\n",
      "1188334162\n",
      "1188354642\n",
      "1188400722\n",
      "1188459602\n",
      "1188516434\n",
      "1188537938\n",
      "1188605522\n",
      "1188712018\n",
      "1188714066\n",
      "1189483602\n",
      "1189496402\n",
      "1190615122\n",
      "1190827602\n",
      "1190893138\n",
      "1190938194\n",
      "1191241810\n",
      "1191324242\n",
      "1191515218\n",
      "1191525647\n",
      "1191986959\n",
      "1192052495\n",
      "1192285455\n",
      "1192692495\n",
      "1192781583\n",
      "1193127183\n",
      "1193151247\n",
      "1194261775\n",
      "1194547471\n",
      "1194776847\n",
      "1194854159\n",
      "1194865423\n",
      "1195095823\n",
      "1195664655\n",
      "1195867407\n",
      "1195916047\n",
      "1195939599\n",
      "1195991311\n",
      "1197255951\n",
      "1198018319\n",
      "1199139087\n",
      "1199173391\n",
      "1199384335\n",
      "1199407887\n",
      "1199638287\n",
      "1199689487\n",
      "1200232719\n",
      "1200403215\n",
      "1200529679\n",
      "1200643343\n",
      "1201511183\n",
      "1202103055\n",
      "1202352911\n",
      "1202389775\n",
      "1202503439\n",
      "1202520335\n",
      "1202551055\n",
      "1202671513\n",
      "1203159961\n",
      "1203645849\n",
      "1203769241\n",
      "1203892633\n",
      "1203920793\n",
      "1203925913\n",
      "1203995545\n",
      "1204060057\n",
      "1204075929\n",
      "1204250521\n",
      "1204343705\n",
      "1206594457\n",
      "1206623641\n",
      "1206641561\n",
      "1206970265\n",
      "1207063010\n",
      "1207085538\n",
      "1207213026\n",
      "1207276514\n",
      "1207555554\n",
      "1207645666\n",
      "1207680482\n",
      "1207680482\n",
      "1209581026\n",
      "1209669602\n",
      "1209785314\n",
      "1209790434\n",
      "1209908706\n",
      "1209966562\n",
      "1209969634\n",
      "1210009058\n",
      "1210054114\n",
      "1210189282\n",
      "1210210786\n",
      "1210568674\n",
      "1210765794\n",
      "1224949730\n",
      "1225463778\n",
      "1225474018\n",
      "1225502178\n",
      "1225518918\n",
      "1225525574\n",
      "1225562950\n",
      "1226011462\n",
      "1226029382\n",
      "1226436934\n",
      "1226566982\n",
      "1226937670\n",
      "1226948934\n",
      "1226983238\n",
      "1227434310\n",
      "1227488582\n",
      "1227563334\n",
      "1227575622\n",
      "1227599686\n",
      "1227599686\n",
      "1227599686\n",
      "1227630406\n",
      "1227648838\n",
      "1227648838\n",
      "1227762467\n",
      "1228112163\n",
      "1228127523\n",
      "1228317987\n",
      "1228434211\n",
      "1228434211\n",
      "1229367587\n",
      "1229480227\n",
      "1229754147\n",
      "1229979427\n",
      "1230410531\n",
      "1230438179\n",
      "1230452515\n",
      "1230681891\n",
      "1230841123\n",
      "1230850339\n",
      "1230872867\n",
      "1230924067\n",
      "1231002915\n",
      "1231145251\n",
      "1231224099\n",
      "1231232379\n",
      "1231245691\n",
      "1231245691\n",
      "1231484283\n",
      "1231582075\n",
      "1231687547\n",
      "1232285563\n",
      "1232295803\n",
      "1232295803\n",
      "1232353659\n",
      "1232913275\n",
      "1232932219\n",
      "1232932219\n",
      "1233176443\n",
      "1233322363\n",
      "1233736059\n",
      "1234939771\n",
      "1235172219\n",
      "1235554171\n",
      "1235667323\n",
      "1235769723\n",
      "1236852603\n",
      "1240377211\n",
      "1240377211\n",
      "1240442747\n",
      "1240861563\n",
      "1241003899\n",
      "1241305467\n",
      "1241319291\n",
      "1241765243\n",
      "1250103675\n",
      "1250111355\n",
      "1250374523\n",
      "1250384251\n",
      "1250579323\n",
      "1251423099\n",
      "1251870075\n",
      "1252803963\n",
      "1252910459\n",
      "1253155195\n",
      "1253155195\n",
      "1253496187\n",
      "1253546363\n",
      "1254050171\n",
      "1254069115\n",
      "1254155643\n",
      "1254467963\n",
      "1254738811\n",
      "1254866811\n",
      "1255102843\n",
      "1255129467\n",
      "1255142779\n",
      "1255193979\n",
      "1255387003\n",
      "1255522683\n",
      "1255551355\n",
      "1255673211\n",
      "1256007035\n",
      "1256082299\n",
      "1256148859\n",
      "1256165755\n",
      "1256172923\n",
      "1256465275\n",
      "1256892795\n",
      "1257042299\n",
      "1257299323\n",
      "1257375099\n",
      "1257445243\n",
      "1257463163\n",
      "1257486907\n",
      "1257971771\n",
      "1258065473\n",
      "1258080833\n",
      "1258850369\n",
      "1258850369\n",
      "1258877505\n",
      "1259401793\n",
      "1259477569\n",
      "1260060225\n",
      "1260102721\n",
      "1260134465\n",
      "1260161601\n",
      "1260196929\n",
      "1262459457\n",
      "1262555201\n",
      "1262598721\n",
      "1262611521\n",
      "1263038017\n",
      "1263075905\n",
      "1264122233\n",
      "1264195961\n",
      "1264396153\n",
      "1265444729\n",
      "1265673393\n",
      "1265851369\n",
      "1266058729\n",
      "1266411497\n",
      "1266790377\n",
      "1266824169\n",
      "1268565481\n",
      "1269040617\n",
      "1269063657\n",
      "1269063657\n",
      "1269072873\n",
      "1269076087\n",
      "1269079664\n",
      "1269097072\n",
      "1269516912\n",
      "1269627504\n",
      "1269709936\n",
      "1269792368\n",
      "1269874800\n",
      "1269957232\n",
      "1270039664\n",
      "1270122096\n",
      "1270204528\n",
      "1270552432\n",
      "1270561648\n",
      "1270713712\n",
      "1270833520\n",
      "1270900080\n",
      "1270978928\n",
      "1271662960\n",
      "1271755120\n",
      "1271818608\n",
      "1272803696\n",
      "1273052528\n",
      "1273087856\n",
      "1273191792\n",
      "1273203056\n",
      "1273519984\n",
      "1273531760\n",
      "1273640304\n",
      "1273653616\n",
      "1273897328\n",
      "1274370928\n",
      "1274835312\n",
      "1274903920\n",
      "1275016560\n",
      "1275125104\n",
      "1275382128\n",
      "1275386224\n",
      "1276583280\n",
      "1276728339\n",
      "1276783635\n",
      "1276803603\n",
      "1276869139\n",
      "1277071891\n",
      "1277164403\n",
      "1277329091\n",
      "1277344451\n",
      "1277345492\n",
      "1277598932\n",
      "1277637844\n",
      "1277832916\n",
      "1277893040\n",
      "1277966256\n",
      "1277976496\n",
      "1278064048\n",
      "1278943152\n",
      "1279051184\n",
      "1279473072\n",
      "1280156592\n",
      "1280156592\n",
      "1280475056\n",
      "1282668976\n",
      "1282713520\n",
      "1285564848\n",
      "1285677488\n",
      "1285679476\n",
      "1286195060\n",
      "1286205300\n",
      "1286238580\n",
      "1286414708\n",
      "1286488436\n",
      "1286529268\n",
      "1286674130\n",
      "1286716626\n",
      "1286831826\n",
      "1289151698\n",
      "1289151698\n",
      "1289556690\n",
      "1289570514\n",
      "1289609938\n",
      "1289631442\n",
      "1289650386\n",
      "1289770194\n",
      "1289785042\n",
      "1289985234\n",
      "1290002642\n",
      "1290025170\n",
      "1290042578\n",
      "1290064594\n",
      "1290077906\n",
      "1290140882\n",
      "1290164434\n",
      "1290463954\n",
      "1290558162\n",
      "1290566866\n",
      "1290736850\n",
      "1290870482\n",
      "1290917074\n",
      "1290961618\n",
      "1290975442\n",
      "1290988242\n",
      "1291075282\n",
      "1292106450\n",
      "1292141930\n",
      "1292176746\n",
      "1292349290\n",
      "1292468586\n",
      "1292480362\n",
      "1292527466\n",
      "1292529514\n",
      "1292587882\n",
      "1292803434\n",
      "1292861290\n",
      "1293856562\n",
      "1293898546\n",
      "1293951794\n",
      "1294280498\n",
      "1294367538\n",
      "1294494514\n",
      "1294535474\n",
      "1294756658\n",
      "1295507762\n",
      "1295550258\n",
      "1298597682\n",
      "1302458674\n",
      "1303623474\n",
      "1303623474\n",
      "1303770418\n",
      "1303830322\n",
      "1303850802\n",
      "1304255282\n",
      "1304420146\n",
      "1304634674\n",
      "1304653106\n",
      "1304699186\n",
      "1304948018\n",
      "1305269554\n",
      "1305342770\n",
      "1305365810\n",
      "1305406258\n",
      "1305729842\n",
      "1306133810\n",
      "1306398002\n",
      "1306423602\n",
      "1306777394\n",
      "1306806578\n",
      "1307042098\n",
      "1308588338\n",
      "1308615986\n",
      "1308661042\n",
      "1308674354\n",
      "1308775730\n",
      "1309784882\n",
      "1309869362\n",
      "1310062898\n",
      "1310688562\n",
      "1310797618\n",
      "1310828338\n",
      "1310859058\n",
      "1311665970\n",
      "1311707954\n",
      "1311742770\n",
      "1313145650\n",
      "1313315122\n",
      "1313340210\n",
      "1313494834\n",
      "1313497394\n",
      "1313536306\n",
      "1313868594\n",
      "1314559794\n",
      "1315658034\n",
      "1315700018\n",
      "1315727154\n",
      "1315807538\n",
      "1316181810\n",
      "1316222258\n",
      "1316418354\n",
      "1316461874\n",
      "1317039922\n",
      "1317521874\n",
      "1317876138\n",
      "1318232666\n",
      "1318289834\n",
      "1318428042\n",
      "1318565418\n",
      "1319098922\n",
      "1319289898\n",
      "1319872554\n",
      "1319895082\n",
      "1320080938\n",
      "1320136234\n",
      "1320252970\n",
      "1320264746\n",
      "1320639530\n",
      "1320795178\n",
      "1320824362\n",
      "1320892458\n",
      "1320907818\n",
      "1320936490\n",
      "1321228842\n",
      "1321250346\n",
      "1321380394\n",
      "1321396266\n",
      "1321440810\n",
      "1321460266\n",
      "1321589290\n",
      "1321643050\n",
      "1321887274\n",
      "1321938986\n",
      "1321977386\n",
      "1321991210\n",
      "1322254378\n",
      "1322293290\n",
      "1322460714\n",
      "1324213802\n",
      "1324290602\n",
      "1325891114\n",
      "1325953066\n",
      "1326335018\n",
      "1326416426\n",
      "1326451754\n",
      "1326523946\n",
      "1326568490\n",
      "1326568490\n",
      "1326630442\n",
      "1326885930\n",
      "1327151658\n",
      "1327217194\n",
      "1327746602\n",
      "1328241194\n",
      "1329745450\n",
      "1329947690\n",
      "1329947690\n",
      "1330068010\n",
      "1330434602\n",
      "1330458666\n",
      "1330483242\n",
      "1330518570\n",
      "1331616810\n",
      "1331657770\n",
      "1333021226\n",
      "1334941194\n",
      "1336431850\n",
      "1338153426\n",
      "1339949378\n",
      "1339959106\n",
      "1339959106\n",
      "1340050242\n",
      "1340086594\n",
      "1340297026\n",
      "1340514114\n",
      "1340785474\n",
      "1340786088\n",
      "1340790184\n",
      "1341052328\n",
      "1341316008\n",
      "1341711784\n",
      "1342870440\n",
      "1342953896\n",
      "1343170472\n",
      "1343275944\n",
      "1343762344\n",
      "1345043368\n",
      "1345127848\n",
      "1345162152\n",
      "1345577384\n",
      "1345603496\n",
      "1345654184\n",
      "1345730984\n",
      "1345905064\n",
      "1346333096\n",
      "1346441640\n",
      "1348087720\n",
      "1348361640\n",
      "1348505512\n",
      "1348620603\n",
      "1348643131\n",
      "1348728635\n",
      "1348728635\n",
      "1349702971\n",
      "1350372155\n",
      "1350407483\n",
      "1350450491\n",
      "1350469435\n",
      "1350522171\n",
      "1350618427\n",
      "1351288123\n",
      "1351750459\n",
      "1351892283\n",
      "1351902011\n",
      "1351945531\n",
      "1352044859\n",
      "1352624955\n",
      "1353089339\n",
      "1353104187\n",
      "1353229115\n",
      "1353265467\n",
      "1353768763\n",
      "1354172731\n",
      "1357398843\n",
      "1358156091\n",
      "1358234939\n",
      "1358234939\n",
      "1358234939\n",
      "1358251323\n",
      "1358291259\n",
      "1359716155\n",
      "1359961403\n",
      "1359961403\n",
      "1360060731\n",
      "1360060731\n",
      "1360089915\n",
      "1360534843\n",
      "1363776315\n",
      "1363905339\n",
      "1364010811\n",
      "1364719099\n",
      "1365353371\n",
      "1365809051\n",
      "1366026651\n",
      "1366052251\n",
      "1366683891\n",
      "1367230547\n",
      "1367230547\n",
      "1367230582\n",
      "1367434687\n",
      "1367463359\n",
      "1367509439\n",
      "1367615935\n",
      "1367638975\n",
      "1367640511\n",
      "1367653311\n",
      "1371611071\n",
      "1372112319\n",
      "1372329919\n",
      "1372421055\n",
      "1372434367\n",
      "1372522943\n",
      "1372965311\n",
      "1372989375\n",
      "1373204927\n",
      "1373440447\n",
      "1373854143\n",
      "1374077375\n",
      "1374227903\n",
      "1374457279\n",
      "1374477759\n",
      "1374558143\n",
      "1374963135\n",
      "1375034815\n",
      "1375464383\n",
      "1375483327\n",
      "1375602111\n",
      "1375715775\n",
      "1375884223\n",
      "1376596415\n",
      "1377097663\n",
      "1377196991\n",
      "1377672127\n",
      "1377885631\n",
      "1378004415\n",
      "1378024383\n",
      "1378856895\n",
      "1379271103\n",
      "1380712383\n",
      "1380712383\n",
      "1381160895\n",
      "1382047167\n",
      "1382461375\n",
      "1382472127\n",
      "1382785983\n",
      "1382894527\n",
      "1387159215\n",
      "1387203759\n",
      "1387214511\n",
      "1388447407\n",
      "1389600431\n",
      "1390993583\n",
      "1391291567\n",
      "1391335599\n",
      "1391373487\n",
      "1391490735\n",
      "1392127151\n",
      "1392655023\n",
      "1393437871\n",
      "1393439919\n",
      "1393445039\n",
      "1393969327\n",
      "1394130095\n",
      "1394342063\n",
      "1394486736\n",
      "1394514384\n",
      "1394728912\n",
      "1395972048\n",
      "1410607056\n",
      "1410635728\n",
      "1410865104\n",
      "1411223504\n",
      "1411829200\n",
      "1413901776\n",
      "1414367696\n",
      "1426942416\n",
      "1427968464\n",
      "1428449744\n",
      "1428582352\n",
      "1428805584\n",
      "1428820432\n",
      "1429799376\n",
      "1431374800\n",
      "1434402768\n",
      "1436291536\n",
      "1436476368\n",
      "1438431696\n",
      "1439097808\n",
      "1439545296\n",
      "1440187344\n",
      "1440431056\n",
      "1440444368\n",
      "1440806352\n",
      "1440822736\n",
      "1441264592\n",
      "1441400272\n",
      "1442212304\n",
      "1442229712\n",
      "1442242000\n",
      "1442430416\n",
      "1442547664\n",
      "1442845648\n",
      "1442933712\n",
      "1445476816\n",
      "1445511632\n",
      "1445626832\n",
      "1446057936\n",
      "1446272976\n",
      "1446884816\n",
      "1446933456\n",
      "1446943696\n",
      "1446948304\n",
      "1447244752\n",
      "1447308240\n",
      "1447454672\n",
      "1447477200\n",
      "1447545808\n",
      "1447559632\n",
      "1447728592\n",
      "1447825872\n",
      "1448988112\n",
      "1449565648\n",
      "1449591760\n",
      "1449816528\n",
      "1449886160\n",
      "1449953232\n",
      "1451448784\n",
      "1451471824\n",
      "1451518928\n",
      "1451547088\n",
      "1451567056\n",
      "1451672016\n",
      "1451685840\n",
      "1451699664\n",
      "1451712976\n",
      "1451862992\n",
      "1451879888\n",
      "1451897296\n",
      "1451910608\n",
      "1451936720\n",
      "1451941395\n",
      "1451970067\n",
      "1452036627\n",
      "1452193811\n",
      "1452824595\n",
      "1452838419\n",
      "1452869139\n",
      "1452870698\n",
      "1452931114\n",
      "1455763498\n",
      "1455765924\n",
      "1456075172\n",
      "1456142244\n",
      "1456160676\n",
      "1456454564\n",
      "1456552868\n",
      "1456607140\n",
      "1456619428\n",
      "1457328548\n",
      "1457366436\n",
      "1457506724\n",
      "1460158372\n",
      "1463323556\n",
      "1463368612\n",
      "1463598500\n",
      "1463792548\n",
      "1463877540\n",
      "1464621988\n",
      "1464720804\n",
      "1464757668\n",
      "1464795556\n",
      "1465102756\n",
      "1465295268\n",
      "1465889700\n",
      "1466086308\n",
      "1466454948\n",
      "1466504612\n",
      "1466727332\n",
      "1466801060\n",
      "1466816932\n",
      "1467510180\n",
      "1467556772\n",
      "1467605412\n",
      "1467834276\n",
      "1467870628\n",
      "1467974564\n",
      "1468017572\n",
      "1468048292\n",
      "1468115364\n",
      "1468315044\n",
      "1468337060\n",
      "1468396452\n",
      "1468919204\n",
      "1470601636\n",
      "1470831524\n",
      "1473839524\n",
      "1475415972\n",
      "1475420013\n",
      "1475462509\n",
      "1475895149\n",
      "1475997037\n",
      "1476198253\n",
      "1476327789\n",
      "1476327789\n",
      "1476327789\n",
      "1476327789\n",
      "1476697453\n",
      "1476697453\n"
     ]
    }
   ],
   "source": [
    "import os\n",
    "total_size = 0\n",
    "\n",
    "for filename in os.listdir('C:\\\\Windows\\\\System32'):\n",
    "    total_size = total_size + os.path.getsize(os.path.join('C:\\\\Windows\\\\System32', filename))\n",
    "    print(total_size)\n"
   ]
  },
  {
   "cell_type": "markdown",
   "metadata": {},
   "source": [
    "Using `pathlib` on \\*nix:"
   ]
  },
  {
   "cell_type": "markdown",
   "metadata": {
    "collapsed": true
   },
   "source": [
    ">>> from pathlib import Path\n",
    ">>> total_size = 0\n",
    "\n",
    ">>> for sub_path in Path('/usr/bin').iterdir():\n",
    "...     total_size += sub_path.stat().st_size\n",
    ">>>\n",
    ">>> print(total_size)\n",
    "1903178911"
   ]
  },
  {
   "cell_type": "markdown",
   "metadata": {},
   "source": [
    "[*Return to the Top*](#python-cheatsheet)\n",
    "\n",
    "### Copying Files and Folders\n",
    "\n",
    "The shutil module provides functions for copying files, as well as entire folders."
   ]
  },
  {
   "cell_type": "code",
   "execution_count": 126,
   "metadata": {
    "collapsed": true
   },
   "outputs": [],
   "source": [
    "import shutil, os"
   ]
  },
  {
   "cell_type": "markdown",
   "metadata": {},
   "source": [
    "os.chdir('C:\\\\')\n",
    "\n",
    "shutil.copy('C:\\\\spam.txt', 'C:\\\\delicious')"
   ]
  },
  {
   "cell_type": "markdown",
   "metadata": {
    "collapsed": true
   },
   "source": [
    "shutil.copy('eggs.txt', 'C:\\\\delicious\\\\eggs2.txt')\n"
   ]
  },
  {
   "cell_type": "markdown",
   "metadata": {},
   "source": [
    "While shutil.copy() will copy a single file, shutil.copytree() will copy an entire folder and every folder and file contained in it:"
   ]
  },
  {
   "cell_type": "markdown",
   "metadata": {},
   "source": [
    "import shutil, os\n",
    "\n",
    "os.chdir('C:\\\\')\n",
    "\n",
    "shutil.copytree('C:\\\\bacon', 'C:\\\\bacon_backup')\n"
   ]
  },
  {
   "cell_type": "markdown",
   "metadata": {},
   "source": [
    "[*Return to the Top*](#python-cheatsheet)\n",
    "\n",
    "### Moving and Renaming Files and Folders"
   ]
  },
  {
   "cell_type": "markdown",
   "metadata": {
    "collapsed": true
   },
   "source": [
    "import shutil\n",
    ">>> shutil.move('C:\\\\bacon.txt', 'C:\\\\eggs')\n"
   ]
  },
  {
   "cell_type": "markdown",
   "metadata": {},
   "source": [
    "The destination path can also specify a filename. In the following example, the source file is moved and renamed:"
   ]
  },
  {
   "cell_type": "markdown",
   "metadata": {
    "collapsed": true
   },
   "source": [
    ">>> shutil.move('C:\\\\bacon.txt', 'C:\\\\eggs\\\\new_bacon.txt')\n",
    "'C:\\\\eggs\\\\new_bacon.txt'"
   ]
  },
  {
   "cell_type": "markdown",
   "metadata": {},
   "source": [
    "If there is no eggs folder, then move() will rename bacon.txt to a file named eggs."
   ]
  },
  {
   "cell_type": "markdown",
   "metadata": {
    "collapsed": true
   },
   "source": [
    ">>> shutil.move('C:\\\\bacon.txt', 'C:\\\\eggs')\n",
    "'C:\\\\eggs'"
   ]
  },
  {
   "cell_type": "markdown",
   "metadata": {},
   "source": [
    "[*Return to the Top*](#python-cheatsheet)\n",
    "\n",
    "### Permanently Deleting Files and Folders\n",
    "\n",
    "- Calling os.unlink(path) or Path.unlink() will delete the file at path.\n",
    "\n",
    "- Calling os.rmdir(path) or Path.rmdir() will delete the folder at path. This folder must be empty of any files or folders.\n",
    "\n",
    "- Calling shutil.rmtree(path) will remove the folder at path, and all files and folders it contains will also be deleted.\n",
    "\n",
    "[*Return to the Top*](#python-cheatsheet)\n",
    "\n",
    "### Safe Deletes with the send2trash Module\n",
    "\n",
    " You can install this module by running pip install send2trash from a Terminal window."
   ]
  },
  {
   "cell_type": "markdown",
   "metadata": {
    "collapsed": true
   },
   "source": [
    ">>> import send2trash\n",
    "\n",
    ">>> with open('bacon.txt', 'a') as bacon_file: # creates the file\n",
    "...     bacon_file.write('Bacon is not a vegetable.')\n",
    "25\n",
    "\n",
    ">>> send2trash.send2trash('bacon.txt')"
   ]
  },
  {
   "cell_type": "markdown",
   "metadata": {},
   "source": [
    "[*Return to the Top*](#python-cheatsheet)\n",
    "\n",
    "### Walking a Directory Tree"
   ]
  },
  {
   "cell_type": "markdown",
   "metadata": {
    "collapsed": true
   },
   "source": [
    ">>> import os\n",
    ">>>\n",
    ">>> for folder_name, subfolders, filenames in os.walk('C:\\\\delicious'):\n",
    ">>>     print('The current folder is {}'.format(folder_name))\n",
    ">>>\n",
    ">>>     for subfolder in subfolders:\n",
    ">>>         print('SUBFOLDER OF {}: {}'.format(folder_name, subfolder))\n",
    ">>>     for filename in filenames:\n",
    ">>>         print('FILE INSIDE {}: {}'.format(folder_name, filename))\n",
    ">>>\n",
    ">>>     print('')\n",
    "The current folder is C:\\delicious\n",
    "SUBFOLDER OF C:\\delicious: cats\n",
    "SUBFOLDER OF C:\\delicious: walnut\n",
    "FILE INSIDE C:\\delicious: spam.txt\n",
    "\n",
    "The current folder is C:\\delicious\\cats\n",
    "FILE INSIDE C:\\delicious\\cats: catnames.txt\n",
    "FILE INSIDE C:\\delicious\\cats: zophie.jpg\n",
    "\n",
    "The current folder is C:\\delicious\\walnut\n",
    "SUBFOLDER OF C:\\delicious\\walnut: waffles\n",
    "\n",
    "The current folder is C:\\delicious\\walnut\\waffles\n",
    "FILE INSIDE C:\\delicious\\walnut\\waffles: butter.txt"
   ]
  },
  {
   "cell_type": "markdown",
   "metadata": {},
   "source": [
    "[*Return to the Top*](#python-cheatsheet)\n",
    "\n",
    "`pathlib` provides a lot more functionality than the ones listed above,\n",
    "like getting file name, getting file extension, reading/writing a file without\n",
    "manually opening it, etc. Check out the\n",
    "[official documentation](https://docs.python.org/3/library/pathlib.html)\n",
    "if you want to know more!\n",
    "\n",
    "## Reading and Writing Files\n",
    "\n",
    "### The File Reading/Writing Process\n",
    "\n",
    "To read/write to a file in Python, you will want to use the `with`\n",
    "statement, which will close the file for you after you are done.\n",
    "\n",
    "[*Return to the Top*](#python-cheatsheet)\n",
    "\n",
    "### Opening and reading files with the open() function"
   ]
  },
  {
   "cell_type": "code",
   "execution_count": 129,
   "metadata": {},
   "outputs": [
    {
     "ename": "FileNotFoundError",
     "evalue": "[Errno 2] No such file or directory: 'C:\\\\Users\\\\your_home_folder\\\\hello.txt'",
     "output_type": "error",
     "traceback": [
      "\u001b[1;31m---------------------------------------------------------------------------\u001b[0m",
      "\u001b[1;31mFileNotFoundError\u001b[0m                         Traceback (most recent call last)",
      "\u001b[1;32m<ipython-input-129-b8a742e82eb5>\u001b[0m in \u001b[0;36m<module>\u001b[1;34m()\u001b[0m\n\u001b[1;32m----> 1\u001b[1;33m \u001b[1;32mwith\u001b[0m \u001b[0mopen\u001b[0m\u001b[1;33m(\u001b[0m\u001b[1;34m'C:\\\\Users\\\\your_home_folder\\\\hello.txt'\u001b[0m\u001b[1;33m)\u001b[0m \u001b[1;32mas\u001b[0m \u001b[0mhello_file\u001b[0m\u001b[1;33m:\u001b[0m\u001b[1;33m\u001b[0m\u001b[0m\n\u001b[0m\u001b[0;32m      2\u001b[0m     \u001b[0mhello_content\u001b[0m \u001b[1;33m=\u001b[0m \u001b[0mhello_file\u001b[0m\u001b[1;33m.\u001b[0m\u001b[0mread\u001b[0m\u001b[1;33m(\u001b[0m\u001b[1;33m)\u001b[0m\u001b[1;33m\u001b[0m\u001b[0m\n\u001b[0;32m      3\u001b[0m \u001b[0mhello_content\u001b[0m\u001b[1;33m\u001b[0m\u001b[0m\n",
      "\u001b[1;31mFileNotFoundError\u001b[0m: [Errno 2] No such file or directory: 'C:\\\\Users\\\\your_home_folder\\\\hello.txt'"
     ]
    }
   ],
   "source": [
    ">>> with open('C:\\\\Users\\\\your_home_folder\\\\hello.txt') as hello_file:\n",
    "...     hello_content = hello_file.read()\n",
    ">>> hello_content"
   ]
  },
  {
   "cell_type": "code",
   "execution_count": null,
   "metadata": {
    "collapsed": true
   },
   "outputs": [],
   "source": [
    ">>> # Alternatively, you can use the *readlines()* method to get a list of string values from the file, one string for each line of text:\n",
    "\n",
    ">>> with open('sonnet29.txt') as sonnet_file:\n",
    "...     sonnet_file.readlines()\n",
    "[When, in disgrace with fortune and men's eyes,\\n', ' I all alone beweep my\n",
    "outcast state,\\n', And trouble deaf heaven with my bootless cries,\\n', And\n",
    "look upon myself and curse my fate,']\n",
    "\n",
    ">>> # You can also iterate through the file line by line:\n",
    ">>> with open('sonnet29.txt') as sonnet_file:\n",
    "...     for line in sonnet_file: # note the new line character will be included in the line\n",
    "...         print(line, end='')\n",
    "\n",
    "When, in disgrace with fortune and men's eyes,\n",
    "I all alone beweep my outcast state,\n",
    "And trouble deaf heaven with my bootless cries,\n",
    "And look upon myself and curse my fate,"
   ]
  },
  {
   "cell_type": "markdown",
   "metadata": {},
   "source": [
    "[*Return to the Top*](#python-cheatsheet)\n",
    "\n",
    "### Writing to Files"
   ]
  },
  {
   "cell_type": "code",
   "execution_count": null,
   "metadata": {
    "collapsed": true
   },
   "outputs": [],
   "source": [
    ">>> with open('bacon.txt', 'w') as bacon_file:\n",
    "...     bacon_file.write('Hello world!\\n')\n",
    "13\n",
    "\n",
    ">>> with open('bacon.txt', 'a') as bacon_file:\n",
    "...     bacon_file.write('Bacon is not a vegetable.')\n",
    "25\n",
    "\n",
    ">>> with open('bacon.txt') as bacon_file:\n",
    "...     content = bacon_file.read()\n",
    "\n",
    ">>> print(content)\n",
    "Hello world!\n",
    "Bacon is not a vegetable."
   ]
  },
  {
   "cell_type": "markdown",
   "metadata": {},
   "source": [
    "[*Return to the Top*](#python-cheatsheet)\n",
    "\n",
    "### Saving Variables with the shelve Module\n",
    "\n",
    "To save variables:"
   ]
  },
  {
   "cell_type": "code",
   "execution_count": null,
   "metadata": {
    "collapsed": true
   },
   "outputs": [],
   "source": [
    ">>> import shelve\n",
    "\n",
    ">>> cats = ['Zophie', 'Pooka', 'Simon']\n",
    ">>> with shelve.open('mydata') as shelf_file:\n",
    "...     shelf_file['cats'] = cats"
   ]
  },
  {
   "cell_type": "markdown",
   "metadata": {},
   "source": [
    "To open and read variables:"
   ]
  },
  {
   "cell_type": "code",
   "execution_count": null,
   "metadata": {
    "collapsed": true
   },
   "outputs": [],
   "source": [
    ">>> with shelve.open('mydata') as shelf_file:\n",
    "...     print(type(shelf_file))\n",
    "...     print(shelf_file['cats'])\n",
    "<class 'shelve.DbfilenameShelf'>\n",
    "['Zophie', 'Pooka', 'Simon']"
   ]
  },
  {
   "cell_type": "markdown",
   "metadata": {},
   "source": [
    "Just like dictionaries, shelf values have keys() and values() methods that will return list-like values of the keys and values in the shelf. Since these methods return list-like values instead of true lists, you should pass them to the list() function to get them in list form."
   ]
  },
  {
   "cell_type": "code",
   "execution_count": null,
   "metadata": {
    "collapsed": true
   },
   "outputs": [],
   "source": [
    ">>> with shelve.open('mydata') as shelf_file:\n",
    "...     print(list(shelf_file.keys()))\n",
    "...     print(list(shelf_file.values()))\n",
    "['cats']\n",
    "[['Zophie', 'Pooka', 'Simon']]"
   ]
  },
  {
   "cell_type": "markdown",
   "metadata": {},
   "source": [
    "[*Return to the Top*](#python-cheatsheet)\n",
    "\n",
    "### Saving Variables with the pprint.pformat() Function"
   ]
  },
  {
   "cell_type": "code",
   "execution_count": null,
   "metadata": {
    "collapsed": true
   },
   "outputs": [],
   "source": [
    ">>> import pprint\n",
    "\n",
    ">>> cats = [{'name': 'Zophie', 'desc': 'chubby'}, {'name': 'Pooka', 'desc': 'fluffy'}]\n",
    "\n",
    ">>> pprint.pformat(cats)\n",
    "\"[{'desc': 'chubby', 'name': 'Zophie'}, {'desc': 'fluffy', 'name': 'Pooka'}]\"\n",
    "\n",
    ">>> with open('myCats.py', 'w') as file_obj:\n",
    "...     file_obj.write('cats = {}\\n'.format(pprint.pformat(cats)))\n",
    "83"
   ]
  },
  {
   "cell_type": "markdown",
   "metadata": {},
   "source": [
    "[*Return to the Top*](#python-cheatsheet)\n",
    "\n",
    "### Reading ZIP Files"
   ]
  },
  {
   "cell_type": "code",
   "execution_count": null,
   "metadata": {
    "collapsed": true
   },
   "outputs": [],
   "source": [
    ">>> import zipfile, os\n",
    "\n",
    ">>> os.chdir('C:\\\\')    # move to the folder with example.zip\n",
    ">>> with zipfile.ZipFile('example.zip') as example_zip:\n",
    "...     print(example_zip.namelist())\n",
    "...     spam_info = example_zip.getinfo('spam.txt')\n",
    "...     print(spam_info.file_size)\n",
    "...     print(spam_info.compress_size)\n",
    "...     print('Compressed file is %sx smaller!' % (round(spam_info.file_size / spam_info.compress_size, 2)))\n",
    "\n",
    "['spam.txt', 'cats/', 'cats/catnames.txt', 'cats/zophie.jpg']\n",
    "13908\n",
    "3828\n",
    "'Compressed file is 3.63x smaller!'"
   ]
  },
  {
   "cell_type": "markdown",
   "metadata": {},
   "source": [
    "[*Return to the Top*](#python-cheatsheet)\n",
    "\n",
    "### Extracting from ZIP Files\n",
    "\n",
    "The extractall() method for ZipFile objects extracts all the files and folders from a ZIP file into the current working directory."
   ]
  },
  {
   "cell_type": "code",
   "execution_count": null,
   "metadata": {
    "collapsed": true
   },
   "outputs": [],
   "source": [
    ">>> import zipfile, os\n",
    "\n",
    ">>> os.chdir('C:\\\\')    # move to the folder with example.zip\n",
    "\n",
    ">>> with zipfile.ZipFile('example.zip') as example_zip:\n",
    "...     example_zip.extractall()"
   ]
  },
  {
   "cell_type": "markdown",
   "metadata": {},
   "source": [
    "The extract() method for ZipFile objects will extract a single file from the ZIP file. Continue the interactive shell example:"
   ]
  },
  {
   "cell_type": "code",
   "execution_count": null,
   "metadata": {
    "collapsed": true
   },
   "outputs": [],
   "source": [
    ">>> with zipfile.ZipFile('example.zip') as example_zip:\n",
    "...     print(example_zip.extract('spam.txt'))\n",
    "...     print(example_zip.extract('spam.txt', 'C:\\\\some\\\\new\\\\folders'))\n",
    "'C:\\\\spam.txt'\n",
    "'C:\\\\some\\\\new\\\\folders\\\\spam.txt'"
   ]
  },
  {
   "cell_type": "markdown",
   "metadata": {},
   "source": [
    "[*Return to the Top*](#python-cheatsheet)\n",
    "\n",
    "### Creating and Adding to ZIP Files"
   ]
  },
  {
   "cell_type": "code",
   "execution_count": null,
   "metadata": {
    "collapsed": true
   },
   "outputs": [],
   "source": [
    ">>> import zipfile\n",
    "\n",
    ">>> with zipfile.ZipFile('new.zip', 'w') as new_zip:\n",
    "...     new_zip.write('spam.txt', compress_type=zipfile.ZIP_DEFLATED)"
   ]
  },
  {
   "cell_type": "markdown",
   "metadata": {},
   "source": [
    "This code will create a new ZIP file named new.zip that has the compressed contents of spam.txt.\n",
    "\n",
    "[*Return to the Top*](#python-cheatsheet)\n",
    "\n",
    "## JSON, YAML and configuration files\n",
    "\n",
    "### JSON\n",
    "\n",
    "Open a JSON file with:"
   ]
  },
  {
   "cell_type": "code",
   "execution_count": null,
   "metadata": {
    "collapsed": true
   },
   "outputs": [],
   "source": [
    "import json\n",
    "with open(\"filename.json\", \"r\") as f:\n",
    "    content = json.loads(f.read())"
   ]
  },
  {
   "cell_type": "markdown",
   "metadata": {},
   "source": [
    "Write a JSON file with:"
   ]
  },
  {
   "cell_type": "code",
   "execution_count": null,
   "metadata": {
    "collapsed": true
   },
   "outputs": [],
   "source": [
    "import json\n",
    "\n",
    "content = {\"name\": \"Joe\", \"age\": 20}\n",
    "with open(\"filename.json\", \"w\") as f:\n",
    "    f.write(json.dumps(content, indent=2))"
   ]
  },
  {
   "cell_type": "markdown",
   "metadata": {},
   "source": [
    "[*Return to the Top*](#python-cheatsheet)\n",
    "\n",
    "### YAML\n",
    "\n",
    "Compared to JSON, YAML allows a much better humain maintainance and gives ability to add comments.\n",
    "It is a convinient choice for configuration files where human will have to edit.\n",
    "\n",
    "There are two main librairies allowing to access to YAML files:\n",
    "\n",
    "- [PyYaml](https://pypi.python.org/pypi/PyYAML)\n",
    "- [Ruamel.yaml](https://pypi.python.org/pypi/ruamel.yaml)\n",
    "\n",
    "Install them using `pip install` in your virtual environment.\n",
    "\n",
    "The first one it easier to use but the second one, Ruamel, implements much better the YAML\n",
    "specification, and allow for example to modify a YAML content without altering comments.\n",
    "\n",
    "Open a YAML file with:"
   ]
  },
  {
   "cell_type": "code",
   "execution_count": null,
   "metadata": {
    "collapsed": true
   },
   "outputs": [],
   "source": [
    "from ruamel.yaml import YAML\n",
    "\n",
    "with open(\"filename.yaml\") as f:\n",
    "    yaml=YAML()\n",
    "    yaml.load(f)"
   ]
  },
  {
   "cell_type": "markdown",
   "metadata": {},
   "source": [
    "[*Return to the Top*](#python-cheatsheet)\n",
    "\n",
    "### Anyconfig\n",
    "\n",
    "[Anyconfig](https://pypi.python.org/pypi/anyconfig) is a very handy package allowing to abstract completly the underlying configuration file format. It allows to load a Python dictionary from JSON, YAML, TOML, and so on.\n",
    "\n",
    "Install it with:"
   ]
  },
  {
   "cell_type": "code",
   "execution_count": null,
   "metadata": {
    "collapsed": true
   },
   "outputs": [],
   "source": [
    "%%bash\n",
    "pip install anyconfig"
   ]
  },
  {
   "cell_type": "markdown",
   "metadata": {},
   "source": [
    "Usage:"
   ]
  },
  {
   "cell_type": "code",
   "execution_count": null,
   "metadata": {
    "collapsed": true
   },
   "outputs": [],
   "source": [
    "import anyconfig\n",
    "\n",
    "conf1 = anyconfig.load(\"/path/to/foo/conf.d/a.yml\")"
   ]
  },
  {
   "cell_type": "markdown",
   "metadata": {},
   "source": [
    "[*Return to the Top*](#python-cheatsheet)\n",
    "\n",
    "## Debugging\n",
    "\n",
    "### Raising Exceptions\n",
    "\n",
    "Exceptions are raised with a raise statement. In code, a raise statement consists of the following:\n",
    "\n",
    "- The raise keyword\n",
    "- A call to the Exception() function\n",
    "- A string with a helpful error message passed to the Exception() function"
   ]
  },
  {
   "cell_type": "code",
   "execution_count": null,
   "metadata": {
    "collapsed": true
   },
   "outputs": [],
   "source": [
    ">>> raise Exception('This is the error message.')\n",
    "Traceback (most recent call last):\n",
    "  File \"<pyshell#191>\", line 1, in <module>\n",
    "    raise Exception('This is the error message.')\n",
    "Exception: This is the error message."
   ]
  },
  {
   "cell_type": "markdown",
   "metadata": {},
   "source": [
    "Often it’s the code that calls the function, not the function itself, that knows how to handle an expection. So you will commonly see a raise statement inside a function and the try and except statements in the code calling the function."
   ]
  },
  {
   "cell_type": "code",
   "execution_count": null,
   "metadata": {
    "collapsed": true
   },
   "outputs": [],
   "source": [
    "def box_print(symbol, width, height):\n",
    "    if len(symbol) != 1:\n",
    "      raise Exception('Symbol must be a single character string.')\n",
    "    if width <= 2:\n",
    "      raise Exception('Width must be greater than 2.')\n",
    "    if height <= 2:\n",
    "      raise Exception('Height must be greater than 2.')\n",
    "    print(symbol * width)\n",
    "    for i in range(height - 2):\n",
    "        print(symbol + (' ' * (width - 2)) + symbol)\n",
    "    print(symbol * width)\n",
    "for sym, w, h in (('*', 4, 4), ('O', 20, 5), ('x', 1, 3), ('ZZ', 3, 3)):\n",
    "    try:\n",
    "        box_print(sym, w, h)\n",
    "  except Exception as err:\n",
    "      print('An exception happened: ' + str(err))"
   ]
  },
  {
   "cell_type": "markdown",
   "metadata": {},
   "source": [
    "[*Return to the Top*](#python-cheatsheet)\n",
    "\n",
    "### Getting the Traceback as a String\n",
    "\n",
    "The traceback is displayed by Python whenever a raised exception goes unhandled. But can also obtain it as a string by calling traceback.format_exc(). This function is useful if you want the information from an exception’s traceback but also want an except statement to gracefully handle the exception. You will need to import Python’s traceback module before calling this function."
   ]
  },
  {
   "cell_type": "code",
   "execution_count": null,
   "metadata": {
    "collapsed": true
   },
   "outputs": [],
   "source": [
    ">>> import traceback\n",
    "\n",
    ">>> try:\n",
    ">>>      raise Exception('This is the error message.')\n",
    ">>> except:\n",
    ">>>      with open('errorInfo.txt', 'w') as error_file:\n",
    ">>>          error_file.write(traceback.format_exc())\n",
    ">>>      print('The traceback info was written to errorInfo.txt.')\n",
    "116\n",
    "The traceback info was written to errorInfo.txt."
   ]
  },
  {
   "cell_type": "markdown",
   "metadata": {},
   "source": [
    "The 116 is the return value from the write() method, since 116 characters were written to the file. The traceback text was written to errorInfo.txt."
   ]
  },
  {
   "cell_type": "code",
   "execution_count": null,
   "metadata": {
    "collapsed": true
   },
   "outputs": [],
   "source": [
    "Traceback (most recent call last):\n",
    "  File \"<pyshell#28>\", line 2, in <module>\n",
    "Exception: This is the error message."
   ]
  },
  {
   "cell_type": "markdown",
   "metadata": {},
   "source": [
    "[*Return to the Top*](#python-cheatsheet)\n",
    "\n",
    "### Assertions\n",
    "\n",
    "An assertion is a sanity check to make sure your code isn’t doing something obviously wrong. These sanity checks are performed by assert statements. If the sanity check fails, then an AssertionError exception is raised. In code, an assert statement consists of the following:\n",
    "\n",
    "- The assert keyword\n",
    "- A condition (that is, an expression that evaluates to True or False)\n",
    "- A comma\n",
    "- A string to display when the condition is False"
   ]
  },
  {
   "cell_type": "code",
   "execution_count": null,
   "metadata": {
    "collapsed": true
   },
   "outputs": [],
   "source": [
    ">>> pod_bay_door_status = 'open'\n",
    "\n",
    ">>> assert pod_bay_door_status == 'open', 'The pod bay doors need to be \"open\".'\n",
    "\n",
    ">>> pod_bay_door_status = 'I\\'m sorry, Dave. I\\'m afraid I can\\'t do that.'\n",
    "\n",
    ">>> assert pod_bay_door_status == 'open', 'The pod bay doors need to be \"open\".'\n",
    "\n",
    "Traceback (most recent call last):\n",
    "  File \"<pyshell#10>\", line 1, in <module>\n",
    "    assert pod_bay_door_status == 'open', 'The pod bay doors need to be \"open\".'\n",
    "AssertionError: The pod bay doors need to be \"open\"."
   ]
  },
  {
   "cell_type": "markdown",
   "metadata": {},
   "source": [
    "In plain English, an assert statement says, “I assert that this condition holds true, and if not, there is a bug somewhere in the program.” Unlike exceptions, your code should not handle assert statements with try and except; if an assert fails, your program should crash. By failing fast like this, you shorten the time between the original cause of the bug and when you first notice the bug. This will reduce the amount of code you will have to check before finding the code that’s causing the bug.\n",
    "\n",
    "Disabling Assertions\n",
    "\n",
    "Assertions can be disabled by passing the -O option when running Python.\n",
    "\n",
    "[*Return to the Top*](#python-cheatsheet)\n",
    "\n",
    "### Logging\n",
    "\n",
    "To enable the logging module to display log messages on your screen as your program runs, copy the following to the top of your program (but under the #! python shebang line):"
   ]
  },
  {
   "cell_type": "code",
   "execution_count": null,
   "metadata": {
    "collapsed": true
   },
   "outputs": [],
   "source": [
    "import logging\n",
    "\n",
    "logging.basicConfig(level=logging.DEBUG, format=' %(asctime)s - %(levelname)s- %(message)s')"
   ]
  },
  {
   "cell_type": "markdown",
   "metadata": {},
   "source": [
    "Say you wrote a function to calculate the factorial of a number. In mathematics, factorial 4 is 1 × 2 × 3 × 4, or 24. Factorial 7 is 1 × 2 × 3 × 4 × 5 × 6 × 7, or 5,040. Open a new file editor window and enter the following code. It has a bug in it, but you will also enter several log messages to help yourself figure out what is going wrong. Save the program as factorialLog.py."
   ]
  },
  {
   "cell_type": "code",
   "execution_count": null,
   "metadata": {
    "collapsed": true
   },
   "outputs": [],
   "source": [
    ">>> import logging\n",
    ">>>\n",
    ">>> logging.basicConfig(level=logging.DEBUG, format=' %(asctime)s - %(levelname)s- %(message)s')\n",
    ">>>\n",
    ">>> logging.debug('Start of program')\n",
    ">>>\n",
    ">>> def factorial(n):\n",
    ">>>\n",
    ">>>     logging.debug('Start of factorial(%s)' % (n))\n",
    ">>>     total = 1\n",
    ">>>\n",
    ">>>     for i in range(1, n + 1):\n",
    ">>>         total *= i\n",
    ">>>         logging.debug('i is ' + str(i) + ', total is ' + str(total))\n",
    ">>>\n",
    ">>>     logging.debug('End of factorial(%s)' % (n))\n",
    ">>>\n",
    ">>>     return total\n",
    ">>>\n",
    ">>> print(factorial(5))\n",
    ">>> logging.debug('End of program')\n",
    "2015-05-23 16:20:12,664 - DEBUG - Start of program\n",
    "2015-05-23 16:20:12,664 - DEBUG - Start of factorial(5)\n",
    "2015-05-23 16:20:12,665 - DEBUG - i is 0, total is 0\n",
    "2015-05-23 16:20:12,668 - DEBUG - i is 1, total is 0\n",
    "2015-05-23 16:20:12,670 - DEBUG - i is 2, total is 0\n",
    "2015-05-23 16:20:12,673 - DEBUG - i is 3, total is 0\n",
    "2015-05-23 16:20:12,675 - DEBUG - i is 4, total is 0\n",
    "2015-05-23 16:20:12,678 - DEBUG - i is 5, total is 0\n",
    "2015-05-23 16:20:12,680 - DEBUG - End of factorial(5)\n",
    "0\n",
    "2015-05-23 16:20:12,684 - DEBUG - End of program"
   ]
  },
  {
   "cell_type": "markdown",
   "metadata": {},
   "source": [
    "[*Return to the Top*](#python-cheatsheet)\n",
    "\n",
    "### Logging Levels\n",
    "\n",
    "Logging levels provide a way to categorize your log messages by importance. There are five logging levels, described in Table 10-1 from least to most important. Messages can be logged at each level using a different logging function.\n",
    "\n",
    "| Level      | Logging Function     | Description                                                                                                                    |\n",
    "| ---------- | -------------------- | ------------------------------------------------------------------------------------------------------------------------------ |\n",
    "| `DEBUG`    | `logging.debug()`    | The lowest level. Used for small details. Usually you care about these messages only when diagnosing problems.                 |\n",
    "| `INFO`     | `logging.info()`     | Used to record information on general events in your program or confirm that things are working at their point in the program. |\n",
    "| `WARNING`  | `logging.warning()`  | Used to indicate a potential problem that doesn’t prevent the program from working but might do so in the future.              |\n",
    "| `ERROR`    | `logging.error()`    | Used to record an error that caused the program to fail to do something.                                                       |\n",
    "| `CRITICAL` | `logging.critical()` | The highest level. Used to indicate a fatal error that has caused or is about to cause the program to stop running entirely.   |\n",
    "\n",
    "[*Return to the Top*](#python-cheatsheet)\n",
    "\n",
    "### Disabling Logging\n",
    "\n",
    "After you’ve debugged your program, you probably don’t want all these log messages cluttering the screen. The logging.disable() function disables these so that you don’t have to go into your program and remove all the logging calls by hand."
   ]
  },
  {
   "cell_type": "code",
   "execution_count": null,
   "metadata": {
    "collapsed": true
   },
   "outputs": [],
   "source": [
    ">>> import logging\n",
    "\n",
    ">>> logging.basicConfig(level=logging.INFO, format=' %(asctime)s -%(levelname)s - %(message)s')\n",
    "\n",
    ">>> logging.critical('Critical error! Critical error!')\n",
    "2015-05-22 11:10:48,054 - CRITICAL - Critical error! Critical error!\n",
    "\n",
    ">>> logging.disable(logging.CRITICAL)\n",
    "\n",
    ">>> logging.critical('Critical error! Critical error!')\n",
    "\n",
    ">>> logging.error('Error! Error!')"
   ]
  },
  {
   "cell_type": "markdown",
   "metadata": {},
   "source": [
    "[*Return to the Top*](#python-cheatsheet)\n",
    "\n",
    "### Logging to a File\n",
    "\n",
    "Instead of displaying the log messages to the screen, you can write them to a text file. The logging.basicConfig() function takes a filename keyword argument, like so:"
   ]
  },
  {
   "cell_type": "code",
   "execution_count": null,
   "metadata": {
    "collapsed": true
   },
   "outputs": [],
   "source": [
    "import logging\n",
    "\n",
    "logging.basicConfig(filename='myProgramLog.txt', level=logging.DEBUG, format='%(asctime)s - %(levelname)s - %(message)s')"
   ]
  },
  {
   "cell_type": "markdown",
   "metadata": {},
   "source": [
    "[*Return to the Top*](#python-cheatsheet)\n",
    "\n",
    "## Lambda Functions\n",
    "\n",
    "This function:"
   ]
  },
  {
   "cell_type": "code",
   "execution_count": 130,
   "metadata": {},
   "outputs": [
    {
     "data": {
      "text/plain": [
       "8"
      ]
     },
     "execution_count": 130,
     "metadata": {},
     "output_type": "execute_result"
    }
   ],
   "source": [
    "def add(x, y):\n",
    "        return x + y\n",
    "\n",
    "add(5, 3)\n"
   ]
  },
  {
   "cell_type": "markdown",
   "metadata": {},
   "source": [
    "Is equivalent to the *lambda* function:"
   ]
  },
  {
   "cell_type": "code",
   "execution_count": 131,
   "metadata": {},
   "outputs": [
    {
     "data": {
      "text/plain": [
       "8"
      ]
     },
     "execution_count": 131,
     "metadata": {},
     "output_type": "execute_result"
    }
   ],
   "source": [
    "add = lambda x, y: x + y\n",
    "add(5, 3)\n"
   ]
  },
  {
   "cell_type": "markdown",
   "metadata": {},
   "source": [
    "It's not even need to bind it to a name like add before:"
   ]
  },
  {
   "cell_type": "code",
   "execution_count": 132,
   "metadata": {},
   "outputs": [
    {
     "data": {
      "text/plain": [
       "8"
      ]
     },
     "execution_count": 132,
     "metadata": {},
     "output_type": "execute_result"
    }
   ],
   "source": [
    "(lambda x, y: x + y)(5, 3)\n"
   ]
  },
  {
   "cell_type": "markdown",
   "metadata": {},
   "source": [
    "Like regular nested functions, lambdas also work as lexical closures:"
   ]
  },
  {
   "cell_type": "code",
   "execution_count": 133,
   "metadata": {
    "collapsed": true
   },
   "outputs": [],
   "source": [
    "def make_adder(n):\n",
    "    return lambda x: x + n\n",
    "\n",
    "plus_3 = make_adder(3)\n",
    "\n",
    "plus_5 = make_adder(5)"
   ]
  },
  {
   "cell_type": "code",
   "execution_count": 134,
   "metadata": {},
   "outputs": [
    {
     "data": {
      "text/plain": [
       "7"
      ]
     },
     "execution_count": 134,
     "metadata": {},
     "output_type": "execute_result"
    }
   ],
   "source": [
    "plus_3(4)"
   ]
  },
  {
   "cell_type": "code",
   "execution_count": 135,
   "metadata": {},
   "outputs": [
    {
     "data": {
      "text/plain": [
       "9"
      ]
     },
     "execution_count": 135,
     "metadata": {},
     "output_type": "execute_result"
    }
   ],
   "source": [
    "plus_5(4)"
   ]
  },
  {
   "cell_type": "markdown",
   "metadata": {},
   "source": [
    "Note: lambda can only evaluate an expression, like a single line of code.\n",
    "\n",
    "[*Return to the Top*](#python-cheatsheet)\n",
    "\n",
    "## Ternary Conditional Operator\n",
    "\n",
    "Many programming languages have a ternary operator, which define a conditional expression. The most common usage is to make a terse simple conditional assignment statement. In other words, it offers one-line code to evaluate the first expression if the condition is true, otherwise it evaluates the second expression."
   ]
  },
  {
   "cell_type": "markdown",
   "metadata": {
    "collapsed": true
   },
   "source": [
    "<expression1> if <condition> else <expression2>"
   ]
  },
  {
   "cell_type": "markdown",
   "metadata": {},
   "source": [
    "Example:"
   ]
  },
  {
   "cell_type": "code",
   "execution_count": 137,
   "metadata": {},
   "outputs": [
    {
     "name": "stdout",
     "output_type": "stream",
     "text": [
      "kid\n"
     ]
    }
   ],
   "source": [
    ">>> age = 15\n",
    "\n",
    ">>> print('kid' if age < 18 else 'adult')\n"
   ]
  },
  {
   "cell_type": "markdown",
   "metadata": {},
   "source": [
    "Ternary operators can be changed:"
   ]
  },
  {
   "cell_type": "code",
   "execution_count": 138,
   "metadata": {},
   "outputs": [
    {
     "name": "stdout",
     "output_type": "stream",
     "text": [
      "teenager\n"
     ]
    }
   ],
   "source": [
    "age = 15\n",
    "\n",
    "print('kid' if age < 13 else 'teenager' if age < 18 else 'adult')\n"
   ]
  },
  {
   "cell_type": "markdown",
   "metadata": {},
   "source": [
    "The code above is equivalent to:"
   ]
  },
  {
   "cell_type": "code",
   "execution_count": 139,
   "metadata": {},
   "outputs": [
    {
     "name": "stdout",
     "output_type": "stream",
     "text": [
      "teenager\n"
     ]
    }
   ],
   "source": [
    "if age < 18:\n",
    "    if age < 12:\n",
    "        print('kid')\n",
    "    else:\n",
    "        print('teenager')\n",
    "else:\n",
    "    print('adult')"
   ]
  },
  {
   "cell_type": "markdown",
   "metadata": {},
   "source": [
    "[*Return to the Top*](#python-cheatsheet)\n",
    "\n",
    "## Virtual Environment\n",
    "\n",
    "The use of a Virtual Environment is to test python code in encapsulated environments and to also avoid filling the base Python installation with libraries we might use for only one project.\n",
    "\n",
    "[*Return to the Top*](#python-cheatsheet)\n",
    "\n",
    "### virtualenv\n",
    "\n",
    "1. Install virtualenv"
   ]
  },
  {
   "cell_type": "code",
   "execution_count": null,
   "metadata": {
    "collapsed": true
   },
   "outputs": [],
   "source": [
    "pip install virtualenv"
   ]
  },
  {
   "cell_type": "markdown",
   "metadata": {},
   "source": [
    "1. Install virtualenvwrapper-win (Windows)"
   ]
  },
  {
   "cell_type": "code",
   "execution_count": null,
   "metadata": {
    "collapsed": true
   },
   "outputs": [],
   "source": [
    "pip install virtualenvwrapper-win"
   ]
  },
  {
   "cell_type": "markdown",
   "metadata": {},
   "source": [
    "Usage:\n",
    "\n",
    "1. Make a Virtual Environment"
   ]
  },
  {
   "cell_type": "code",
   "execution_count": null,
   "metadata": {
    "collapsed": true
   },
   "outputs": [],
   "source": [
    "mkvirtualenv HelloWold"
   ]
  },
  {
   "cell_type": "markdown",
   "metadata": {},
   "source": [
    "Anything we install now will be specific to this project. And available to the projects we connect to this environment.\n",
    "\n",
    "1. Set Project Directory"
   ]
  },
  {
   "cell_type": "code",
   "execution_count": null,
   "metadata": {
    "collapsed": true
   },
   "outputs": [],
   "source": [
    "To bind our virtualenv with our current working directory we simply enter:\n",
    "\n",
    "    setprojectdir ."
   ]
  },
  {
   "cell_type": "markdown",
   "metadata": {},
   "source": [
    "1. Deactivate"
   ]
  },
  {
   "cell_type": "code",
   "execution_count": null,
   "metadata": {
    "collapsed": true
   },
   "outputs": [],
   "source": [
    "To move onto something else in the command line type ‘deactivate’ to deactivate your environment.\n",
    "\n",
    "    deactivate\n",
    "\n",
    "Notice how the parenthesis disappear."
   ]
  },
  {
   "cell_type": "markdown",
   "metadata": {},
   "source": [
    "1. Workon"
   ]
  },
  {
   "cell_type": "code",
   "execution_count": null,
   "metadata": {
    "collapsed": true
   },
   "outputs": [],
   "source": [
    "Open up the command prompt and type ‘workon HelloWold’ to activate the environment and move into your root project folder\n",
    "\n",
    "    workon HelloWold"
   ]
  },
  {
   "cell_type": "markdown",
   "metadata": {},
   "source": [
    "[*Return to the Top*](#python-cheatsheet)\n",
    "\n",
    "### pipenv\n",
    "\n",
    "> Pipenv — the officially recommended Python packaging tool from Python.org, free (as in freedom).\n",
    "\n",
    "1. Install pipenv"
   ]
  },
  {
   "cell_type": "code",
   "execution_count": null,
   "metadata": {
    "collapsed": true
   },
   "outputs": [],
   "source": [
    "pip install pipenv"
   ]
  },
  {
   "cell_type": "markdown",
   "metadata": {},
   "source": [
    "1. Enter your Project directory and install the Packages for your project"
   ]
  },
  {
   "cell_type": "code",
   "execution_count": null,
   "metadata": {
    "collapsed": true
   },
   "outputs": [],
   "source": [
    "cd my_project\n",
    "pipenv install <package>"
   ]
  },
  {
   "cell_type": "markdown",
   "metadata": {},
   "source": [
    "Pipenv will install your package and create a Pipfile for you in your project’s directory. The Pipfile is used to track which dependencies your project needs in case you need to re-install them.\n",
    "\n",
    "1. Uninstall Packages"
   ]
  },
  {
   "cell_type": "code",
   "execution_count": null,
   "metadata": {
    "collapsed": true
   },
   "outputs": [],
   "source": [
    "pipenv uninstall <package>"
   ]
  },
  {
   "cell_type": "markdown",
   "metadata": {},
   "source": [
    "1. Activate the Virtual Environment associated with your Python project"
   ]
  },
  {
   "cell_type": "code",
   "execution_count": null,
   "metadata": {
    "collapsed": true
   },
   "outputs": [],
   "source": [
    "pipenv shell"
   ]
  },
  {
   "cell_type": "markdown",
   "metadata": {},
   "source": [
    "1. Exit the Virtual Environment"
   ]
  },
  {
   "cell_type": "code",
   "execution_count": null,
   "metadata": {
    "collapsed": true
   },
   "outputs": [],
   "source": [
    "exit"
   ]
  },
  {
   "cell_type": "markdown",
   "metadata": {},
   "source": [
    "Find more information and a video in [docs.pipenv.org](https://docs.pipenv.org/).\n",
    "\n",
    "[*Return to the Top*](#python-cheatsheet)"
   ]
  }
 ],
 "metadata": {
  "kernelspec": {
   "display_name": "Python 3",
   "language": "python",
   "name": "python3"
  },
  "language_info": {
   "codemirror_mode": {
    "name": "ipython",
    "version": 3
   },
   "file_extension": ".py",
   "mimetype": "text/x-python",
   "name": "python",
   "nbconvert_exporter": "python",
   "pygments_lexer": "ipython3",
   "version": "3.5.3"
  }
 },
 "nbformat": 4,
 "nbformat_minor": 2
}
